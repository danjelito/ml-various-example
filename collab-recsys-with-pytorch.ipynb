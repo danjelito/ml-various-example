{
 "cells": [
  {
   "cell_type": "code",
   "execution_count": 1,
   "metadata": {},
   "outputs": [],
   "source": [
    "import pandas as pd\n",
    "import numpy as np\n",
    "from sklearn.model_selection import train_test_split\n",
    "import torch\n",
    "import torch.nn as nn\n",
    "from torch.utils.data import DataLoader, Dataset\n",
    "from sklearn.preprocessing import LabelEncoder"
   ]
  },
  {
   "cell_type": "markdown",
   "metadata": {},
   "source": [
    "# Data Loading"
   ]
  },
  {
   "cell_type": "code",
   "execution_count": 2,
   "metadata": {},
   "outputs": [],
   "source": [
    "path_movie = \"dataset/netflix-movie/Netflix_Dataset_Movie.csv\"\n",
    "path_rating = \"dataset/netflix-movie/Netflix_Dataset_Rating.csv\"\n",
    "\n",
    "\n",
    "movie_data = pd.read_csv(path_movie).loc[lambda df_: df_[\"Year\"] >= 2005]\n",
    "rating_data = pd.read_csv(path_rating).loc[lambda df_: df_[\"Movie_ID\"].isin(movie_data[\"Movie_ID\"].\n",
    "values)]"
   ]
  },
  {
   "cell_type": "code",
   "execution_count": 3,
   "metadata": {},
   "outputs": [],
   "source": [
    "movie_data.columns = movie_data.columns.str.lower().str.replace(\" \", \"_\")\n",
    "rating_data.columns = rating_data.columns.str.lower().str.replace(\" \", \"_\")"
   ]
  },
  {
   "cell_type": "code",
   "execution_count": 4,
   "metadata": {},
   "outputs": [
    {
     "name": "stdout",
     "output_type": "stream",
     "text": [
      "Number of movie: 512\n",
      "Number of user: 82224\n",
      "Number of rating: 222272\n"
     ]
    }
   ],
   "source": [
    "print(f\"Number of movie: {movie_data['movie_id'].nunique()}\")\n",
    "print(f\"Number of user: {rating_data['user_id'].nunique()}\")\n",
    "print(f\"Number of rating: {rating_data.shape[0]}\")"
   ]
  },
  {
   "cell_type": "code",
   "execution_count": 5,
   "metadata": {},
   "outputs": [
    {
     "data": {
      "text/html": [
       "<div>\n",
       "<style scoped>\n",
       "    .dataframe tbody tr th:only-of-type {\n",
       "        vertical-align: middle;\n",
       "    }\n",
       "\n",
       "    .dataframe tbody tr th {\n",
       "        vertical-align: top;\n",
       "    }\n",
       "\n",
       "    .dataframe thead th {\n",
       "        text-align: right;\n",
       "    }\n",
       "</style>\n",
       "<table border=\"1\" class=\"dataframe\">\n",
       "  <thead>\n",
       "    <tr style=\"text-align: right;\">\n",
       "      <th></th>\n",
       "      <th>movie_id</th>\n",
       "      <th>year</th>\n",
       "      <th>name</th>\n",
       "    </tr>\n",
       "  </thead>\n",
       "  <tbody>\n",
       "    <tr>\n",
       "      <th>16</th>\n",
       "      <td>17</td>\n",
       "      <td>2005</td>\n",
       "      <td>7 Seconds</td>\n",
       "    </tr>\n",
       "    <tr>\n",
       "      <th>84</th>\n",
       "      <td>85</td>\n",
       "      <td>2005</td>\n",
       "      <td>Elfen Lied</td>\n",
       "    </tr>\n",
       "    <tr>\n",
       "      <th>90</th>\n",
       "      <td>91</td>\n",
       "      <td>2005</td>\n",
       "      <td>WWE: Royal Rumble 2005</td>\n",
       "    </tr>\n",
       "    <tr>\n",
       "      <th>148</th>\n",
       "      <td>149</td>\n",
       "      <td>2005</td>\n",
       "      <td>The Edward R. Murrow Collection</td>\n",
       "    </tr>\n",
       "    <tr>\n",
       "      <th>150</th>\n",
       "      <td>151</td>\n",
       "      <td>2005</td>\n",
       "      <td>Sleepover Nightmare</td>\n",
       "    </tr>\n",
       "  </tbody>\n",
       "</table>\n",
       "</div>"
      ],
      "text/plain": [
       "     movie_id  year                             name\n",
       "16         17  2005                        7 Seconds\n",
       "84         85  2005                       Elfen Lied\n",
       "90         91  2005           WWE: Royal Rumble 2005\n",
       "148       149  2005  The Edward R. Murrow Collection\n",
       "150       151  2005              Sleepover Nightmare"
      ]
     },
     "execution_count": 5,
     "metadata": {},
     "output_type": "execute_result"
    }
   ],
   "source": [
    "movie_data.head()"
   ]
  },
  {
   "cell_type": "code",
   "execution_count": 6,
   "metadata": {},
   "outputs": [
    {
     "data": {
      "text/html": [
       "<div>\n",
       "<style scoped>\n",
       "    .dataframe tbody tr th:only-of-type {\n",
       "        vertical-align: middle;\n",
       "    }\n",
       "\n",
       "    .dataframe tbody tr th {\n",
       "        vertical-align: top;\n",
       "    }\n",
       "\n",
       "    .dataframe thead th {\n",
       "        text-align: right;\n",
       "    }\n",
       "</style>\n",
       "<table border=\"1\" class=\"dataframe\">\n",
       "  <thead>\n",
       "    <tr style=\"text-align: right;\">\n",
       "      <th></th>\n",
       "      <th>user_id</th>\n",
       "      <th>rating</th>\n",
       "      <th>movie_id</th>\n",
       "    </tr>\n",
       "  </thead>\n",
       "  <tbody>\n",
       "    <tr>\n",
       "      <th>13420</th>\n",
       "      <td>2187374</td>\n",
       "      <td>4</td>\n",
       "      <td>17</td>\n",
       "    </tr>\n",
       "    <tr>\n",
       "      <th>13421</th>\n",
       "      <td>2503129</td>\n",
       "      <td>5</td>\n",
       "      <td>17</td>\n",
       "    </tr>\n",
       "    <tr>\n",
       "      <th>13422</th>\n",
       "      <td>263315</td>\n",
       "      <td>3</td>\n",
       "      <td>17</td>\n",
       "    </tr>\n",
       "    <tr>\n",
       "      <th>13423</th>\n",
       "      <td>608309</td>\n",
       "      <td>3</td>\n",
       "      <td>17</td>\n",
       "    </tr>\n",
       "    <tr>\n",
       "      <th>13424</th>\n",
       "      <td>2336678</td>\n",
       "      <td>2</td>\n",
       "      <td>17</td>\n",
       "    </tr>\n",
       "  </tbody>\n",
       "</table>\n",
       "</div>"
      ],
      "text/plain": [
       "       user_id  rating  movie_id\n",
       "13420  2187374       4        17\n",
       "13421  2503129       5        17\n",
       "13422   263315       3        17\n",
       "13423   608309       3        17\n",
       "13424  2336678       2        17"
      ]
     },
     "execution_count": 6,
     "metadata": {},
     "output_type": "execute_result"
    }
   ],
   "source": [
    "rating_data.head()"
   ]
  },
  {
   "cell_type": "markdown",
   "metadata": {},
   "source": [
    "# Label Encoding"
   ]
  },
  {
   "cell_type": "markdown",
   "metadata": {},
   "source": [
    "However, the movie_id and user_id do not start with 0. We need to encode them to make them start with 0 and increase by 1."
   ]
  },
  {
   "cell_type": "code",
   "execution_count": 7,
   "metadata": {},
   "outputs": [
    {
     "data": {
      "text/html": [
       "<div>\n",
       "<style scoped>\n",
       "    .dataframe tbody tr th:only-of-type {\n",
       "        vertical-align: middle;\n",
       "    }\n",
       "\n",
       "    .dataframe tbody tr th {\n",
       "        vertical-align: top;\n",
       "    }\n",
       "\n",
       "    .dataframe thead th {\n",
       "        text-align: right;\n",
       "    }\n",
       "</style>\n",
       "<table border=\"1\" class=\"dataframe\">\n",
       "  <thead>\n",
       "    <tr style=\"text-align: right;\">\n",
       "      <th></th>\n",
       "      <th>movie_id</th>\n",
       "      <th>year</th>\n",
       "      <th>name</th>\n",
       "      <th>movie_id_encoded</th>\n",
       "    </tr>\n",
       "  </thead>\n",
       "  <tbody>\n",
       "    <tr>\n",
       "      <th>16</th>\n",
       "      <td>17</td>\n",
       "      <td>2005</td>\n",
       "      <td>7 Seconds</td>\n",
       "      <td>0</td>\n",
       "    </tr>\n",
       "    <tr>\n",
       "      <th>84</th>\n",
       "      <td>85</td>\n",
       "      <td>2005</td>\n",
       "      <td>Elfen Lied</td>\n",
       "      <td>1</td>\n",
       "    </tr>\n",
       "    <tr>\n",
       "      <th>90</th>\n",
       "      <td>91</td>\n",
       "      <td>2005</td>\n",
       "      <td>WWE: Royal Rumble 2005</td>\n",
       "      <td>2</td>\n",
       "    </tr>\n",
       "    <tr>\n",
       "      <th>148</th>\n",
       "      <td>149</td>\n",
       "      <td>2005</td>\n",
       "      <td>The Edward R. Murrow Collection</td>\n",
       "      <td>3</td>\n",
       "    </tr>\n",
       "    <tr>\n",
       "      <th>150</th>\n",
       "      <td>151</td>\n",
       "      <td>2005</td>\n",
       "      <td>Sleepover Nightmare</td>\n",
       "      <td>4</td>\n",
       "    </tr>\n",
       "  </tbody>\n",
       "</table>\n",
       "</div>"
      ],
      "text/plain": [
       "     movie_id  year                             name  movie_id_encoded\n",
       "16         17  2005                        7 Seconds                 0\n",
       "84         85  2005                       Elfen Lied                 1\n",
       "90         91  2005           WWE: Royal Rumble 2005                 2\n",
       "148       149  2005  The Edward R. Murrow Collection                 3\n",
       "150       151  2005              Sleepover Nightmare                 4"
      ]
     },
     "execution_count": 7,
     "metadata": {},
     "output_type": "execute_result"
    }
   ],
   "source": [
    "movie_encoder = LabelEncoder()\n",
    "movie_data[\"movie_id_encoded\"] = movie_encoder.fit_transform(movie_data[\"movie_id\"])\n",
    "\n",
    "movie_data.head()"
   ]
  },
  {
   "cell_type": "code",
   "execution_count": 8,
   "metadata": {},
   "outputs": [
    {
     "data": {
      "text/html": [
       "<div>\n",
       "<style scoped>\n",
       "    .dataframe tbody tr th:only-of-type {\n",
       "        vertical-align: middle;\n",
       "    }\n",
       "\n",
       "    .dataframe tbody tr th {\n",
       "        vertical-align: top;\n",
       "    }\n",
       "\n",
       "    .dataframe thead th {\n",
       "        text-align: right;\n",
       "    }\n",
       "</style>\n",
       "<table border=\"1\" class=\"dataframe\">\n",
       "  <thead>\n",
       "    <tr style=\"text-align: right;\">\n",
       "      <th></th>\n",
       "      <th>user_id</th>\n",
       "      <th>rating</th>\n",
       "      <th>movie_id</th>\n",
       "      <th>user_id_encoded</th>\n",
       "      <th>movie_id_encoded</th>\n",
       "    </tr>\n",
       "  </thead>\n",
       "  <tbody>\n",
       "    <tr>\n",
       "      <th>13420</th>\n",
       "      <td>2187374</td>\n",
       "      <td>4</td>\n",
       "      <td>17</td>\n",
       "      <td>67864</td>\n",
       "      <td>0</td>\n",
       "    </tr>\n",
       "    <tr>\n",
       "      <th>13421</th>\n",
       "      <td>2503129</td>\n",
       "      <td>5</td>\n",
       "      <td>17</td>\n",
       "      <td>77654</td>\n",
       "      <td>0</td>\n",
       "    </tr>\n",
       "    <tr>\n",
       "      <th>13422</th>\n",
       "      <td>263315</td>\n",
       "      <td>3</td>\n",
       "      <td>17</td>\n",
       "      <td>8119</td>\n",
       "      <td>0</td>\n",
       "    </tr>\n",
       "    <tr>\n",
       "      <th>13423</th>\n",
       "      <td>608309</td>\n",
       "      <td>3</td>\n",
       "      <td>17</td>\n",
       "      <td>18998</td>\n",
       "      <td>0</td>\n",
       "    </tr>\n",
       "    <tr>\n",
       "      <th>13424</th>\n",
       "      <td>2336678</td>\n",
       "      <td>2</td>\n",
       "      <td>17</td>\n",
       "      <td>72409</td>\n",
       "      <td>0</td>\n",
       "    </tr>\n",
       "  </tbody>\n",
       "</table>\n",
       "</div>"
      ],
      "text/plain": [
       "       user_id  rating  movie_id  user_id_encoded  movie_id_encoded\n",
       "13420  2187374       4        17            67864                 0\n",
       "13421  2503129       5        17            77654                 0\n",
       "13422   263315       3        17             8119                 0\n",
       "13423   608309       3        17            18998                 0\n",
       "13424  2336678       2        17            72409                 0"
      ]
     },
     "execution_count": 8,
     "metadata": {},
     "output_type": "execute_result"
    }
   ],
   "source": [
    "user_encoder = LabelEncoder()\n",
    "\n",
    "rating_data[\"user_id_encoded\"] = user_encoder.fit_transform(rating_data[\"user_id\"])\n",
    "rating_data[\"movie_id_encoded\"] = movie_encoder.transform(rating_data[\"movie_id\"])\n",
    "\n",
    "rating_data.head()"
   ]
  },
  {
   "cell_type": "markdown",
   "metadata": {},
   "source": [
    "# Dataset and Dataloader Preparation"
   ]
  },
  {
   "cell_type": "markdown",
   "metadata": {},
   "source": [
    "After that we can prepare dataset and dataloader."
   ]
  },
  {
   "cell_type": "code",
   "execution_count": 9,
   "metadata": {},
   "outputs": [
    {
     "name": "stdout",
     "output_type": "stream",
     "text": [
      "Train shape = (211158, 5)\n",
      "Val shape = (11114, 5)\n"
     ]
    }
   ],
   "source": [
    "class MovieDataset(Dataset):\n",
    "    def __init__(self, users, movies, ratings):\n",
    "        self.users = users\n",
    "        self.movies = movies\n",
    "        self.ratings = ratings\n",
    "\n",
    "    def __len__(self):\n",
    "        return self.ratings.shape[0]\n",
    "\n",
    "    def __getitem__(self, index):\n",
    "        user = self.users[index]\n",
    "        movie = self.movies[index]\n",
    "        rating = self.ratings[index]\n",
    "        return {\n",
    "            \"user\": torch.tensor(user, dtype=torch.int64),\n",
    "            \"movie\": torch.tensor(movie, dtype=torch.int64),\n",
    "            \"rating\": torch.tensor(rating, dtype=torch.float32),\n",
    "        }\n",
    "\n",
    "\n",
    "df_train, df_val = train_test_split(\n",
    "    rating_data, test_size=0.05, random_state=1, shuffle=True,\n",
    ")\n",
    "\n",
    "train_dataset = MovieDataset(\n",
    "    df_train[\"user_id_encoded\"].values, \n",
    "    df_train[\"movie_id_encoded\"].values, \n",
    "    df_train[\"rating\"].values\n",
    ")\n",
    "val_dataset = MovieDataset(\n",
    "    df_val[\"user_id_encoded\"].values, \n",
    "    df_val[\"movie_id_encoded\"].values, \n",
    "    df_val[\"rating\"].values\n",
    ")\n",
    "train_loader = DataLoader(train_dataset, batch_size=32, shuffle=False)\n",
    "val_loader = DataLoader(val_dataset, batch_size=32, shuffle=False)\n",
    "\n",
    "\n",
    "print(f\"Train shape = {df_train.shape}\")\n",
    "print(f\"Val shape = {df_val.shape}\")"
   ]
  },
  {
   "cell_type": "code",
   "execution_count": 10,
   "metadata": {},
   "outputs": [
    {
     "name": "stdout",
     "output_type": "stream",
     "text": [
      "Batch 1\n",
      "User: tensor([79945, 73558, 15187, 65311, 69461, 35161, 11705,  3652, 60936, 63387,\n",
      "        17241, 12927, 45297, 58741, 70594, 80414, 12858, 14489, 30031, 32766,\n",
      "        70980, 51573, 17784, 17474, 45709, 58321, 82023, 10965, 54236, 26300,\n",
      "        42007, 25841])\n",
      "Movie: tensor([117,  15, 123,  92, 120, 120,  24, 120,  35,  15,  35,  38, 120, 120,\n",
      "         92,  35, 120,  15,  15,  15,  35, 116, 116, 116,  12, 120,  35,  12,\n",
      "         12,  21,  15, 120])\n",
      "Rating: tensor([3., 4., 4., 4., 4., 4., 3., 5., 4., 3., 5., 5., 4., 5., 2., 4., 5., 3.,\n",
      "        4., 3., 5., 3., 3., 5., 3., 4., 1., 3., 5., 5., 4., 5.])\n"
     ]
    }
   ],
   "source": [
    "for batch_idx, x in enumerate(train_loader):\n",
    "    print(f\"Batch {batch_idx + 1}\")\n",
    "    print(f\"User: {x.get('user')}\") \n",
    "    print(f\"Movie: {x.get('movie')}\") \n",
    "    print(f\"Rating: {x.get('rating')}\") \n",
    "\n",
    "    break"
   ]
  },
  {
   "cell_type": "code",
   "execution_count": 11,
   "metadata": {},
   "outputs": [
    {
     "name": "stdout",
     "output_type": "stream",
     "text": [
      "Batch 1\n",
      "User: torch.Size([32])\n",
      "Movie: torch.Size([32])\n",
      "Rating: torch.Size([32])\n"
     ]
    }
   ],
   "source": [
    "for batch_idx, x in enumerate(train_loader):\n",
    "    print(f\"Batch {batch_idx + 1}\")\n",
    "    print(f\"User: {x.get('user').shape}\") \n",
    "    print(f\"Movie: {x.get('movie').shape}\") \n",
    "    print(f\"Rating: {x.get('rating').shape}\") \n",
    "\n",
    "    break"
   ]
  },
  {
   "cell_type": "markdown",
   "metadata": {},
   "source": [
    "# Model Architecture"
   ]
  },
  {
   "cell_type": "code",
   "execution_count": 12,
   "metadata": {},
   "outputs": [],
   "source": [
    "class RecSys(nn.Module):\n",
    "    def __init__(self, num_users, num_movies):\n",
    "        super().__init__()\n",
    "        self.user_embeds = nn.Embedding(num_embeddings=num_users, embedding_dim=32)\n",
    "        self.movie_embeds = nn.Embedding(num_embeddings=num_movies, embedding_dim=32)\n",
    "        self.linear = nn.Linear(in_features=64, out_features=1)\n",
    "\n",
    "    def forward(self, user_id, movie_id):\n",
    "        user_embeds = self.user_embeds(user_id)\n",
    "        movie_embeds = self.movie_embeds(movie_id)\n",
    "        output = torch.cat([user_embeds, movie_embeds,], dim=1)\n",
    "        output = self.linear(output) \n",
    "        return output"
   ]
  },
  {
   "cell_type": "markdown",
   "metadata": {},
   "source": [
    "Intuition: embedding layer"
   ]
  },
  {
   "cell_type": "code",
   "execution_count": 13,
   "metadata": {},
   "outputs": [
    {
     "data": {
      "text/plain": [
       "tensor([[-0.2082]], grad_fn=<AddmmBackward0>)"
      ]
     },
     "execution_count": 13,
     "metadata": {},
     "output_type": "execute_result"
    }
   ],
   "source": [
    "# sample forward  \n",
    "sample_model = RecSys(num_users=3, num_movies=5)\n",
    "zero = torch.zeros(1, dtype=torch.long)\n",
    "sample_model(user_id=zero, movie_id=zero)"
   ]
  },
  {
   "cell_type": "code",
   "execution_count": 14,
   "metadata": {},
   "outputs": [
    {
     "data": {
      "text/plain": [
       "tensor([ 0.4413,  1.4442, -0.0590,  0.1726,  1.0295,  0.6764, -0.2685,  1.7788,\n",
       "         1.0331,  0.8247,  1.2816,  2.3189,  0.5206,  0.9737, -0.0908,  0.2900,\n",
       "        -0.7403,  1.7751, -1.3632,  0.7035,  1.0892, -1.5456, -0.9757,  1.1953,\n",
       "         1.1891,  0.6957, -1.4244,  1.2019, -1.7380,  0.6180, -0.4272, -1.2800],\n",
       "       grad_fn=<EmbeddingBackward0>)"
      ]
     },
     "execution_count": 14,
     "metadata": {},
     "output_type": "execute_result"
    }
   ],
   "source": [
    "sample_model.user_embeds(torch.tensor(0))"
   ]
  },
  {
   "cell_type": "code",
   "execution_count": 15,
   "metadata": {},
   "outputs": [
    {
     "data": {
      "text/plain": [
       "tensor([ 0.9873, -0.0590,  1.7936,  1.0566, -1.1143,  0.2417, -0.2459, -0.4595,\n",
       "         0.5420, -0.0959,  0.6436,  1.4494, -0.1323, -0.7115, -1.1255,  0.0782,\n",
       "        -1.0961, -0.5254, -1.7225, -0.5179,  0.7030,  1.4099,  1.3415,  1.4291,\n",
       "        -0.1547, -1.1236,  0.8359,  1.2500,  0.0871, -0.2413,  0.2581, -0.3197],\n",
       "       grad_fn=<EmbeddingBackward0>)"
      ]
     },
     "execution_count": 15,
     "metadata": {},
     "output_type": "execute_result"
    }
   ],
   "source": [
    "sample_model.user_embeds(torch.tensor(1))"
   ]
  },
  {
   "cell_type": "code",
   "execution_count": 16,
   "metadata": {},
   "outputs": [
    {
     "data": {
      "text/plain": [
       "tensor([ 1.0172,  1.3604,  0.8126,  1.5725, -1.1071,  1.3814, -0.3294, -0.4838,\n",
       "        -1.7807,  1.0019, -0.0116,  0.3569,  2.8579,  0.3632, -2.1023,  0.6500,\n",
       "         1.2915,  0.2603,  0.0479, -0.1491,  0.8740, -0.2258, -0.0701, -0.6733,\n",
       "        -1.6698,  1.0064, -1.1168, -0.2634, -1.7533,  0.0965,  1.6248, -0.5973],\n",
       "       grad_fn=<EmbeddingBackward0>)"
      ]
     },
     "execution_count": 16,
     "metadata": {},
     "output_type": "execute_result"
    }
   ],
   "source": [
    "sample_model.user_embeds(torch.tensor(2))"
   ]
  },
  {
   "cell_type": "markdown",
   "metadata": {},
   "source": [
    "# Training and Validation"
   ]
  },
  {
   "cell_type": "code",
   "execution_count": 17,
   "metadata": {},
   "outputs": [
    {
     "name": "stdout",
     "output_type": "stream",
     "text": [
      "Epoch 1  /5 | train RMSE =  1.12176563 | val RMSE =  0.96423549\n",
      "Epoch 2  /5 | train RMSE =  0.95660068 | val RMSE =  0.96612627\n",
      "Epoch 3  /5 | train RMSE =  0.92620938 | val RMSE =  0.97035144\n",
      "Epoch 4  /5 | train RMSE =  0.88416434 | val RMSE =  0.97591637\n",
      "Epoch 5  /5 | train RMSE =  0.83994390 | val RMSE =  0.98304811\n"
     ]
    }
   ],
   "source": [
    "num_users = rating_data[\"user_id_encoded\"].nunique()\n",
    "num_movies = movie_data[\"movie_id_encoded\"].nunique()\n",
    "num_train_samples = df_train.shape[0]\n",
    "num_val_samples = df_val.shape[0]\n",
    "recsys = RecSys(num_movies=num_movies, num_users=num_users)\n",
    "\n",
    "criterion = nn.MSELoss()\n",
    "lr = 0.001\n",
    "optimizer = torch.optim.Adam(lr=lr, params=recsys.parameters())\n",
    "\n",
    "epochs = 5\n",
    "print_step = 1\n",
    "\n",
    "\n",
    "def train_one_step(model, optimizer, user_batch, movie_batch, rating_batch):\n",
    "    optimizer.zero_grad()\n",
    "    output = model(user_batch, movie_batch)\n",
    "    loss = criterion(output.flatten(), rating_batch)\n",
    "    num_samples = output.shape[0]\n",
    "    loss.backward()\n",
    "    optimizer.step()\n",
    "    return loss.item() * num_samples\n",
    "\n",
    "\n",
    "def val_one_step(model, user_batch, movie_batch, rating_batch):\n",
    "    output = model(user_batch, movie_batch)\n",
    "    loss = criterion(output.flatten(), rating_batch)\n",
    "    num_samples = output.shape[0]\n",
    "    return loss.item() * num_samples\n",
    "\n",
    "\n",
    "for epoch in range(epochs):\n",
    "\n",
    "    total_train_squared_error = 0.0\n",
    "    total_val_squared_error = 0.0\n",
    "\n",
    "    for batch_idx, x in enumerate(train_loader):\n",
    "        user_batch = x.get(\"user\")\n",
    "        movie_batch = x.get(\"movie\")\n",
    "        rating_batch = x.get(\"rating\")\n",
    "        recsys.train()\n",
    "        loss = train_one_step(recsys, optimizer, user_batch, movie_batch, rating_batch)\n",
    "        total_train_squared_error += loss\n",
    "\n",
    "    for batch_idx, x in enumerate(val_loader):\n",
    "        user_batch = x.get(\"user\")\n",
    "        movie_batch = x.get(\"movie\")\n",
    "        rating_batch = x.get(\"rating\")\n",
    "        recsys.eval()\n",
    "        with torch.no_grad():\n",
    "            loss = val_one_step(recsys, user_batch, movie_batch, rating_batch)\n",
    "            total_val_squared_error += loss\n",
    "\n",
    "    if (epoch == 0) or ((epoch + 1) % print_step == 0):\n",
    "        # print train and validation result\n",
    "        train_mse = total_train_squared_error / num_train_samples\n",
    "        val_mse = total_val_squared_error / num_val_samples\n",
    "        train_rmse = np.sqrt(train_mse)\n",
    "        val_rmse = np.sqrt(val_mse)\n",
    "        print(\n",
    "            f\"Epoch {epoch+1: <3}/{epochs} | train RMSE = {train_rmse: .8f} | val RMSE = {val_rmse: .8f}\"\n",
    "        )"
   ]
  },
  {
   "cell_type": "markdown",
   "metadata": {},
   "source": [
    "# Recommendation"
   ]
  },
  {
   "cell_type": "code",
   "execution_count": 18,
   "metadata": {},
   "outputs": [],
   "source": [
    "def movie_id_encoded_to_title(id):\n",
    "    return movie_data.loc[movie_data[\"movie_id_encoded\"] == id, \"name\"].values[0]\n",
    "\n",
    "def recommend(user_id_to_pred):\n",
    "    # all his past rating history\n",
    "    past_user_ratings = rating_data.loc[rating_data[\"user_id_encoded\"] == user_id_to_pred]\n",
    "    # set of movies already rated by the user\n",
    "    rated_movie_ids_encoded = set(past_user_ratings[\"movie_id_encoded\"].values)\n",
    "\n",
    "    # all of our movies\n",
    "    all_movie_ids_encoded = movie_data.loc[:, \"movie_id_encoded\"].values\n",
    "    all_movie_ids_encoded = torch.from_numpy(all_movie_ids_encoded)\n",
    "\n",
    "    user_id = torch.tensor(user_id_to_pred, dtype=torch.int64)\n",
    "    user_id_expanded = user_id.expand(size=all_movie_ids_encoded.shape)\n",
    "\n",
    "    recsys.eval()\n",
    "    with torch.no_grad():\n",
    "        predicted_ratings = recsys(movie_id=all_movie_ids_encoded, user_id=user_id_expanded)\n",
    "\n",
    "    # filter out movies already rated by user\n",
    "    top_recommendations = [\n",
    "        (movie_id_encoded.item(), rating.item())\n",
    "        for movie_id_encoded, rating in zip(all_movie_ids_encoded, predicted_ratings)\n",
    "        if movie_id_encoded.item() not in rated_movie_ids_encoded\n",
    "    ]\n",
    "\n",
    "    # sort and get top 10 recommendation\n",
    "    top_recommendations.sort(key=lambda x: x[1], reverse=True)\n",
    "    top_recommendations = top_recommendations[:10]\n",
    "\n",
    "    # max the rating to 5\n",
    "    top_recommendations = [(movie_id_encoded, min(rating, 5.0)) for (movie_id_encoded, rating) in top_recommendations]\n",
    "\n",
    "    print(f\"User {user_id_to_pred}\")\n",
    "    print(\"======================================================\")\n",
    "    print(f\"Past History:\")\n",
    "    for row in past_user_ratings.itertuples(index=True, name=\"Pandas\"):\n",
    "        movie_name = movie_id_encoded_to_title(row.movie_id_encoded)\n",
    "        print(f\"Movie: {movie_name} (rating {row.rating})\")\n",
    "\n",
    "    print(\"======================================================\")\n",
    "    print(f\"Recommendation:\")\n",
    "    for encoded_id, pred_rating in top_recommendations:\n",
    "        movie_name = movie_id_encoded_to_title(encoded_id)\n",
    "        print(f\"Movie: {movie_name} (predicted rating {pred_rating:.2f})\")"
   ]
  },
  {
   "cell_type": "code",
   "execution_count": 19,
   "metadata": {},
   "outputs": [
    {
     "name": "stdout",
     "output_type": "stream",
     "text": [
      "User 0\n",
      "======================================================\n",
      "Past History:\n",
      "Movie: The Hitchhiker's Guide to the Galaxy (rating 4)\n",
      "Movie: The Amityville Horror (rating 3)\n",
      "Movie: Batman Begins (rating 3)\n",
      "======================================================\n",
      "Recommendation:\n",
      "Movie: Land of the Dead (predicted rating 3.99)\n",
      "Movie: Pooh's Heffalump Halloween Movie (predicted rating 3.93)\n",
      "Movie: Alias: Season 4 (predicted rating 3.81)\n",
      "Movie: Coach Carter (predicted rating 3.68)\n",
      "Movie: The L Word: Season 2 (predicted rating 3.53)\n",
      "Movie: Pooh's Heffalump Movie (predicted rating 3.46)\n",
      "Movie: Mermaid Forest (predicted rating 3.41)\n",
      "Movie: Faith of My Fathers (predicted rating 3.35)\n",
      "Movie: Bigger Than the Sky (predicted rating 3.32)\n",
      "Movie: Hostage (predicted rating 3.30)\n"
     ]
    }
   ],
   "source": [
    "recommend(0)"
   ]
  },
  {
   "cell_type": "code",
   "execution_count": 24,
   "metadata": {},
   "outputs": [
    {
     "name": "stdout",
     "output_type": "stream",
     "text": [
      "User 3\n",
      "======================================================\n",
      "Past History:\n",
      "Movie: The Pacifier (rating 4)\n",
      "Movie: Hostage (rating 4)\n",
      "Movie: Coach Carter (rating 5)\n",
      "======================================================\n",
      "Recommendation:\n",
      "Movie: Land of the Dead (predicted rating 4.99)\n",
      "Movie: Pooh's Heffalump Halloween Movie (predicted rating 4.93)\n",
      "Movie: Alias: Season 4 (predicted rating 4.82)\n",
      "Movie: Batman Begins (predicted rating 4.80)\n",
      "Movie: The L Word: Season 2 (predicted rating 4.53)\n",
      "Movie: Pooh's Heffalump Movie (predicted rating 4.47)\n",
      "Movie: Mermaid Forest (predicted rating 4.42)\n",
      "Movie: Faith of My Fathers (predicted rating 4.36)\n",
      "Movie: Bigger Than the Sky (predicted rating 4.33)\n",
      "Movie: Saving Face (predicted rating 4.29)\n"
     ]
    }
   ],
   "source": [
    "recommend(3)"
   ]
  },
  {
   "cell_type": "markdown",
   "metadata": {},
   "source": [
    "# Check the Embedding"
   ]
  },
  {
   "cell_type": "code",
   "execution_count": 25,
   "metadata": {},
   "outputs": [
    {
     "data": {
      "text/plain": [
       "tensor([ 0.3512, -1.2781, -0.5436, -1.3368,  0.2616,  0.4616,  0.0638,  1.3292,\n",
       "        -0.1842, -1.0550, -0.4159,  0.6357, -0.4987, -1.3834, -0.6750, -0.2105,\n",
       "        -0.7722, -0.3345, -0.1555, -1.2376, -1.0561,  0.8264,  1.0725, -0.8379,\n",
       "        -0.9016,  1.6871, -0.4200, -0.2159,  1.4906, -0.8288, -0.6790, -0.1686],\n",
       "       grad_fn=<EmbeddingBackward0>)"
      ]
     },
     "execution_count": 25,
     "metadata": {},
     "output_type": "execute_result"
    }
   ],
   "source": [
    "recsys.user_embeds(torch.tensor(4))"
   ]
  },
  {
   "cell_type": "code",
   "execution_count": 29,
   "metadata": {},
   "outputs": [
    {
     "data": {
      "text/plain": [
       "tensor([ 1.0885,  0.1655, -0.5696, -0.2680,  0.3881,  0.0510, -1.9215,  0.7248,\n",
       "         0.9678, -0.7449,  2.2349, -1.9566, -1.4311,  1.0081,  0.4885, -0.3890,\n",
       "        -1.1664,  0.7785,  0.0940, -1.1736,  0.3443,  1.2190, -1.5367,  0.0814,\n",
       "         1.2966, -0.1840, -1.0546,  0.0117, -2.4107,  0.7779, -1.6893, -0.7434],\n",
       "       grad_fn=<EmbeddingBackward0>)"
      ]
     },
     "execution_count": 29,
     "metadata": {},
     "output_type": "execute_result"
    }
   ],
   "source": [
    "recsys.user_embeds(torch.tensor(1002))"
   ]
  },
  {
   "cell_type": "code",
   "execution_count": 30,
   "metadata": {},
   "outputs": [
    {
     "data": {
      "text/plain": [
       "tensor([ 0.1664,  0.1603,  0.1392,  0.5608,  0.7516,  0.3981, -0.1408,  0.7497,\n",
       "         0.7126, -1.6032,  0.6615,  1.7132,  0.0111,  2.3691, -0.3437, -1.1289,\n",
       "         1.5248, -0.0262, -0.5698, -0.7279, -1.2728,  1.5623,  0.1241,  1.0471,\n",
       "         1.2422, -1.3977,  0.6566,  1.3975, -1.3887, -1.0352,  0.8116,  0.4505],\n",
       "       grad_fn=<EmbeddingBackward0>)"
      ]
     },
     "execution_count": 30,
     "metadata": {},
     "output_type": "execute_result"
    }
   ],
   "source": [
    "recsys.movie_embeds(torch.tensor(4))"
   ]
  },
  {
   "cell_type": "code",
   "execution_count": 31,
   "metadata": {},
   "outputs": [
    {
     "data": {
      "text/plain": [
       "tensor([-0.2841, -0.7781, -1.6210, -0.3829, -1.0402,  0.6156,  0.3045, -0.4976,\n",
       "        -1.6081, -1.9383, -2.2449,  2.4617, -0.0662,  0.8831,  0.9313, -0.8876,\n",
       "        -1.7698, -1.2476, -0.6703, -0.4683, -0.1761, -0.1463,  0.7554,  0.7601,\n",
       "         0.1288, -0.5142,  0.8479, -2.2829,  0.4148,  1.7130,  1.9453,  2.0603],\n",
       "       grad_fn=<EmbeddingBackward0>)"
      ]
     },
     "execution_count": 31,
     "metadata": {},
     "output_type": "execute_result"
    }
   ],
   "source": [
    "recsys.movie_embeds(torch.tensor(400))"
   ]
  }
 ],
 "metadata": {
  "kernelspec": {
   "display_name": "ml",
   "language": "python",
   "name": "python3"
  },
  "language_info": {
   "codemirror_mode": {
    "name": "ipython",
    "version": 3
   },
   "file_extension": ".py",
   "mimetype": "text/x-python",
   "name": "python",
   "nbconvert_exporter": "python",
   "pygments_lexer": "ipython3",
   "version": "3.12.4"
  }
 },
 "nbformat": 4,
 "nbformat_minor": 2
}
