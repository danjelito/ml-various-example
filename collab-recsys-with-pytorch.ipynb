{
 "cells": [
  {
   "cell_type": "code",
   "execution_count": 182,
   "metadata": {},
   "outputs": [],
   "source": [
    "import pandas as pd\n",
    "import numpy as np\n",
    "from sklearn.model_selection import train_test_split\n",
    "import torch\n",
    "import torch.nn as nn\n",
    "from torch.utils.data import DataLoader, Dataset\n",
    "from sklearn.preprocessing import LabelEncoder"
   ]
  },
  {
   "cell_type": "markdown",
   "metadata": {},
   "source": [
    "# Data Loading"
   ]
  },
  {
   "cell_type": "code",
   "execution_count": 183,
   "metadata": {},
   "outputs": [],
   "source": [
    "path_movie = \"dataset/netflix-movie/Netflix_Dataset_Movie.csv\"\n",
    "path_rating = \"dataset/netflix-movie/Netflix_Dataset_Rating.csv\"\n",
    "\n",
    "\n",
    "movie_data = pd.read_csv(path_movie).loc[lambda df_: df_[\"Year\"] >= 2005]\n",
    "rating_data = pd.read_csv(path_rating).loc[lambda df_: df_[\"Movie_ID\"].isin(movie_data[\"Movie_ID\"].\n",
    "values)]"
   ]
  },
  {
   "cell_type": "code",
   "execution_count": 184,
   "metadata": {},
   "outputs": [],
   "source": [
    "movie_data.columns = movie_data.columns.str.lower().str.replace(\" \", \"_\")\n",
    "rating_data.columns = rating_data.columns.str.lower().str.replace(\" \", \"_\")"
   ]
  },
  {
   "cell_type": "code",
   "execution_count": 185,
   "metadata": {},
   "outputs": [
    {
     "name": "stdout",
     "output_type": "stream",
     "text": [
      "Number of movie: 512\n",
      "Number of user: 82224\n",
      "Number of rating: 222272\n"
     ]
    }
   ],
   "source": [
    "print(f\"Number of movie: {movie_data['movie_id'].nunique()}\")\n",
    "print(f\"Number of user: {rating_data['user_id'].nunique()}\")\n",
    "print(f\"Number of rating: {rating_data.shape[0]}\")"
   ]
  },
  {
   "cell_type": "code",
   "execution_count": 186,
   "metadata": {},
   "outputs": [
    {
     "data": {
      "text/html": [
       "<div>\n",
       "<style scoped>\n",
       "    .dataframe tbody tr th:only-of-type {\n",
       "        vertical-align: middle;\n",
       "    }\n",
       "\n",
       "    .dataframe tbody tr th {\n",
       "        vertical-align: top;\n",
       "    }\n",
       "\n",
       "    .dataframe thead th {\n",
       "        text-align: right;\n",
       "    }\n",
       "</style>\n",
       "<table border=\"1\" class=\"dataframe\">\n",
       "  <thead>\n",
       "    <tr style=\"text-align: right;\">\n",
       "      <th></th>\n",
       "      <th>movie_id</th>\n",
       "      <th>year</th>\n",
       "      <th>name</th>\n",
       "    </tr>\n",
       "  </thead>\n",
       "  <tbody>\n",
       "    <tr>\n",
       "      <th>16</th>\n",
       "      <td>17</td>\n",
       "      <td>2005</td>\n",
       "      <td>7 Seconds</td>\n",
       "    </tr>\n",
       "    <tr>\n",
       "      <th>84</th>\n",
       "      <td>85</td>\n",
       "      <td>2005</td>\n",
       "      <td>Elfen Lied</td>\n",
       "    </tr>\n",
       "    <tr>\n",
       "      <th>90</th>\n",
       "      <td>91</td>\n",
       "      <td>2005</td>\n",
       "      <td>WWE: Royal Rumble 2005</td>\n",
       "    </tr>\n",
       "    <tr>\n",
       "      <th>148</th>\n",
       "      <td>149</td>\n",
       "      <td>2005</td>\n",
       "      <td>The Edward R. Murrow Collection</td>\n",
       "    </tr>\n",
       "    <tr>\n",
       "      <th>150</th>\n",
       "      <td>151</td>\n",
       "      <td>2005</td>\n",
       "      <td>Sleepover Nightmare</td>\n",
       "    </tr>\n",
       "  </tbody>\n",
       "</table>\n",
       "</div>"
      ],
      "text/plain": [
       "     movie_id  year                             name\n",
       "16         17  2005                        7 Seconds\n",
       "84         85  2005                       Elfen Lied\n",
       "90         91  2005           WWE: Royal Rumble 2005\n",
       "148       149  2005  The Edward R. Murrow Collection\n",
       "150       151  2005              Sleepover Nightmare"
      ]
     },
     "execution_count": 186,
     "metadata": {},
     "output_type": "execute_result"
    }
   ],
   "source": [
    "movie_data.head()"
   ]
  },
  {
   "cell_type": "code",
   "execution_count": 187,
   "metadata": {},
   "outputs": [
    {
     "data": {
      "text/html": [
       "<div>\n",
       "<style scoped>\n",
       "    .dataframe tbody tr th:only-of-type {\n",
       "        vertical-align: middle;\n",
       "    }\n",
       "\n",
       "    .dataframe tbody tr th {\n",
       "        vertical-align: top;\n",
       "    }\n",
       "\n",
       "    .dataframe thead th {\n",
       "        text-align: right;\n",
       "    }\n",
       "</style>\n",
       "<table border=\"1\" class=\"dataframe\">\n",
       "  <thead>\n",
       "    <tr style=\"text-align: right;\">\n",
       "      <th></th>\n",
       "      <th>user_id</th>\n",
       "      <th>rating</th>\n",
       "      <th>movie_id</th>\n",
       "    </tr>\n",
       "  </thead>\n",
       "  <tbody>\n",
       "    <tr>\n",
       "      <th>13420</th>\n",
       "      <td>2187374</td>\n",
       "      <td>4</td>\n",
       "      <td>17</td>\n",
       "    </tr>\n",
       "    <tr>\n",
       "      <th>13421</th>\n",
       "      <td>2503129</td>\n",
       "      <td>5</td>\n",
       "      <td>17</td>\n",
       "    </tr>\n",
       "    <tr>\n",
       "      <th>13422</th>\n",
       "      <td>263315</td>\n",
       "      <td>3</td>\n",
       "      <td>17</td>\n",
       "    </tr>\n",
       "    <tr>\n",
       "      <th>13423</th>\n",
       "      <td>608309</td>\n",
       "      <td>3</td>\n",
       "      <td>17</td>\n",
       "    </tr>\n",
       "    <tr>\n",
       "      <th>13424</th>\n",
       "      <td>2336678</td>\n",
       "      <td>2</td>\n",
       "      <td>17</td>\n",
       "    </tr>\n",
       "  </tbody>\n",
       "</table>\n",
       "</div>"
      ],
      "text/plain": [
       "       user_id  rating  movie_id\n",
       "13420  2187374       4        17\n",
       "13421  2503129       5        17\n",
       "13422   263315       3        17\n",
       "13423   608309       3        17\n",
       "13424  2336678       2        17"
      ]
     },
     "execution_count": 187,
     "metadata": {},
     "output_type": "execute_result"
    }
   ],
   "source": [
    "rating_data.head()"
   ]
  },
  {
   "cell_type": "markdown",
   "metadata": {},
   "source": [
    "# Label Encoding"
   ]
  },
  {
   "cell_type": "markdown",
   "metadata": {},
   "source": [
    "However, the movie_id and user_id do not start with 0. We need to encode them to make them start with 0 and increase by 1."
   ]
  },
  {
   "cell_type": "code",
   "execution_count": 188,
   "metadata": {},
   "outputs": [
    {
     "data": {
      "text/html": [
       "<div>\n",
       "<style scoped>\n",
       "    .dataframe tbody tr th:only-of-type {\n",
       "        vertical-align: middle;\n",
       "    }\n",
       "\n",
       "    .dataframe tbody tr th {\n",
       "        vertical-align: top;\n",
       "    }\n",
       "\n",
       "    .dataframe thead th {\n",
       "        text-align: right;\n",
       "    }\n",
       "</style>\n",
       "<table border=\"1\" class=\"dataframe\">\n",
       "  <thead>\n",
       "    <tr style=\"text-align: right;\">\n",
       "      <th></th>\n",
       "      <th>movie_id</th>\n",
       "      <th>year</th>\n",
       "      <th>name</th>\n",
       "      <th>movie_id_encoded</th>\n",
       "    </tr>\n",
       "  </thead>\n",
       "  <tbody>\n",
       "    <tr>\n",
       "      <th>16</th>\n",
       "      <td>17</td>\n",
       "      <td>2005</td>\n",
       "      <td>7 Seconds</td>\n",
       "      <td>0</td>\n",
       "    </tr>\n",
       "    <tr>\n",
       "      <th>84</th>\n",
       "      <td>85</td>\n",
       "      <td>2005</td>\n",
       "      <td>Elfen Lied</td>\n",
       "      <td>1</td>\n",
       "    </tr>\n",
       "    <tr>\n",
       "      <th>90</th>\n",
       "      <td>91</td>\n",
       "      <td>2005</td>\n",
       "      <td>WWE: Royal Rumble 2005</td>\n",
       "      <td>2</td>\n",
       "    </tr>\n",
       "    <tr>\n",
       "      <th>148</th>\n",
       "      <td>149</td>\n",
       "      <td>2005</td>\n",
       "      <td>The Edward R. Murrow Collection</td>\n",
       "      <td>3</td>\n",
       "    </tr>\n",
       "    <tr>\n",
       "      <th>150</th>\n",
       "      <td>151</td>\n",
       "      <td>2005</td>\n",
       "      <td>Sleepover Nightmare</td>\n",
       "      <td>4</td>\n",
       "    </tr>\n",
       "  </tbody>\n",
       "</table>\n",
       "</div>"
      ],
      "text/plain": [
       "     movie_id  year                             name  movie_id_encoded\n",
       "16         17  2005                        7 Seconds                 0\n",
       "84         85  2005                       Elfen Lied                 1\n",
       "90         91  2005           WWE: Royal Rumble 2005                 2\n",
       "148       149  2005  The Edward R. Murrow Collection                 3\n",
       "150       151  2005              Sleepover Nightmare                 4"
      ]
     },
     "execution_count": 188,
     "metadata": {},
     "output_type": "execute_result"
    }
   ],
   "source": [
    "movie_encoder = LabelEncoder()\n",
    "movie_data[\"movie_id_encoded\"] = movie_encoder.fit_transform(movie_data[\"movie_id\"])\n",
    "\n",
    "movie_data.head()"
   ]
  },
  {
   "cell_type": "code",
   "execution_count": 189,
   "metadata": {},
   "outputs": [
    {
     "data": {
      "text/html": [
       "<div>\n",
       "<style scoped>\n",
       "    .dataframe tbody tr th:only-of-type {\n",
       "        vertical-align: middle;\n",
       "    }\n",
       "\n",
       "    .dataframe tbody tr th {\n",
       "        vertical-align: top;\n",
       "    }\n",
       "\n",
       "    .dataframe thead th {\n",
       "        text-align: right;\n",
       "    }\n",
       "</style>\n",
       "<table border=\"1\" class=\"dataframe\">\n",
       "  <thead>\n",
       "    <tr style=\"text-align: right;\">\n",
       "      <th></th>\n",
       "      <th>user_id</th>\n",
       "      <th>rating</th>\n",
       "      <th>movie_id</th>\n",
       "      <th>user_id_encoded</th>\n",
       "      <th>movie_id_encoded</th>\n",
       "    </tr>\n",
       "  </thead>\n",
       "  <tbody>\n",
       "    <tr>\n",
       "      <th>13420</th>\n",
       "      <td>2187374</td>\n",
       "      <td>4</td>\n",
       "      <td>17</td>\n",
       "      <td>67864</td>\n",
       "      <td>0</td>\n",
       "    </tr>\n",
       "    <tr>\n",
       "      <th>13421</th>\n",
       "      <td>2503129</td>\n",
       "      <td>5</td>\n",
       "      <td>17</td>\n",
       "      <td>77654</td>\n",
       "      <td>0</td>\n",
       "    </tr>\n",
       "    <tr>\n",
       "      <th>13422</th>\n",
       "      <td>263315</td>\n",
       "      <td>3</td>\n",
       "      <td>17</td>\n",
       "      <td>8119</td>\n",
       "      <td>0</td>\n",
       "    </tr>\n",
       "    <tr>\n",
       "      <th>13423</th>\n",
       "      <td>608309</td>\n",
       "      <td>3</td>\n",
       "      <td>17</td>\n",
       "      <td>18998</td>\n",
       "      <td>0</td>\n",
       "    </tr>\n",
       "    <tr>\n",
       "      <th>13424</th>\n",
       "      <td>2336678</td>\n",
       "      <td>2</td>\n",
       "      <td>17</td>\n",
       "      <td>72409</td>\n",
       "      <td>0</td>\n",
       "    </tr>\n",
       "  </tbody>\n",
       "</table>\n",
       "</div>"
      ],
      "text/plain": [
       "       user_id  rating  movie_id  user_id_encoded  movie_id_encoded\n",
       "13420  2187374       4        17            67864                 0\n",
       "13421  2503129       5        17            77654                 0\n",
       "13422   263315       3        17             8119                 0\n",
       "13423   608309       3        17            18998                 0\n",
       "13424  2336678       2        17            72409                 0"
      ]
     },
     "execution_count": 189,
     "metadata": {},
     "output_type": "execute_result"
    }
   ],
   "source": [
    "user_encoder = LabelEncoder()\n",
    "\n",
    "rating_data[\"user_id_encoded\"] = user_encoder.fit_transform(rating_data[\"user_id\"])\n",
    "rating_data[\"movie_id_encoded\"] = movie_encoder.transform(rating_data[\"movie_id\"])\n",
    "\n",
    "rating_data.head()"
   ]
  },
  {
   "cell_type": "markdown",
   "metadata": {},
   "source": [
    "# Dataset and Dataloader Preparation"
   ]
  },
  {
   "cell_type": "markdown",
   "metadata": {},
   "source": [
    "After that we can prepare dataset and dataloader."
   ]
  },
  {
   "cell_type": "code",
   "execution_count": 190,
   "metadata": {},
   "outputs": [
    {
     "name": "stdout",
     "output_type": "stream",
     "text": [
      "Train shape = (200044, 5)\n",
      "Val shape = (22228, 5)\n"
     ]
    }
   ],
   "source": [
    "class MovieDataset(Dataset):\n",
    "    def __init__(self, users, movies, ratings):\n",
    "        self.users = users\n",
    "        self.movies = movies\n",
    "        self.ratings = ratings\n",
    "\n",
    "    def __len__(self):\n",
    "        return self.ratings.shape[0]\n",
    "\n",
    "    def __getitem__(self, index):\n",
    "        user = self.users[index]\n",
    "        movie = self.movies[index]\n",
    "        rating = self.ratings[index]\n",
    "        return {\n",
    "            \"user\": torch.tensor(user, dtype=torch.int64),\n",
    "            \"movie\": torch.tensor(movie, dtype=torch.int64),\n",
    "            \"rating\": torch.tensor(rating, dtype=torch.float32),\n",
    "        }\n",
    "\n",
    "\n",
    "df_train, df_val = train_test_split(\n",
    "    rating_data, test_size=0.1, random_state=1, stratify=rating_data[\"movie_id_encoded\"].values\n",
    ")\n",
    "\n",
    "train_dataset = MovieDataset(\n",
    "    df_train[\"user_id_encoded\"].values, \n",
    "    df_train[\"movie_id_encoded\"].values, \n",
    "    df_train[\"rating\"].values\n",
    ")\n",
    "val_dataset = MovieDataset(\n",
    "    df_val[\"user_id_encoded\"].values, \n",
    "    df_val[\"movie_id_encoded\"].values, \n",
    "    df_val[\"rating\"].values\n",
    ")\n",
    "train_loader = DataLoader(train_dataset, batch_size=32, shuffle=False)\n",
    "val_loader = DataLoader(val_dataset, batch_size=32, shuffle=False)\n",
    "\n",
    "\n",
    "print(f\"Train shape = {df_train.shape}\")\n",
    "print(f\"Val shape = {df_val.shape}\")"
   ]
  },
  {
   "cell_type": "code",
   "execution_count": 191,
   "metadata": {},
   "outputs": [
    {
     "name": "stdout",
     "output_type": "stream",
     "text": [
      "Batch 1\n",
      "User: tensor([49335, 49008, 80465,  5854, 79475, 33496, 80439,  6379, 79265,  1180,\n",
      "        67068, 55800, 27298,  5695, 33772, 21328, 13410, 15575, 22467, 75336,\n",
      "        75897,  2278, 15226, 74245, 49009,  1728, 53636, 16328,  3983, 10815,\n",
      "        17917, 31590])\n",
      "Movie: tensor([120,  34,  15,  21, 120,  12,  12,  12,  35,  21,  35, 120,  15,  34,\n",
      "         15, 120,  35,  12,  21,   0,  21, 120, 128,  15, 120,  21,  12,  12,\n",
      "         35,  12,  81,  15])\n",
      "Rating: tensor([5., 4., 1., 5., 3., 3., 4., 4., 2., 3., 3., 2., 4., 3., 4., 4., 4., 4.,\n",
      "        4., 2., 1., 5., 5., 3., 4., 3., 5., 4., 4., 5., 4., 5.])\n"
     ]
    }
   ],
   "source": [
    "for batch_idx, x in enumerate(train_loader):\n",
    "    print(f\"Batch {batch_idx + 1}\")\n",
    "    print(f\"User: {x.get('user')}\") \n",
    "    print(f\"Movie: {x.get('movie')}\") \n",
    "    print(f\"Rating: {x.get('rating')}\") \n",
    "\n",
    "    break"
   ]
  },
  {
   "cell_type": "code",
   "execution_count": 192,
   "metadata": {},
   "outputs": [
    {
     "name": "stdout",
     "output_type": "stream",
     "text": [
      "Batch 1\n",
      "User: torch.Size([32])\n",
      "Movie: torch.Size([32])\n",
      "Rating: torch.Size([32])\n"
     ]
    }
   ],
   "source": [
    "for batch_idx, x in enumerate(train_loader):\n",
    "    print(f\"Batch {batch_idx + 1}\")\n",
    "    print(f\"User: {x.get('user').shape}\") \n",
    "    print(f\"Movie: {x.get('movie').shape}\") \n",
    "    print(f\"Rating: {x.get('rating').shape}\") \n",
    "\n",
    "    break"
   ]
  },
  {
   "cell_type": "markdown",
   "metadata": {},
   "source": [
    "# Model Architecture"
   ]
  },
  {
   "cell_type": "code",
   "execution_count": 193,
   "metadata": {},
   "outputs": [],
   "source": [
    "class RecSys(nn.Module):\n",
    "    def __init__(self, num_users, num_movies):\n",
    "        super().__init__()\n",
    "        self.user_embeds = nn.Embedding(num_embeddings=num_users, embedding_dim=32)\n",
    "        self.movie_embeds = nn.Embedding(num_embeddings=num_movies, embedding_dim=32)\n",
    "        self.linear = nn.Linear(in_features=64, out_features=1)\n",
    "\n",
    "    def forward(self, user_id, movie_id):\n",
    "        user_embeds = self.user_embeds(user_id)\n",
    "        movie_embeds = self.movie_embeds(movie_id)\n",
    "        output = torch.cat([user_embeds, movie_embeds,], dim=1)\n",
    "        output = self.linear(output) \n",
    "        return output"
   ]
  },
  {
   "cell_type": "markdown",
   "metadata": {},
   "source": [
    "Intuition: embedding layer"
   ]
  },
  {
   "cell_type": "code",
   "execution_count": 194,
   "metadata": {},
   "outputs": [
    {
     "data": {
      "text/plain": [
       "tensor([[1.3258]], grad_fn=<AddmmBackward0>)"
      ]
     },
     "execution_count": 194,
     "metadata": {},
     "output_type": "execute_result"
    }
   ],
   "source": [
    "# sample forward  \n",
    "sample_model = RecSys(num_users=3, num_movies=5)\n",
    "zero = torch.zeros(1, dtype=torch.long)\n",
    "sample_model(user_id=zero, movie_id=zero)"
   ]
  },
  {
   "cell_type": "code",
   "execution_count": 195,
   "metadata": {},
   "outputs": [
    {
     "data": {
      "text/plain": [
       "tensor([ 0.3448,  0.7694, -2.0348, -0.4750,  0.1040, -1.2572,  0.2662, -1.8374,\n",
       "        -1.7436, -2.2077, -0.6095, -1.3973, -1.0913,  1.9447, -1.4663,  0.0667,\n",
       "         1.1932, -1.8131,  0.1837, -1.0335,  0.8421,  0.2798,  1.3908,  0.2931,\n",
       "         2.3502, -0.4646, -1.9585, -2.0980,  2.2357, -0.5690,  1.0673,  1.6572],\n",
       "       grad_fn=<EmbeddingBackward0>)"
      ]
     },
     "execution_count": 195,
     "metadata": {},
     "output_type": "execute_result"
    }
   ],
   "source": [
    "sample_model.user_embeds(torch.tensor(0))"
   ]
  },
  {
   "cell_type": "code",
   "execution_count": 196,
   "metadata": {},
   "outputs": [
    {
     "data": {
      "text/plain": [
       "tensor([ 1.0169,  0.0246,  0.7755,  1.0175, -0.6570,  0.4776,  1.5278,  1.9648,\n",
       "        -0.3315,  0.8699,  1.5464,  0.4878,  1.4138, -1.3487, -0.1113,  0.2078,\n",
       "         0.6565, -0.3666, -0.5509,  0.5137,  0.9235, -0.6937,  0.8053,  0.8830,\n",
       "         0.0453, -0.4520, -1.1806,  0.1417,  0.8241, -0.7719, -1.7992,  0.2932],\n",
       "       grad_fn=<EmbeddingBackward0>)"
      ]
     },
     "execution_count": 196,
     "metadata": {},
     "output_type": "execute_result"
    }
   ],
   "source": [
    "sample_model.user_embeds(torch.tensor(1))"
   ]
  },
  {
   "cell_type": "code",
   "execution_count": 197,
   "metadata": {},
   "outputs": [
    {
     "data": {
      "text/plain": [
       "tensor([-0.9677, -2.1952,  0.4824,  1.6661, -0.7796, -0.4394,  1.4581, -0.4228,\n",
       "        -0.2366, -1.6898, -0.2047, -0.6702,  1.1447, -0.4591,  1.4517, -1.6578,\n",
       "         0.3572,  0.0407, -0.0359,  0.1122, -0.2783,  0.6673, -0.4803, -0.3347,\n",
       "         0.0487, -0.9800,  0.0970, -0.0344,  0.8089,  0.9759, -0.0218,  0.1360],\n",
       "       grad_fn=<EmbeddingBackward0>)"
      ]
     },
     "execution_count": 197,
     "metadata": {},
     "output_type": "execute_result"
    }
   ],
   "source": [
    "sample_model.user_embeds(torch.tensor(2))"
   ]
  },
  {
   "cell_type": "markdown",
   "metadata": {},
   "source": [
    "# Training and Validation"
   ]
  },
  {
   "cell_type": "code",
   "execution_count": 198,
   "metadata": {},
   "outputs": [
    {
     "name": "stdout",
     "output_type": "stream",
     "text": [
      "Epoch 1  /5 | train RMSE =  1.12147819 | val RMSE =  0.95866363\n",
      "Epoch 2  /5 | train RMSE =  0.95949892 | val RMSE =  0.95830130\n",
      "Epoch 3  /5 | train RMSE =  0.93308881 | val RMSE =  0.96095761\n",
      "Epoch 4  /5 | train RMSE =  0.89334105 | val RMSE =  0.96643824\n",
      "Epoch 5  /5 | train RMSE =  0.84930155 | val RMSE =  0.97388698\n"
     ]
    }
   ],
   "source": [
    "num_users = rating_data[\"user_id_encoded\"].nunique()\n",
    "num_movies = movie_data[\"movie_id_encoded\"].nunique()\n",
    "num_train_samples = df_train.shape[0]\n",
    "num_val_samples = df_val.shape[0]\n",
    "recsys = RecSys(num_movies=num_movies, num_users=num_users)\n",
    "\n",
    "criterion = nn.MSELoss()\n",
    "lr = 0.001\n",
    "optimizer = torch.optim.Adam(lr=lr, params=recsys.parameters())\n",
    "\n",
    "epochs = 5\n",
    "print_step = 1\n",
    "\n",
    "\n",
    "def train_one_step(model, optimizer, user_batch, movie_batch, rating_batch):\n",
    "    optimizer.zero_grad()\n",
    "    output = model(user_batch, movie_batch)\n",
    "    loss = criterion(output.flatten(), rating_batch)\n",
    "    num_samples = output.shape[0]\n",
    "    loss.backward()\n",
    "    optimizer.step()\n",
    "    return loss.item() * num_samples\n",
    "\n",
    "\n",
    "def val_one_step(model, user_batch, movie_batch, rating_batch):\n",
    "    output = model(user_batch, movie_batch)\n",
    "    loss = criterion(output.flatten(), rating_batch)\n",
    "    num_samples = output.shape[0]\n",
    "    return loss.item() * num_samples\n",
    "\n",
    "\n",
    "for epoch in range(epochs):\n",
    "\n",
    "    total_train_squared_error = 0.0\n",
    "    total_val_squared_error = 0.0\n",
    "\n",
    "    for batch_idx, x in enumerate(train_loader):\n",
    "        user_batch = x.get(\"user\")\n",
    "        movie_batch = x.get(\"movie\")\n",
    "        rating_batch = x.get(\"rating\")\n",
    "        recsys.train()\n",
    "        loss = train_one_step(recsys, optimizer, user_batch, movie_batch, rating_batch)\n",
    "        total_train_squared_error += loss\n",
    "\n",
    "    for batch_idx, x in enumerate(val_loader):\n",
    "        user_batch = x.get(\"user\")\n",
    "        movie_batch = x.get(\"movie\")\n",
    "        rating_batch = x.get(\"rating\")\n",
    "        recsys.eval()\n",
    "        with torch.no_grad():\n",
    "            loss = val_one_step(recsys, user_batch, movie_batch, rating_batch)\n",
    "            total_val_squared_error += loss\n",
    "\n",
    "    if (epoch == 0) or ((epoch + 1) % print_step == 0):\n",
    "        # print train and validation result\n",
    "        train_mse = total_train_squared_error / num_train_samples\n",
    "        val_mse = total_val_squared_error / num_val_samples\n",
    "        train_rmse = np.sqrt(train_mse)\n",
    "        val_rmse = np.sqrt(val_mse)\n",
    "        print(\n",
    "            f\"Epoch {epoch+1: <3}/{epochs} | train RMSE = {train_rmse: .8f} | val RMSE = {val_rmse: .8f}\"\n",
    "        )"
   ]
  },
  {
   "cell_type": "markdown",
   "metadata": {},
   "source": [
    "# Recommendation"
   ]
  },
  {
   "cell_type": "code",
   "execution_count": 267,
   "metadata": {},
   "outputs": [],
   "source": [
    "def movie_id_encoded_to_title(id):\n",
    "    return movie_data.loc[movie_data[\"movie_id_encoded\"] == id, \"name\"].values[0]"
   ]
  },
  {
   "cell_type": "code",
   "execution_count": 286,
   "metadata": {},
   "outputs": [],
   "source": [
    "user_id_to_pred = 0  # we want to give recommendation to this user\n",
    "# all his past rating history\n",
    "this_user_ratings = rating_data.loc[rating_data[\"user_id_encoded\"] == user_id_to_pred]\n",
    "# set of movies already rated by the user\n",
    "rated_movie_ids = set(this_user_ratings[\"movie_id_encoded\"].values)\n",
    "\n",
    "# all of our movies\n",
    "all_movie_encoded_ids = movie_data.loc[:, \"movie_id_encoded\"].values\n",
    "all_movie_encoded_ids = torch.from_numpy(all_movie_encoded_ids)\n",
    "\n",
    "user_id = torch.tensor(user_id_to_pred, dtype=torch.int64)\n",
    "user_id_expended  = user_id.expand(size=all_movie_encoded_ids.shape)\n",
    "\n",
    "\n",
    "\n",
    "# # iterate through all out movied and pred the rating\n",
    "# recsys.eval()\n",
    "# with torch.no_grad():\n",
    "#     rating_pred = recsys(movie_id=all_movie_encoded_ids, user_id=user_id)\n",
    "\n",
    "# # zip the pred_rating with the encoded_movie_id\n",
    "# all_movie_pred_ratings = np.array(all_movie_pred_ratings)\n",
    "# movie_and_rating = list(zip(all_movie_encoded_ids, all_movie_pred_ratings))\n",
    "# movie_and_rating.sort(key=lambda x: x[1], reverse=True)\n",
    "\n",
    "\n",
    "# print(f\"User {user_id_to_pred}\")\n",
    "# print(\"=====================================\")\n",
    "# print(f\"Past History:\")\n",
    "# for row in this_user_rating.itertuples(index=True, name=\"Pandas\"):\n",
    "#     print(\n",
    "#         f\"Movie: {movie_id_encoded_to_title(row.movie_id_encoded)} (rating {row.rating})\"\n",
    "#     )\n",
    "\n",
    "# print(\"=====================================\")\n",
    "# print(f\"Recommendation:\")\n",
    "# n_recommend = 0\n",
    "# for encoded_id, pred_rating in movie_and_rating:\n",
    "#     if encoded_id in this_user_rating[\"movie_id_encoded\"].values:\n",
    "#         continue\n",
    "#     movie_name = movie_id_encoded_to_title(encoded_id)\n",
    "#     print(f\"Movie: {movie_name}\")\n",
    "#     n_recommend += 1\n",
    "#     if n_recommend == 10:\n",
    "#         break"
   ]
  },
  {
   "cell_type": "code",
   "execution_count": 282,
   "metadata": {},
   "outputs": [
    {
     "data": {
      "text/plain": [
       "tensor([  0,   1,   2,   3,   4,   5,   6,   7,   8,   9,  10,  11,  12,  13,\n",
       "         14,  15,  16,  17,  18,  19,  20,  21,  22,  23,  24,  25,  26,  27,\n",
       "         28,  29,  30,  31,  32,  33,  34,  35,  36,  37,  38,  39,  40,  41,\n",
       "         42,  43,  44,  45,  46,  47,  48,  49,  50,  51,  52,  53,  54,  55,\n",
       "         56,  57,  58,  59,  60,  61,  62,  63,  64,  65,  66,  67,  68,  69,\n",
       "         70,  71,  72,  73,  74,  75,  76,  77,  78,  79,  80,  81,  82,  83,\n",
       "         84,  85,  86,  87,  88,  89,  90,  91,  92,  93,  94,  95,  96,  97,\n",
       "         98,  99, 100, 101, 102, 103, 104, 105, 106, 107, 108, 109, 110, 111,\n",
       "        112, 113, 114, 115, 116, 117, 118, 119, 120, 121, 122, 123, 124, 125,\n",
       "        126, 127, 128, 129, 130, 131, 132, 133, 134, 135, 136, 137, 138, 139,\n",
       "        140, 141, 142, 143, 144, 145, 146, 147, 148, 149, 150, 151, 152, 153,\n",
       "        154, 155, 156, 157, 158, 159, 160, 161, 162, 163, 164, 165, 166, 167,\n",
       "        168, 169, 170, 171, 172, 173, 174, 175, 176, 177, 178, 179, 180, 181,\n",
       "        182, 183, 184, 185, 186, 187, 188, 189, 190, 191, 192, 193, 194, 195,\n",
       "        196, 197, 198, 199, 200, 201, 202, 203, 204, 205, 206, 207, 208, 209,\n",
       "        210, 211, 212, 213, 214, 215, 216, 217, 218, 219, 220, 221, 222, 223,\n",
       "        224, 225, 226, 227, 228, 229, 230, 231, 232, 233, 234, 235, 236, 237,\n",
       "        238, 239, 240, 241, 242, 243, 244, 245, 246, 247, 248, 249, 250, 251,\n",
       "        252, 253, 254, 255, 256, 257, 258, 259, 260, 261, 262, 263, 264, 265,\n",
       "        266, 267, 268, 269, 270, 271, 272, 273, 274, 275, 276, 277, 278, 279,\n",
       "        280, 281, 282, 283, 284, 285, 286, 287, 288, 289, 290, 291, 292, 293,\n",
       "        294, 295, 296, 297, 298, 299, 300, 301, 302, 303, 304, 305, 306, 307,\n",
       "        308, 309, 310, 311, 312, 313, 314, 315, 316, 317, 318, 319, 320, 321,\n",
       "        322, 323, 324, 325, 326, 327, 328, 329, 330, 331, 332, 333, 334, 335,\n",
       "        336, 337, 338, 339, 340, 341, 342, 343, 344, 345, 346, 347, 348, 349,\n",
       "        350, 351, 352, 353, 354, 355, 356, 357, 358, 359, 360, 361, 362, 363,\n",
       "        364, 365, 366, 367, 368, 369, 370, 371, 372, 373, 374, 375, 376, 377,\n",
       "        378, 379, 380, 381, 382, 383, 384, 385, 386, 387, 388, 389, 390, 391,\n",
       "        392, 393, 394, 395, 396, 397, 398, 399, 400, 401, 402, 403, 404, 405,\n",
       "        406, 407, 408, 409, 410, 411, 412, 413, 414, 415, 416, 417, 418, 419,\n",
       "        420, 421, 422, 423, 424, 425, 426, 427, 428, 429, 430, 431, 432, 433,\n",
       "        434, 435, 436, 437, 438, 439, 440, 441, 442, 443, 444, 445, 446, 447,\n",
       "        448, 449, 450, 451, 452, 453, 454, 455, 456, 457, 458, 459, 460, 461,\n",
       "        462, 463, 464, 465, 466, 467, 468, 469, 470, 471, 472, 473, 474, 475,\n",
       "        476, 477, 478, 479, 480, 481, 482, 483, 484, 485, 486, 487, 488, 489,\n",
       "        490, 491, 492, 493, 494, 495, 496, 497, 498, 499, 500, 501, 502, 503,\n",
       "        504, 505, 506, 507, 508, 509, 510, 511])"
      ]
     },
     "execution_count": 282,
     "metadata": {},
     "output_type": "execute_result"
    }
   ],
   "source": []
  }
 ],
 "metadata": {
  "kernelspec": {
   "display_name": "ml",
   "language": "python",
   "name": "python3"
  },
  "language_info": {
   "codemirror_mode": {
    "name": "ipython",
    "version": 3
   },
   "file_extension": ".py",
   "mimetype": "text/x-python",
   "name": "python",
   "nbconvert_exporter": "python",
   "pygments_lexer": "ipython3",
   "version": "3.12.4"
  }
 },
 "nbformat": 4,
 "nbformat_minor": 2
}
