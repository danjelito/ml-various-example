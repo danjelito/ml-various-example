{
 "cells": [
  {
   "cell_type": "code",
   "execution_count": 58,
   "metadata": {},
   "outputs": [],
   "source": [
    "import numpy as np\n",
    "import pandas as pd\n",
    "import matplotlib.pyplot as plt\n",
    "import seaborn as sns\n",
    "import torch\n",
    "import torch.nn as nn\n",
    "import torch.optim as optim\n",
    "from torch.utils.data import Dataset, DataLoader\n",
    "\n",
    "sns.set_style(\"whitegrid\")\n",
    "torch.manual_seed(0)\n",
    "np.random.seed(0)"
   ]
  },
  {
   "cell_type": "markdown",
   "metadata": {},
   "source": [
    "# Data Loading, Cleaning, EDA"
   ]
  },
  {
   "cell_type": "code",
   "execution_count": 59,
   "metadata": {},
   "outputs": [
    {
     "name": "stdout",
     "output_type": "stream",
     "text": [
      "(1462, 2) (114, 2)\n"
     ]
    },
    {
     "data": {
      "text/html": [
       "<div>\n",
       "<style scoped>\n",
       "    .dataframe tbody tr th:only-of-type {\n",
       "        vertical-align: middle;\n",
       "    }\n",
       "\n",
       "    .dataframe tbody tr th {\n",
       "        vertical-align: top;\n",
       "    }\n",
       "\n",
       "    .dataframe thead th {\n",
       "        text-align: right;\n",
       "    }\n",
       "</style>\n",
       "<table border=\"1\" class=\"dataframe\">\n",
       "  <thead>\n",
       "    <tr style=\"text-align: right;\">\n",
       "      <th></th>\n",
       "      <th>date</th>\n",
       "      <th>meantemp</th>\n",
       "    </tr>\n",
       "  </thead>\n",
       "  <tbody>\n",
       "    <tr>\n",
       "      <th>0</th>\n",
       "      <td>2013-01-01</td>\n",
       "      <td>10.000000</td>\n",
       "    </tr>\n",
       "    <tr>\n",
       "      <th>1</th>\n",
       "      <td>2013-01-02</td>\n",
       "      <td>7.400000</td>\n",
       "    </tr>\n",
       "    <tr>\n",
       "      <th>2</th>\n",
       "      <td>2013-01-03</td>\n",
       "      <td>7.166667</td>\n",
       "    </tr>\n",
       "    <tr>\n",
       "      <th>3</th>\n",
       "      <td>2013-01-04</td>\n",
       "      <td>8.666667</td>\n",
       "    </tr>\n",
       "    <tr>\n",
       "      <th>4</th>\n",
       "      <td>2013-01-05</td>\n",
       "      <td>6.000000</td>\n",
       "    </tr>\n",
       "  </tbody>\n",
       "</table>\n",
       "</div>"
      ],
      "text/plain": [
       "        date   meantemp\n",
       "0 2013-01-01  10.000000\n",
       "1 2013-01-02   7.400000\n",
       "2 2013-01-03   7.166667\n",
       "3 2013-01-04   8.666667\n",
       "4 2013-01-05   6.000000"
      ]
     },
     "execution_count": 59,
     "metadata": {},
     "output_type": "execute_result"
    }
   ],
   "source": [
    "train_path = \"dataset/delhi-climate-data/DailyDelhiClimateTrain.csv\"\n",
    "test_path = \"dataset/delhi-climate-data/DailyDelhiClimateTest.csv\"\n",
    "df_train = pd.read_csv(train_path)\n",
    "df_test = pd.read_csv(test_path)\n",
    "\n",
    "def clean_df(df):\n",
    "    return (df\n",
    "        .loc[:, [\"date\", \"meantemp\"]]\n",
    "        .sort_values(\"date\", ascending=True)\n",
    "        .assign(\n",
    "            date=lambda df_: pd.to_datetime(df_[\"date\"]), \n",
    "            meantemp=lambda df_: df_[\"meantemp\"].astype(\"float32\")\n",
    "        )\n",
    "        .set_index(\"date\")\n",
    "        .resample(\"1d\")\n",
    "        .ffill()\n",
    "        .reset_index()\n",
    "    )\n",
    "\n",
    "df_train = clean_df(df_train)\n",
    "df_test = clean_df(df_test)\n",
    "\n",
    "print(df_train.shape, df_test.shape)\n",
    "df_train.head()"
   ]
  },
  {
   "cell_type": "markdown",
   "metadata": {},
   "source": [
    "# Create Dataset"
   ]
  },
  {
   "cell_type": "code",
   "execution_count": 60,
   "metadata": {},
   "outputs": [
    {
     "name": "stdout",
     "output_type": "stream",
     "text": [
      "(1336, 13) (102, 13) (102, 13)\n"
     ]
    }
   ],
   "source": [
    "x_train = df_train[\"meantemp\"].values[:-114]\n",
    "x_val = df_train[\"meantemp\"].values[-114:]\n",
    "x_test = df_test[\"meantemp\"].values\n",
    "\n",
    "x_train_looped = []\n",
    "for i in range(x_train.shape[0]):\n",
    "    x = np.array(x_train[i : i + 13])\n",
    "    if x.shape[0] == 13:\n",
    "        x_train_looped.append(x.reshape(1, 13))\n",
    "x_train_looped = np.array(x_train_looped).reshape(-1, 13)\n",
    "\n",
    "\n",
    "x_val_looped = []\n",
    "for i in range(x_val.shape[0]):\n",
    "    x = np.array(x_val[i : i + 13])\n",
    "    if x.shape[0] == 13:\n",
    "        x_val_looped.append(x.reshape(1, 13))\n",
    "x_val_looped = np.array(x_val_looped).reshape(-1, 13)\n",
    "\n",
    "\n",
    "x_test_looped = []\n",
    "for i in range(x_test.shape[0]):\n",
    "    x = np.array(x_test[i : i + 13])\n",
    "    if x.shape[0] == 13:\n",
    "        x_test_looped.append(x.reshape(1, 13))\n",
    "x_test_looped = np.array(x_test_looped).reshape(-1, 13)\n",
    "\n",
    "print(x_train_looped.shape, x_val_looped.shape, x_test_looped.shape)"
   ]
  },
  {
   "cell_type": "markdown",
   "metadata": {},
   "source": [
    "For training set, this is 1450 samples, each consisting of 13 months, etc for val and test set.\n",
    "\n",
    "Next we need to create y from this."
   ]
  },
  {
   "cell_type": "code",
   "execution_count": 61,
   "metadata": {},
   "outputs": [
    {
     "name": "stdout",
     "output_type": "stream",
     "text": [
      "torch.Size([1336, 1, 12]) torch.Size([102, 1, 12]) torch.Size([102, 1, 12])\n",
      "torch.Size([1336, 1]) torch.Size([102, 1]) torch.Size([102, 1])\n"
     ]
    }
   ],
   "source": [
    "x_train_tensor = torch.from_numpy(x_train_looped[:, :-1]).unsqueeze(dim=1)\n",
    "x_val_tensor = torch.from_numpy(x_val_looped[:, :-1]).unsqueeze(dim=1)\n",
    "x_test_tensor = torch.from_numpy(x_test_looped[:, :-1]).unsqueeze(dim=1)\n",
    "\n",
    "y_train_tensor = torch.from_numpy(x_train_looped[:, -1]).unsqueeze(dim=1)\n",
    "y_val_tensor = torch.from_numpy(x_val_looped[:, -1]).unsqueeze(dim=1)\n",
    "y_test_tensor = torch.from_numpy(x_test_looped[:, -1]).unsqueeze(dim=1)\n",
    "\n",
    "print(x_train_tensor.shape, x_val_tensor.shape, x_test_tensor.shape)\n",
    "print(y_train_tensor.shape, y_val_tensor.shape, y_test_tensor.shape)"
   ]
  },
  {
   "cell_type": "code",
   "execution_count": 62,
   "metadata": {},
   "outputs": [
    {
     "data": {
      "text/plain": [
       "tensor([[[10.0000,  7.4000,  7.1667,  ..., 11.0000, 15.7143, 14.0000]],\n",
       "\n",
       "        [[ 7.4000,  7.1667,  8.6667,  ..., 15.7143, 14.0000, 15.8333]],\n",
       "\n",
       "        [[ 7.1667,  8.6667,  6.0000,  ..., 14.0000, 15.8333, 12.8333]],\n",
       "\n",
       "        ...,\n",
       "\n",
       "        [[31.2222, 31.7857, 33.4000,  ..., 31.6923, 31.0769, 30.3750]],\n",
       "\n",
       "        [[31.7857, 33.4000, 29.5714,  ..., 31.0769, 30.3750, 31.1000]],\n",
       "\n",
       "        [[33.4000, 29.5714, 30.0400,  ..., 30.3750, 31.1000, 31.9167]]])"
      ]
     },
     "execution_count": 62,
     "metadata": {},
     "output_type": "execute_result"
    }
   ],
   "source": [
    "x_train_tensor"
   ]
  },
  {
   "cell_type": "code",
   "execution_count": 63,
   "metadata": {},
   "outputs": [
    {
     "data": {
      "text/plain": [
       "tensor([[15.8333],\n",
       "        [12.8333],\n",
       "        [14.7143],\n",
       "        ...,\n",
       "        [31.1000],\n",
       "        [31.9167],\n",
       "        [30.5556]])"
      ]
     },
     "execution_count": 63,
     "metadata": {},
     "output_type": "execute_result"
    }
   ],
   "source": [
    "y_train_tensor"
   ]
  },
  {
   "cell_type": "markdown",
   "metadata": {},
   "source": [
    "# Model Architecture"
   ]
  },
  {
   "cell_type": "code",
   "execution_count": 64,
   "metadata": {},
   "outputs": [
    {
     "data": {
      "text/plain": [
       "tensor([-0.0989, -0.0989, -0.0989], grad_fn=<SelectBackward0>)"
      ]
     },
     "execution_count": 64,
     "metadata": {},
     "output_type": "execute_result"
    }
   ],
   "source": [
    "class LSTM(nn.Module):\n",
    "    def __init__(self, hidden_size):\n",
    "        super(LSTM, self).__init__()\n",
    "        self.hidden_size = hidden_size\n",
    "        self.lstm1 = nn.LSTMCell(input_size=1, hidden_size=hidden_size)\n",
    "        self.lstm2 = nn.LSTMCell(input_size=hidden_size, hidden_size=hidden_size)\n",
    "        self.linear = nn.Linear(in_features=hidden_size, out_features=1)\n",
    "\n",
    "    def forward(self, xs, future=1):\n",
    "        outputs = []\n",
    "        h1 = torch.zeros(xs.shape[0], self.hidden_size)\n",
    "        c1 = torch.zeros(xs.shape[0], self.hidden_size)\n",
    "        h2 = torch.zeros(xs.shape[0], self.hidden_size)\n",
    "        c2 = torch.zeros(xs.shape[0], self.hidden_size)\n",
    "        # iterate through each value of all samples toegther\n",
    "        for x in xs.split(1, dim=1):\n",
    "            h1, c1 = self.lstm1(x, (h1, c1))\n",
    "            h2, c2 = self.lstm2(h1, (h2, c2))\n",
    "            output = self.linear(h2)\n",
    "            outputs += [output]\n",
    "        # predict future values\n",
    "        for i in range(future):\n",
    "            h1, c1 = self.lstm1(output, (h1, c1))\n",
    "            h2, c2 = self.lstm2(h1, (h2, c2))\n",
    "            output = self.linear(h2)\n",
    "            outputs += [output]\n",
    "\n",
    "        outputs = torch.cat(outputs, dim=1)\n",
    "        # only return the last value\n",
    "        return outputs[:, -1]\n",
    "    \n",
    "lstm = LSTM(hidden_size=64)\n",
    "\n",
    "# test if our model is working\n",
    "samples = torch.zeros((3, 12))\n",
    "lstm(samples)"
   ]
  },
  {
   "cell_type": "markdown",
   "metadata": {},
   "source": [
    "# Training"
   ]
  },
  {
   "cell_type": "code",
   "execution_count": 65,
   "metadata": {},
   "outputs": [
    {
     "name": "stdout",
     "output_type": "stream",
     "text": [
      "Epoch 1  /10 | train RMSE =  2.05381160 | val RMSE =  6.97248867\n",
      "Epoch 2  /10 | train RMSE =  2.11188664 | val RMSE =  6.98830486\n",
      "Epoch 4  /10 | train RMSE =  2.11265611 | val RMSE =  6.99226452\n",
      "Epoch 6  /10 | train RMSE =  2.11268858 | val RMSE =  6.99252129\n",
      "Epoch 8  /10 | train RMSE =  2.10330934 | val RMSE =  7.07701865\n",
      "Epoch 10 /10 | train RMSE =  2.10910573 | val RMSE =  7.07848731\n"
     ]
    }
   ],
   "source": [
    "criterion = nn.MSELoss()\n",
    "lr = 0.01\n",
    "optimizer = optim.Adam(lstm.parameters(), lr=lr)\n",
    "epochs = 10\n",
    "print_step = 2\n",
    "\n",
    "for epoch in range(epochs):\n",
    "    train_loss = []\n",
    "    val_loss = []\n",
    "\n",
    "    # training\n",
    "    for x, y in zip(x_train_tensor, y_train_tensor):\n",
    "\n",
    "        lstm.train()\n",
    "        optimizer.zero_grad()\n",
    "        outputs = lstm(x)\n",
    "        loss = criterion(y, outputs)\n",
    "        loss.backward()\n",
    "        optimizer.step()\n",
    "        train_loss += [np.sqrt(loss.item())]\n",
    "\n",
    "    # validation\n",
    "    for x, y in zip(x_val_tensor, y_val_tensor):\n",
    "\n",
    "        lstm.eval()\n",
    "        with torch.no_grad():\n",
    "            outputs = lstm(x)\n",
    "            loss = criterion(y, outputs)\n",
    "            val_loss += [np.sqrt(loss.item())]\n",
    "\n",
    "    if (epoch == 0) or ((epoch + 1) % print_step == 0):\n",
    "        # print train and validation result\n",
    "        avg_train_loss = np.mean(train_loss)\n",
    "        avg_val_loss = np.mean(val_loss)\n",
    "        print(\n",
    "            f\"Epoch {epoch+1: <3}/{epochs} | train RMSE = {avg_train_loss: .8f} | val RMSE = {avg_val_loss: .8f}\"\n",
    "        )"
   ]
  },
  {
   "cell_type": "markdown",
   "metadata": {},
   "source": [
    "# Test"
   ]
  },
  {
   "cell_type": "code",
   "execution_count": 67,
   "metadata": {},
   "outputs": [
    {
     "name": "stdout",
     "output_type": "stream",
     "text": [
      "tensor([13.2353])\n",
      "tensor([30.5397])\n"
     ]
    }
   ],
   "source": [
    "outputs = []\n",
    "\n",
    "for x, y in zip(x_test_tensor, y_test_tensor):\n",
    "\n",
    "    lstm.eval()\n",
    "    with torch.no_grad():\n",
    "        output = lstm(x, future=1)\n",
    "        # output = output[0, -1].item()\n",
    "        # outputs.append(output)\n",
    "\n",
    "    print(y)\n",
    "    print(output)\n",
    "    break"
   ]
  }
 ],
 "metadata": {
  "kernelspec": {
   "display_name": "ml",
   "language": "python",
   "name": "python3"
  },
  "language_info": {
   "codemirror_mode": {
    "name": "ipython",
    "version": 3
   },
   "file_extension": ".py",
   "mimetype": "text/x-python",
   "name": "python",
   "nbconvert_exporter": "python",
   "pygments_lexer": "ipython3",
   "version": "3.11.5"
  }
 },
 "nbformat": 4,
 "nbformat_minor": 2
}
