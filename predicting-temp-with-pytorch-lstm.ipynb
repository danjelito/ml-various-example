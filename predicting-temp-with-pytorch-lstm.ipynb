{
 "cells": [
  {
   "cell_type": "code",
   "execution_count": 1,
   "metadata": {},
   "outputs": [],
   "source": [
    "import numpy as np\n",
    "import pandas as pd\n",
    "import matplotlib.pyplot as plt\n",
    "import seaborn as sns\n",
    "import torch\n",
    "import torch.nn as nn\n",
    "import torch.optim as optim\n",
    "from torch.utils.data import Dataset, DataLoader\n",
    "\n",
    "sns.set_style(\"whitegrid\")"
   ]
  },
  {
   "cell_type": "markdown",
   "metadata": {},
   "source": [
    "# Data Loading, Cleaning, EDA"
   ]
  },
  {
   "cell_type": "code",
   "execution_count": 2,
   "metadata": {},
   "outputs": [
    {
     "name": "stdout",
     "output_type": "stream",
     "text": [
      "(1462, 2) (114, 2)\n"
     ]
    },
    {
     "data": {
      "text/html": [
       "<div>\n",
       "<style scoped>\n",
       "    .dataframe tbody tr th:only-of-type {\n",
       "        vertical-align: middle;\n",
       "    }\n",
       "\n",
       "    .dataframe tbody tr th {\n",
       "        vertical-align: top;\n",
       "    }\n",
       "\n",
       "    .dataframe thead th {\n",
       "        text-align: right;\n",
       "    }\n",
       "</style>\n",
       "<table border=\"1\" class=\"dataframe\">\n",
       "  <thead>\n",
       "    <tr style=\"text-align: right;\">\n",
       "      <th></th>\n",
       "      <th>date</th>\n",
       "      <th>meantemp</th>\n",
       "    </tr>\n",
       "  </thead>\n",
       "  <tbody>\n",
       "    <tr>\n",
       "      <th>0</th>\n",
       "      <td>2013-01-01</td>\n",
       "      <td>10.000000</td>\n",
       "    </tr>\n",
       "    <tr>\n",
       "      <th>1</th>\n",
       "      <td>2013-01-02</td>\n",
       "      <td>7.400000</td>\n",
       "    </tr>\n",
       "    <tr>\n",
       "      <th>2</th>\n",
       "      <td>2013-01-03</td>\n",
       "      <td>7.166667</td>\n",
       "    </tr>\n",
       "    <tr>\n",
       "      <th>3</th>\n",
       "      <td>2013-01-04</td>\n",
       "      <td>8.666667</td>\n",
       "    </tr>\n",
       "    <tr>\n",
       "      <th>4</th>\n",
       "      <td>2013-01-05</td>\n",
       "      <td>6.000000</td>\n",
       "    </tr>\n",
       "  </tbody>\n",
       "</table>\n",
       "</div>"
      ],
      "text/plain": [
       "        date   meantemp\n",
       "0 2013-01-01  10.000000\n",
       "1 2013-01-02   7.400000\n",
       "2 2013-01-03   7.166667\n",
       "3 2013-01-04   8.666667\n",
       "4 2013-01-05   6.000000"
      ]
     },
     "execution_count": 2,
     "metadata": {},
     "output_type": "execute_result"
    }
   ],
   "source": [
    "train_path = \"dataset/delhi-climate-data/DailyDelhiClimateTrain.csv\"\n",
    "test_path = \"dataset/delhi-climate-data/DailyDelhiClimateTest.csv\"\n",
    "df_train = pd.read_csv(train_path)\n",
    "df_test = pd.read_csv(test_path)\n",
    "\n",
    "def clean_df(df):\n",
    "    return (df\n",
    "        .loc[:, [\"date\", \"meantemp\"]]\n",
    "        .sort_values(\"date\", ascending=True)\n",
    "        .assign(\n",
    "            date=lambda df_: pd.to_datetime(df_[\"date\"]), \n",
    "            meantemp=lambda df_: df_[\"meantemp\"].astype(\"float32\")\n",
    "        )\n",
    "        .set_index(\"date\")\n",
    "        .resample(\"1d\")\n",
    "        .ffill()\n",
    "        .reset_index()\n",
    "    )\n",
    "\n",
    "df_train = clean_df(df_train)\n",
    "df_test = clean_df(df_test)\n",
    "\n",
    "print(df_train.shape, df_test.shape)\n",
    "df_train.head()"
   ]
  },
  {
   "cell_type": "markdown",
   "metadata": {},
   "source": [
    "# Create Dataset"
   ]
  },
  {
   "cell_type": "code",
   "execution_count": 32,
   "metadata": {},
   "outputs": [
    {
     "name": "stdout",
     "output_type": "stream",
     "text": [
      "(1450, 13) (102, 13)\n"
     ]
    }
   ],
   "source": [
    "x_train = df_train[\"meantemp\"].values\n",
    "x_test = df_test[\"meantemp\"].values\n",
    "\n",
    "x_train_looped = []\n",
    "for i in range(x_train.shape[0]):\n",
    "    x = np.array(x_train[i : i + 13])\n",
    "    if x.shape[0] == 13:\n",
    "        x_train_looped.append(x.reshape(1, 13))\n",
    "x_train_looped = np.array(x_train_looped).reshape(-1, 13)\n",
    "\n",
    "\n",
    "x_test_looped = []\n",
    "for i in range(x_test.shape[0]):\n",
    "    x = np.array(x_test[i : i + 13])\n",
    "    if x.shape[0] == 13:\n",
    "        x_test_looped.append(x.reshape(1, 13))\n",
    "x_test_looped = np.array(x_test_looped).reshape(-1, 13)\n",
    "\n",
    "print(x_train_looped.shape, x_test_looped.shape)"
   ]
  },
  {
   "cell_type": "markdown",
   "metadata": {},
   "source": [
    "For training set, this is 1450 samples, each consisting of 13 months.\n",
    "\n",
    "For test set, this is 102 samples, each consisting of 13 months.\n",
    "\n",
    "Next we need to create y from this."
   ]
  },
  {
   "cell_type": "code",
   "execution_count": 34,
   "metadata": {},
   "outputs": [
    {
     "name": "stdout",
     "output_type": "stream",
     "text": [
      "torch.Size([1450, 12]) torch.Size([1450, 12])\n",
      "torch.Size([102, 12]) torch.Size([102, 12])\n"
     ]
    }
   ],
   "source": [
    "x_train_torch = torch.from_numpy(x_train_looped[:, :-1])\n",
    "y_train_torch = torch.from_numpy(x_train_looped[:, 1:])\n",
    "x_test_torch = torch.from_numpy(x_test_looped[:, :-1])\n",
    "y_test_torch = torch.from_numpy(x_test_looped[:, 1:])\n",
    "\n",
    "print(x_train_torch.shape, y_train_torch.shape)\n",
    "print(x_test_torch.shape, y_test_torch.shape)"
   ]
  },
  {
   "cell_type": "code",
   "execution_count": 35,
   "metadata": {},
   "outputs": [
    {
     "data": {
      "text/plain": [
       "tensor([[10.0000,  7.4000,  7.1667,  ..., 11.0000, 15.7143, 14.0000],\n",
       "        [ 7.4000,  7.1667,  8.6667,  ..., 15.7143, 14.0000, 15.8333],\n",
       "        [ 7.1667,  8.6667,  6.0000,  ..., 14.0000, 15.8333, 12.8333],\n",
       "        ...,\n",
       "        [16.0833, 17.8571, 19.8000,  ..., 16.8500, 17.2174, 15.2381],\n",
       "        [17.8571, 19.8000, 18.0500,  ..., 17.2174, 15.2381, 14.0952],\n",
       "        [19.8000, 18.0500, 17.2857,  ..., 15.2381, 14.0952, 15.0526]])"
      ]
     },
     "execution_count": 35,
     "metadata": {},
     "output_type": "execute_result"
    }
   ],
   "source": [
    "x_train_torch"
   ]
  },
  {
   "cell_type": "code",
   "execution_count": 36,
   "metadata": {},
   "outputs": [
    {
     "data": {
      "text/plain": [
       "tensor([[ 7.4000,  7.1667,  8.6667,  ..., 15.7143, 14.0000, 15.8333],\n",
       "        [ 7.1667,  8.6667,  6.0000,  ..., 14.0000, 15.8333, 12.8333],\n",
       "        [ 8.6667,  6.0000,  7.0000,  ..., 15.8333, 12.8333, 14.7143],\n",
       "        ...,\n",
       "        [17.8571, 19.8000, 18.0500,  ..., 17.2174, 15.2381, 14.0952],\n",
       "        [19.8000, 18.0500, 17.2857,  ..., 15.2381, 14.0952, 15.0526],\n",
       "        [18.0500, 17.2857, 15.5500,  ..., 14.0952, 15.0526, 10.0000]])"
      ]
     },
     "execution_count": 36,
     "metadata": {},
     "output_type": "execute_result"
    }
   ],
   "source": [
    "y_train_torch"
   ]
  },
  {
   "cell_type": "code",
   "execution_count": 37,
   "metadata": {},
   "outputs": [
    {
     "data": {
      "text/plain": [
       "tensor([[15.9130, 18.5000, 17.1111,  ..., 12.1111, 11.0000, 11.7895],\n",
       "        [18.5000, 17.1111, 18.7000,  ..., 11.0000, 11.7895, 13.2353],\n",
       "        [17.1111, 18.7000, 18.3889,  ..., 11.7895, 13.2353, 13.2000],\n",
       "        ...,\n",
       "        [27.8571, 29.2500, 29.2500,  ..., 33.5000, 34.5000, 34.2500],\n",
       "        [29.2500, 29.2500, 29.6667,  ..., 34.5000, 34.2500, 32.9000],\n",
       "        [29.2500, 29.6667, 30.5000,  ..., 34.2500, 32.9000, 32.8750]])"
      ]
     },
     "execution_count": 37,
     "metadata": {},
     "output_type": "execute_result"
    }
   ],
   "source": [
    "x_test_torch"
   ]
  },
  {
   "cell_type": "code",
   "execution_count": 38,
   "metadata": {},
   "outputs": [
    {
     "data": {
      "text/plain": [
       "tensor([[18.5000, 17.1111, 18.7000,  ..., 11.0000, 11.7895, 13.2353],\n",
       "        [17.1111, 18.7000, 18.3889,  ..., 11.7895, 13.2353, 13.2000],\n",
       "        [18.7000, 18.3889, 19.3182,  ..., 13.2353, 13.2000, 16.4348],\n",
       "        ...,\n",
       "        [29.2500, 29.2500, 29.6667,  ..., 34.5000, 34.2500, 32.9000],\n",
       "        [29.2500, 29.6667, 30.5000,  ..., 34.2500, 32.9000, 32.8750],\n",
       "        [29.6667, 30.5000, 31.2222,  ..., 32.9000, 32.8750, 32.0000]])"
      ]
     },
     "execution_count": 38,
     "metadata": {},
     "output_type": "execute_result"
    }
   ],
   "source": [
    "y_test_torch"
   ]
  },
  {
   "cell_type": "markdown",
   "metadata": {},
   "source": [
    "# Model Architecture"
   ]
  }
 ],
 "metadata": {
  "kernelspec": {
   "display_name": "ml",
   "language": "python",
   "name": "python3"
  },
  "language_info": {
   "codemirror_mode": {
    "name": "ipython",
    "version": 3
   },
   "file_extension": ".py",
   "mimetype": "text/x-python",
   "name": "python",
   "nbconvert_exporter": "python",
   "pygments_lexer": "ipython3",
   "version": "3.11.5"
  }
 },
 "nbformat": 4,
 "nbformat_minor": 2
}
