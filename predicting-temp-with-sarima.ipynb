{
 "cells": [
  {
   "cell_type": "code",
   "execution_count": 2,
   "metadata": {},
   "outputs": [],
   "source": [
    "import numpy as np\n",
    "import pandas as pd\n",
    "import matplotlib.pyplot as plt\n",
    "import seaborn as sns\n",
    "\n",
    "sns.set_style(\"whitegrid\")"
   ]
  },
  {
   "cell_type": "markdown",
   "metadata": {},
   "source": [
    "# Define Helper Functions"
   ]
  },
  {
   "cell_type": "code",
   "execution_count": 6,
   "metadata": {},
   "outputs": [],
   "source": [
    "def test_adfuller(array, array_name, alpha=0.05):\n",
    "    \"\"\"\n",
    "    adfuller test to test for stationarity\n",
    "    null hypothesis: a unit root (root >= 1 or <= -1) is present (not stationary)\n",
    "    alternative hypothesis: a unit root is not present (stationary)\n",
    "\n",
    "\n",
    "    Args:\n",
    "        array (np.array): array to test\n",
    "        array_name (string): array name to display\n",
    "        alpha (float, optional): test alpha. Defaults to 0.05.\n",
    "    \"\"\"\n",
    "    from statsmodels.tsa.stattools import adfuller\n",
    "\n",
    "    adf_result = adfuller(array)\n",
    "    adf_stats = adf_result[0]\n",
    "    p_value = adf_result[1]\n",
    "\n",
    "    print(f\"{array_name}\")\n",
    "    print(f\"\\tADF Statistic: {adf_stats: .4}\")\n",
    "    print(f\"\\tp-value: {p_value: .4}\")\n",
    "    if p_value < alpha:\n",
    "        print(\"\\tp value < 0.05: we reject the H0 that our series is not stationary\")\n",
    "        print(f\"\\tconclusion: {array_name} is stationary\")\n",
    "    else:\n",
    "        print(\n",
    "            \"\\tp value > 0.05: we cannot reject the H0 that our series is not stationary\"\n",
    "        )\n",
    "        print(f\"\\tconclusion: {array_name} is not stationary\")\n",
    "\n",
    "\n",
    "def search_optimal_diff(series, low=0, high=1):\n",
    "    \"\"\"find out how many times df need to be differenced to become stationary\"\"\"\n",
    "    for i in range(low, (high + 1)):\n",
    "        data = np.diff(series, n=i)\n",
    "        test_adfuller(data, f\"JJ - {i} order differencing\")\n",
    "\n",
    "\n",
    "def optimize_sarima(\n",
    "    endog: pd.Series, ps: list, qs: list, d: int, Ps: list, Qs: list, D: int, s: int\n",
    "):\n",
    "    \"\"\"try all possible combinatios of the hyperparameter\n",
    "    credit to Marco Peixeiro\n",
    "\n",
    "    Args:\n",
    "        endog (pd.Series)\n",
    "        ps (list): list of p to try\n",
    "        qs (list): list of q to try\n",
    "        d (int): d\n",
    "        Ps (list): list of P to try\n",
    "        Qs (list): list of Q to try\n",
    "        D (int): D\n",
    "        s (int): s\n",
    "\n",
    "    Returns:\n",
    "        pd.DataFrame: dataframe with all combinations and their AIC\n",
    "    \"\"\"\n",
    "    import warnings\n",
    "    from itertools import product\n",
    "    from statsmodels.tsa.statespace.sarimax import SARIMAX\n",
    "    from tqdm import tqdm\n",
    "\n",
    "    order_list = list(\n",
    "        product(ps, [d], qs, Ps, [D], Qs, [s])\n",
    "    )  # get all possible combinations of (p, d, q, P, D, Q, s)\n",
    "\n",
    "    results = []\n",
    "    with warnings.catch_warnings():\n",
    "        warnings.filterwarnings(\n",
    "            \"ignore\"\n",
    "        )  # ! to ignore \"Using zeros as starting parameters\" warning\n",
    "        for order in tqdm(order_list):\n",
    "            model = SARIMAX(\n",
    "                endog=endog,\n",
    "                simple_differencing=False,\n",
    "                order=(order[0], order[1], order[2]),\n",
    "                seasonal_order=(order[3], order[4], order[5], order[6]),\n",
    "            )\n",
    "            result = model.fit(disp=False)\n",
    "            aic = result.aic\n",
    "            results.append((order, aic))\n",
    "\n",
    "    df_results = pd.DataFrame(\n",
    "        results, columns=[\"(p, d, q, P, D, Q, s)\", \"aic\"]\n",
    "    ).sort_values(\"aic\", ascending=True)\n",
    "    return df_results\n",
    "\n",
    "\n",
    "def test_ljungbox(residuals):\n",
    "    \"\"\"H0: The data are independently distributed (not correlated).\n",
    "        Ha: The data are not independently distributed; they exhibit serial correlation.\n",
    "\n",
    "    Args:\n",
    "        residuals (residuals): SARIMAX result residuals\n",
    "\n",
    "    Returns:\n",
    "        pd.DataFrame: dataframe containing ljung-box test result\n",
    "    \"\"\"\n",
    "    from statsmodels.stats.diagnostic import acorr_ljungbox\n",
    "\n",
    "    df_res = acorr_ljungbox(residuals, np.arange(1, 11, 1))\n",
    "    df_res = df_res.assign(\n",
    "        result=np.where(\n",
    "            df_res[\"lb_pvalue\"] > 0.05,\n",
    "            \"residuals are not correlated\",\n",
    "            \"residuals are correlated\",\n",
    "        )\n",
    "    )\n",
    "    return df_res"
   ]
  },
  {
   "cell_type": "markdown",
   "metadata": {},
   "source": [
    "# Data Loading, Cleaning, EDA"
   ]
  },
  {
   "cell_type": "code",
   "execution_count": 3,
   "metadata": {},
   "outputs": [
    {
     "name": "stdout",
     "output_type": "stream",
     "text": [
      "(1462, 2) (114, 2)\n"
     ]
    },
    {
     "data": {
      "text/html": [
       "<div>\n",
       "<style scoped>\n",
       "    .dataframe tbody tr th:only-of-type {\n",
       "        vertical-align: middle;\n",
       "    }\n",
       "\n",
       "    .dataframe tbody tr th {\n",
       "        vertical-align: top;\n",
       "    }\n",
       "\n",
       "    .dataframe thead th {\n",
       "        text-align: right;\n",
       "    }\n",
       "</style>\n",
       "<table border=\"1\" class=\"dataframe\">\n",
       "  <thead>\n",
       "    <tr style=\"text-align: right;\">\n",
       "      <th></th>\n",
       "      <th>date</th>\n",
       "      <th>meantemp</th>\n",
       "    </tr>\n",
       "  </thead>\n",
       "  <tbody>\n",
       "    <tr>\n",
       "      <th>0</th>\n",
       "      <td>2013-01-01</td>\n",
       "      <td>10.000000</td>\n",
       "    </tr>\n",
       "    <tr>\n",
       "      <th>1</th>\n",
       "      <td>2013-01-02</td>\n",
       "      <td>7.400000</td>\n",
       "    </tr>\n",
       "    <tr>\n",
       "      <th>2</th>\n",
       "      <td>2013-01-03</td>\n",
       "      <td>7.166667</td>\n",
       "    </tr>\n",
       "    <tr>\n",
       "      <th>3</th>\n",
       "      <td>2013-01-04</td>\n",
       "      <td>8.666667</td>\n",
       "    </tr>\n",
       "    <tr>\n",
       "      <th>4</th>\n",
       "      <td>2013-01-05</td>\n",
       "      <td>6.000000</td>\n",
       "    </tr>\n",
       "  </tbody>\n",
       "</table>\n",
       "</div>"
      ],
      "text/plain": [
       "        date   meantemp\n",
       "0 2013-01-01  10.000000\n",
       "1 2013-01-02   7.400000\n",
       "2 2013-01-03   7.166667\n",
       "3 2013-01-04   8.666667\n",
       "4 2013-01-05   6.000000"
      ]
     },
     "execution_count": 3,
     "metadata": {},
     "output_type": "execute_result"
    }
   ],
   "source": [
    "train_path = \"dataset/delhi-climate-data/DailyDelhiClimateTrain.csv\"\n",
    "test_path = \"dataset/delhi-climate-data/DailyDelhiClimateTest.csv\"\n",
    "df_train = pd.read_csv(train_path)\n",
    "df_test = pd.read_csv(test_path)\n",
    "\n",
    "def clean_df(df):\n",
    "    return (df\n",
    "        .loc[:, [\"date\", \"meantemp\"]]\n",
    "        .sort_values(\"date\", ascending=True)\n",
    "        .assign(\n",
    "            date=lambda df_: pd.to_datetime(df_[\"date\"]), \n",
    "            meantemp=lambda df_: df_[\"meantemp\"].astype(\"float32\")\n",
    "        )\n",
    "        .set_index(\"date\")\n",
    "        .resample(\"1d\")\n",
    "        .ffill()\n",
    "        .reset_index()\n",
    "    )\n",
    "\n",
    "df_train = clean_df(df_train)\n",
    "df_test = clean_df(df_test)\n",
    "\n",
    "print(df_train.shape, df_test.shape)\n",
    "df_train.head()"
   ]
  },
  {
   "cell_type": "markdown",
   "metadata": {},
   "source": [
    "# Create Dataset"
   ]
  },
  {
   "cell_type": "code",
   "execution_count": 5,
   "metadata": {},
   "outputs": [
    {
     "name": "stdout",
     "output_type": "stream",
     "text": [
      "(1336, 13) (102, 13) (102, 13)\n"
     ]
    }
   ],
   "source": [
    "x_train = df_train[\"meantemp\"].values[:-114]\n",
    "x_val = df_train[\"meantemp\"].values[-114:]\n",
    "x_test = df_test[\"meantemp\"].values\n",
    "\n",
    "x_train_looped = []\n",
    "for i in range(x_train.shape[0]):\n",
    "    x = np.array(x_train[i : i + 13])\n",
    "    if x.shape[0] == 13:\n",
    "        x_train_looped.append(x.reshape(1, 13))\n",
    "x_train_looped = np.array(x_train_looped).reshape(-1, 13)\n",
    "\n",
    "\n",
    "x_val_looped = []\n",
    "for i in range(x_val.shape[0]):\n",
    "    x = np.array(x_val[i : i + 13])\n",
    "    if x.shape[0] == 13:\n",
    "        x_val_looped.append(x.reshape(1, 13))\n",
    "x_val_looped = np.array(x_val_looped).reshape(-1, 13)\n",
    "\n",
    "\n",
    "x_test_looped = []\n",
    "for i in range(x_test.shape[0]):\n",
    "    x = np.array(x_test[i : i + 13])\n",
    "    if x.shape[0] == 13:\n",
    "        x_test_looped.append(x.reshape(1, 13))\n",
    "x_test_looped = np.array(x_test_looped).reshape(-1, 13)\n",
    "\n",
    "print(x_train_looped.shape, x_val_looped.shape, x_test_looped.shape)"
   ]
  },
  {
   "cell_type": "markdown",
   "metadata": {},
   "source": [
    "# Model Selection"
   ]
  },
  {
   "cell_type": "code",
   "execution_count": 11,
   "metadata": {},
   "outputs": [
    {
     "name": "stdout",
     "output_type": "stream",
     "text": [
      "JJ - 7 order differencing\n",
      "\tADF Statistic: -27.88\n",
      "\tp-value:  0.0\n",
      "\tp value < 0.05: we reject the H0 that our series is not stationary\n",
      "\tconclusion: JJ - 7 order differencing is stationary\n"
     ]
    }
   ],
   "source": [
    "search_optimal_diff(df_train[\"meantemp\"], low= 7, high= 7) # type: ignore"
   ]
  },
  {
   "cell_type": "code",
   "execution_count": 12,
   "metadata": {},
   "outputs": [
    {
     "name": "stderr",
     "output_type": "stream",
     "text": [
      "  6%|▌         | 15/256 [00:57<19:10,  4.77s/it]"
     ]
    }
   ],
   "source": [
    "ps = list(range(0, 4, 1))\n",
    "qs = list(range(0, 4, 1))\n",
    "d = 1\n",
    "\n",
    "Ps = list(range(0, 4, 1))\n",
    "Qs = list(range(0, 4, 1))\n",
    "D = 1\n",
    "s = 7  # number of period in a season (12 months in a year)\n",
    "\n",
    "df_result = optimize_sarima(df_train[\"meantemp\"], ps, qs, d, Ps, Qs, D, s)\n",
    "df_result"
   ]
  }
 ],
 "metadata": {
  "kernelspec": {
   "display_name": "ml",
   "language": "python",
   "name": "python3"
  },
  "language_info": {
   "codemirror_mode": {
    "name": "ipython",
    "version": 3
   },
   "file_extension": ".py",
   "mimetype": "text/x-python",
   "name": "python",
   "nbconvert_exporter": "python",
   "pygments_lexer": "ipython3",
   "version": "3.11.5"
  }
 },
 "nbformat": 4,
 "nbformat_minor": 2
}
