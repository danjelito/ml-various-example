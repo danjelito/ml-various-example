{
 "cells": [
  {
   "cell_type": "code",
   "execution_count": 52,
   "metadata": {},
   "outputs": [],
   "source": [
    "import numpy as np\n",
    "import csv\n",
    "from torch.utils.data import Dataset, DataLoader"
   ]
  },
  {
   "cell_type": "code",
   "execution_count": 57,
   "metadata": {},
   "outputs": [
    {
     "name": "stdout",
     "output_type": "stream",
     "text": [
      "Batch 1\n",
      "Inputs shape: 8\n",
      "Targets shape: 8\n",
      "Inputs: ('A Textbook of Chemical Engineering Thermodynamics About the Author K. V. Narayanan, PhD, is former Professor and Head, Department of Chemical Engineering, Government Engineering College, Thrissur (Kerala). Earlier (2000-2003), he was Professor and Head of the Department of Chemical Engineering, Government Engineering College, Kozhikode. With wide experience in teaching, he has published many research papers on thermodynamic properties of electrolyte solutions and separation processes in international journals. Professor Narayanan is a member of many professional bodies such as Indian Society for Technical Education and Indian Institute of Chemical Engineers.', 'Complete NEET Guide: Physics ', 'Crazy Sutra 100Ml Premium Glass Bottle With Cork For Liquids Such As Liqueurs Wine Vinegar Oil Juices Gin Milk (1 Pc) Crazy Sutra 100ml Premium Empty Glass Bottle with Cork. Ideal for liquids such as liqueurs wine vinegar oil juices Gin Milk', 'Quantum QHM630 Multimedia Speakers (Black) Connectivity Power Jack: USB 2.0 (Plug and Play) Audio Cord Type: 3.5mm Controls VOL-, VOL+, Mute. Specifications, Connectivity, Power Jack: USB 2.0 (Plug and Play), Audio Cord Type: 3.5mm. Watt: 3W x 2, Controls: VOL-, VOL+, Mute. Dimensions: width x height x depth 9 x 10 x 16 cm, Weight: 700g.', 'Envent LiveFree 325 ET-BTSP325 Wireless Portable Bluetooth Speakers (Black) Colour:Black   If you ask a party-hopper, they will tell you that music is one of the central elements of any party or celebration. So if you are looking for a sound system that jams out all your party tracks in rich audio, take a look at this rugged LiveFree speaker from Envent. For any product related queries kindly contact brand customer care: Toll free no 18008434333 /8860022600 or email us – wecare@enventworld.com', \"Van Heusen Men's Cotton Rich Lounge Shorts Don this comfortable pair of shorts from Van Heusen whilst heading for an early morning jog. Crafted from a poly-cotton blend with a drawstring fastening at the waistband, these active wear shorts are ideal for both leisure and outdoor activities.• Smart Tech - Easy stain release from the garment.• Smart Tech - Quick drying fabric.• Embroidered logo. Van Heusen is a premier apparel and lifestyle brand in the country offering classic and elegant clothing line to the young corporate customers. A thoughtfully designed range provides clothing solutions for every occasion, be it formal, casual or ceremonial. Crafted using fabrics from the finest mills, it offers standardized fits with unmatchable workmanship and a great sense of style. Sophisticated and modern, Van Heusen clothing line gives you the power to dress the way you like and express your own sartorial style. After establishing itself as the most sought after brand in the office wear segment offering formal clothing, Van Heusen forayed into the casual and occasion wear segment through their sub brands Van Heusen Sports and V Dot. It has now become the most preferred brand for the cool and confident individual gliding from the boardroom to an evening dinner.\", 'Hikvision DS-2CE1AD0T-IRP 2MP 1080P Full HD Night Vision Outdoor Bullet Camera (White) Hikvision New Upgraded DS-2CE1AD0T-IRPF 2MP (1080P) Plastic Body Night Vision Bullet Camera 1Pcs. Camera Description: 2 Megapixel High-performance CMOS, Analog HD output, up to 1080P resolution, True Day/Night, Smart IR, Up to 20m IR distance, Switchable TVI/AHD/CVI/CVBS. Effective Pixels- 1920 (H) x 1080 (V), Min. illumination- 0.01 Lux @ (F1.2, AGC ON), 0 Lux with IR. Signal System - PAL/NTSC, IP66 Weatherproof. It can be used with Hikvision 1MP, 2MP and 3MP Turbo HD DVR. Can Be Watched Online Using Cloud P2P. High Quality Branded Product. Installation is not included. 2 Year Warranty of Camera. (Physical Damage & Burning are not covering in Warranty). Note- Model number may differ due to product upgrade and enhancement, but resolution and functions remains same.', 'CRAFTWAFT Handmade Pink White Mini Rose Floral Bunch With the endorsement of our experienced professionals,CRAFTWAFT is engaged in offering a wide assortments of Dry Decorative Flowers to our valuable customers. The products offered by us are processed using advanced processing techniques in compliance with the prevelling market trends.All our products are made by the highly professional & skilled artists to get a superior quality. All the flowers can be used to decorate your room,can be used in occasions also used in art and craft works.')\n",
      "Targets: ('Books', 'Books', 'Household', 'Electronics', 'Electronics', 'Clothing & Accessories', 'Electronics', 'Household')\n"
     ]
    }
   ],
   "source": [
    "class CSVDataset(Dataset):\n",
    "    def __init__(self, path, transform=None, target_transform=None):\n",
    "        self.path = path\n",
    "        self.transform = transform\n",
    "        self.target_transform = target_transform\n",
    "        self.num_rows = self._count_rows()\n",
    "\n",
    "    def _count_rows(self):\n",
    "        with open(self.path, \"r\") as file:\n",
    "            return sum(1 for _ in file)\n",
    "\n",
    "    def __len__(self):\n",
    "        return self.num_rows\n",
    "\n",
    "    def __getitem__(self, index):\n",
    "        with open(self.path, \"r\") as file:\n",
    "            reader = csv.reader(file)\n",
    "            for i, (y, x) in enumerate(reader):\n",
    "                if i == index:\n",
    "                    if self.transform:\n",
    "                        x = self.transform(x)\n",
    "                    if self.target_transform:\n",
    "                        y = self.target_transform(y)\n",
    "                    return x, y\n",
    "\n",
    "\n",
    "path = \"dataset/product-description/ecommerceDataset.csv\"\n",
    "sample_dataset = CSVDataset(path)\n",
    "sample_dataloader = DataLoader(sample_dataset, batch_size=8, shuffle=True)\n",
    "\n",
    "for batch_idx, (inputs, targets) in enumerate(sample_dataloader):\n",
    "    print(f\"Batch {batch_idx + 1}\")\n",
    "    print(f\"Inputs shape: {len(inputs)}\")  # Should be (batch_size, sequence_length)\n",
    "    print(f\"Targets shape: {len(targets)}\")  # Should be (batch_size)\n",
    "    print(\"Inputs:\", inputs)\n",
    "    print(\"Targets:\", targets)\n",
    "    break"
   ]
  },
  {
   "cell_type": "code",
   "execution_count": null,
   "metadata": {},
   "outputs": [],
   "source": []
  }
 ],
 "metadata": {
  "kernelspec": {
   "display_name": "ml",
   "language": "python",
   "name": "python3"
  },
  "language_info": {
   "codemirror_mode": {
    "name": "ipython",
    "version": 3
   },
   "file_extension": ".py",
   "mimetype": "text/x-python",
   "name": "python",
   "nbconvert_exporter": "python",
   "pygments_lexer": "ipython3",
   "version": "3.12.4"
  }
 },
 "nbformat": 4,
 "nbformat_minor": 2
}
