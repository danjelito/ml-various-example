{
 "cells": [
  {
   "cell_type": "code",
   "execution_count": 1,
   "metadata": {},
   "outputs": [],
   "source": [
    "import numpy as np\n",
    "import csv\n",
    "import re\n",
    "from gensim.models import FastText\n",
    "import string\n",
    "from nltk.corpus import stopwords\n",
    "from sklearn.model_selection import train_test_split\n",
    "from nltk.tokenize import TreebankWordTokenizer\n",
    "from nltk.stem import WordNetLemmatizer\n",
    "\n",
    "np.random.seed(0)\n",
    "\n",
    "stops = set(stopwords.words(\"english\"))\n",
    "lemmatizer = WordNetLemmatizer()\n",
    "tokenizer = TreebankWordTokenizer()\n",
    "\n",
    "\n",
    "def decontracted(text):\n",
    "    \"\"\"\n",
    "    Expand common contractions in a text.\n",
    "    \"\"\"\n",
    "    # specific\n",
    "    text = re.sub(r\"won\\'t\", \"will not\", text)\n",
    "    text = re.sub(r\"can\\'t\", \"can not\", text)\n",
    "    text = re.sub(r\"ain\\'t\", \"are not\", text)\n",
    "    text = re.sub(r\"shan\\'t\", \"shall not\", text)\n",
    "    text = re.sub(r\"ma\\'am\", \"maam\", text)\n",
    "    text = re.sub(r\"y\\'all\", \"you all\", text)\n",
    "\n",
    "    # general\n",
    "    text = re.sub(r\"n\\'t\", \" not\", text)\n",
    "    text = re.sub(r\"\\'re\", \" are\", text)\n",
    "    text = re.sub(r\"\\'s\", \" is\", text)\n",
    "    text = re.sub(r\"\\'d\", \" would\", text)\n",
    "    text = re.sub(r\"\\'ll\", \" will\", text)\n",
    "    text = re.sub(r\"\\'t\", \" not\", text)\n",
    "    text = re.sub(r\"\\'ve\", \" have\", text)\n",
    "    text = re.sub(r\"\\'m\", \" am\", text)\n",
    "    return text\n",
    "\n",
    "\n",
    "def remove_urls(text):\n",
    "    \"\"\"\n",
    "    Remove all URLs from the text and replace them with 'URL'.\n",
    "    This function detects URLs starting with http, https, ftp, or www.\n",
    "    \"\"\"\n",
    "    # Pattern to detect URLs that start with http, https, ftp, www\n",
    "    url_pattern = r\"(https?:\\/\\/|ftp:\\/\\/|www\\.)?([-a-zA-Z0-9@:%._\\+~#=]{1,256}\\.[a-zA-Z0-9()]{1,6}\\b([-a-zA-Z0-9()@:%_\\+.~#?&//=]*))\"\n",
    "    return re.sub(url_pattern, \"URL\", text)\n",
    "\n",
    "\n",
    "def clean_quotes(text):\n",
    "    \"\"\"\n",
    "    Remove &quot\n",
    "    \"\"\"\n",
    "    return re.sub(\"&quot\", '\"', text)\n",
    "\n",
    "\n",
    "def translate_emojis(text):\n",
    "    \"\"\"\n",
    "    Translates common text-based emojis like :) or :-D to the word 'emoji'.\n",
    "    \"\"\"\n",
    "    # Define a regex pattern to match various text-based emojis\n",
    "    emoji_pattern = r\"(:-\\)|:\\)|:-\\(|:\\(|:-D|:D|:-P|:P|:o|:O|<3|;\\)|;-\\))\"\n",
    "\n",
    "    # Replace matching emojis with the word 'emoji'\n",
    "    return re.sub(emoji_pattern, \" emoji \", text)\n",
    "\n",
    "\n",
    "def remove_punctuations(text):\n",
    "    \"\"\"\n",
    "    Remove punctuations.\n",
    "    \"\"\"\n",
    "    translator = str.maketrans(\"\", \"\", string.punctuation)\n",
    "    return text.translate(translator)\n",
    "\n",
    "\n",
    "def replace_numbers_with_text(text):\n",
    "    \"\"\"\n",
    "    Replace all numbers (including ordinals like 13th) with the word 'number'.\n",
    "    \"\"\"\n",
    "    # Pattern to match numbers (both plain numbers and ordinals)\n",
    "    number_pattern = r\"\\d+(?:st|nd|rd|th)?\\b\"\n",
    "\n",
    "    # Replace all matches with the word 'number'\n",
    "    return re.sub(number_pattern, \" number \", text)\n",
    "\n",
    "\n",
    "def remove_bom(text):\n",
    "    \"\"\"\n",
    "    Remove the Byte Order Mark (BOM) if it exists in the text.\n",
    "    \"\"\"\n",
    "    return text.replace(\"\\ufeff\", \"\")\n",
    "\n",
    "\n",
    "def remove_non_standard_characters(text):\n",
    "    \"\"\"\n",
    "    Use a regular expression to remove non-standard characters.\n",
    "    \"\"\"\n",
    "    cleaned_text = re.sub(r'[^\\x20-\\x7E]+', '', text)\n",
    "    return cleaned_text\n",
    "\n",
    "\n",
    "def clean(text):\n",
    "    \"\"\"\n",
    "    Clean a text by applying all cleaning steps.\n",
    "    \"\"\"\n",
    "    text = remove_bom(text)\n",
    "    text = decontracted(text)\n",
    "    text = translate_emojis(text)\n",
    "    text = remove_urls(text)\n",
    "    text = clean_quotes(text)\n",
    "    text = replace_numbers_with_text(text)\n",
    "    text = remove_punctuations(text)\n",
    "    text = remove_non_standard_characters(text)\n",
    "    return \" \".join(text.split())\n",
    "\n",
    "\n",
    "def lower_doc(doc):\n",
    "    \"\"\"\n",
    "    Convert the input document to lowercase.\n",
    "    \"\"\"\n",
    "    return doc.lower()\n",
    "\n",
    "\n",
    "def tokenize_doc(doc):\n",
    "    \"\"\"\n",
    "    Tokenize the input document using NLTK word_tokenize.\n",
    "    \"\"\"\n",
    "    return tokenizer.tokenize(doc)\n",
    "\n",
    "\n",
    "def lemmatize_doc(doc):\n",
    "    \"\"\"\n",
    "    Lemmatize each token in the input document using WordNetLemmatizer.\n",
    "    \"\"\"\n",
    "    return [lemmatizer.lemmatize(token) for token in doc]\n",
    "\n",
    "\n",
    "def remove_stopwords(doc):\n",
    "    \"\"\"\n",
    "    Remove stopwords from the input document.\n",
    "    \"\"\"\n",
    "    return [token for token in doc if token not in stops]\n",
    "\n",
    "\n",
    "def remove_digit(doc):\n",
    "    \"\"\"\n",
    "    Remove tokens that consist entirely of digits.\n",
    "    \"\"\"\n",
    "    return [\n",
    "        token\n",
    "        for token in doc\n",
    "        if not (\n",
    "            token.isdigit()\n",
    "            or token.replace(\".\", \"\").isnumeric()\n",
    "            or token.replace(\",\", \"\").isnumeric()\n",
    "        )\n",
    "    ]\n",
    "\n",
    "\n",
    "def strip_doc(doc):\n",
    "    \"\"\"\n",
    "    Strip leading and trailing whitespace from each token in the input document.\n",
    "    \"\"\"\n",
    "    return [token.strip() for token in doc]\n",
    "\n",
    "\n",
    "def remove_empty_strings(doc):\n",
    "    \"\"\"\n",
    "    Remove empty strings from the list of tokens.\n",
    "    \"\"\"\n",
    "    return [token for token in doc if token != \"''\"]\n",
    "\n",
    "\n",
    "def preprocess(doc):\n",
    "    \"\"\"\n",
    "    Preprocess a text by applying all preprocessing steps.\n",
    "    \"\"\"\n",
    "    doc = lower_doc(doc)\n",
    "    doc = tokenize_doc(doc)\n",
    "    doc = remove_stopwords(doc)\n",
    "    doc = remove_digit(doc)\n",
    "    doc = lemmatize_doc(doc)\n",
    "    doc = strip_doc(doc)\n",
    "    doc = remove_empty_strings(doc)\n",
    "    doc = [token for token in doc if len(token) > 1]\n",
    "    return doc"
   ]
  },
  {
   "cell_type": "markdown",
   "metadata": {},
   "source": [
    "# Loading data"
   ]
  },
  {
   "cell_type": "code",
   "execution_count": 2,
   "metadata": {},
   "outputs": [
    {
     "data": {
      "text/plain": [
       "((1760,), (1760,), (196,), (196,), {0.0, 1.0})"
      ]
     },
     "execution_count": 2,
     "metadata": {},
     "output_type": "execute_result"
    }
   ],
   "source": [
    "x = []\n",
    "y = []\n",
    "with open(\n",
    "    \"dataset/youtube-comment-spam/Youtube-Spam-Dataset.csv\",\n",
    "    mode=\"r\",\n",
    "    encoding=\"utf-8-sig\",\n",
    ") as csvfile:\n",
    "    reader = csv.reader(csvfile, delimiter=\",\")\n",
    "    for i, row in enumerate(reader):\n",
    "        if i > 0:\n",
    "            raw_text = row[3]\n",
    "            label = row[-1]\n",
    "            x.append(raw_text)\n",
    "            y.append(label)\n",
    "\n",
    "x = np.array(x)\n",
    "y = np.array(y)\n",
    "y = y.astype(\"float\")  # Change from int to float\n",
    "\n",
    "x_train, x_test, y_train, y_test = train_test_split(\n",
    "    x, y, test_size=0.10, random_state=42\n",
    ")\n",
    "\n",
    "x_train.shape, y_train.shape, x_test.shape, y_test.shape, set(y_train)"
   ]
  },
  {
   "cell_type": "markdown",
   "metadata": {},
   "source": [
    "# Cleaning and preprocessing"
   ]
  },
  {
   "cell_type": "markdown",
   "metadata": {},
   "source": [
    "See the data, and check the result of cleaning and preprocessing."
   ]
  },
  {
   "cell_type": "code",
   "execution_count": 3,
   "metadata": {},
   "outputs": [
    {
     "name": "stdout",
     "output_type": "stream",
     "text": [
      "Ori: Hello everyone :) I know most of you probably pass up these kind of comments, but for those who are still reading this, thanks! I don’t have any money for advertisements, no chance of getting heard, nothing... If this comes off as spam, sorry. I am a video animator, just trying to make it up into the video animation industry. Please give me the chance to prove myself to you. Please visit my channel, subscribe if you like and thumb this comment up, so everyone can see! Thank You! \n",
      "Cleaned: Hello everyone emoji I know most of you probably pass up these kind of comments but for those who are still reading this thanks I dont have any money for advertisements no chance of getting heard nothing If this comes off as spam sorry I am a video animator just trying to make it up into the video animation industry Please give me the chance to prove myself to you Please visit my channel subscribe if you like and thumb this comment up so everyone can see Thank You\n",
      "Preprocessed: ['hello', 'everyone', 'emoji', 'know', 'probably', 'pas', 'kind', 'comment', 'still', 'reading', 'thanks', 'dont', 'money', 'advertisement', 'chance', 'getting', 'heard', 'nothing', 'come', 'spam', 'sorry', 'video', 'animator', 'trying', 'make', 'video', 'animation', 'industry', 'please', 'give', 'chance', 'prove', 'please', 'visit', 'channel', 'subscribe', 'like', 'thumb', 'comment', 'everyone', 'see', 'thank']\n",
      "\n",
      "Ori: I like\n",
      "Cleaned: I like\n",
      "Preprocessed: ['like']\n",
      "\n",
      "Ori: Hey everyone check out my channel leave a like and subscribe please and if there is a song you want me to do post the name in the comments and I will get on to it(: Thanks\n",
      "Cleaned: Hey everyone check out my channel leave a like and subscribe please and if there is a song you want me to do post the name in the comments and I will get on to it Thanks\n",
      "Preprocessed: ['hey', 'everyone', 'check', 'channel', 'leave', 'like', 'subscribe', 'please', 'song', 'want', 'post', 'name', 'comment', 'get', 'thanks']\n",
      "\n",
      "Ori: subscribers please`﻿\n",
      "Cleaned: subscribers please\n",
      "Preprocessed: ['subscriber', 'please']\n",
      "\n",
      "Ori: I love song ﻿\n",
      "Cleaned: I love song\n",
      "Preprocessed: ['love', 'song']\n",
      "\n",
      "Ori: me shaking my sexy ass on my channel enjoy ^_^ ﻿\n",
      "Cleaned: me shaking my sexy ass on my channel enjoy\n",
      "Preprocessed: ['shaking', 'sexy', 'as', 'channel', 'enjoy']\n",
      "\n",
      "Ori: Is that Charlie from lost?<br />﻿\n",
      "Cleaned: Is that Charlie from lostbr\n",
      "Preprocessed: ['charlie', 'lostbr']\n",
      "\n",
      "Ori: Never gets old best song ever  ❤﻿\n",
      "Cleaned: Never gets old best song ever\n",
      "Preprocessed: ['never', 'get', 'old', 'best', 'song', 'ever']\n",
      "\n",
      "Ori: epic﻿\n",
      "Cleaned: epic\n",
      "Preprocessed: ['epic']\n",
      "\n",
      "Ori: imagine if this guy put adsense on with all these views... u could pay ur  morgage﻿\n",
      "Cleaned: imagine if this guy put adsense on with all these views u could pay ur morgage\n",
      "Preprocessed: ['imagine', 'guy', 'put', 'adsense', 'view', 'could', 'pay', 'ur', 'morgage']\n",
      "\n"
     ]
    }
   ],
   "source": [
    "random_idx = np.random.randint(0, x_train.shape[0], size=10)\n",
    "for raw_text in x_train[random_idx]:\n",
    "    print(f\"Ori: {raw_text}\")\n",
    "    print(f\"Cleaned: {clean(raw_text)}\")\n",
    "    print(f\"Preprocessed: {preprocess(clean(raw_text))}\")\n",
    "    print()"
   ]
  },
  {
   "cell_type": "markdown",
   "metadata": {},
   "source": [
    "Looks okay so we can clean and preprocess the text."
   ]
  },
  {
   "cell_type": "code",
   "execution_count": 4,
   "metadata": {},
   "outputs": [],
   "source": [
    "x_train_preprocessed = ([preprocess(clean(xi)) for xi in x_train])\n",
    "x_test_preprocessed = ([preprocess(clean(xi)) for xi in x_test])"
   ]
  },
  {
   "cell_type": "markdown",
   "metadata": {},
   "source": [
    "Then some text will be fully erased because they contains nothing. We have to exclude such text."
   ]
  },
  {
   "cell_type": "code",
   "execution_count": 5,
   "metadata": {},
   "outputs": [
    {
     "data": {
      "text/plain": [
       "(1756, (1756,), 196, (196,))"
      ]
     },
     "execution_count": 5,
     "metadata": {},
     "output_type": "execute_result"
    }
   ],
   "source": [
    "idx_with_zeros = [idx for idx, sublist in enumerate(x_train_preprocessed) if len(sublist) == 0]\n",
    "x_train_preprocessed = [x for idx, x in enumerate(x_train_preprocessed) if idx not in idx_with_zeros]\n",
    "y_train = np.array([y for idx, y in enumerate(y_train) if idx not in idx_with_zeros])\n",
    "\n",
    "idx_with_zeros = [idx for idx, sublist in enumerate(x_test_preprocessed) if len(sublist) == 0]\n",
    "x_test_preprocessed = [x for idx, x in enumerate(x_test_preprocessed) if idx not in idx_with_zeros]\n",
    "y_test = np.array([y for idx, y in enumerate(y_test) if idx not in idx_with_zeros])\n",
    "\n",
    "assert len(x_train_preprocessed) == y_train.shape[0]\n",
    "assert len(x_test_preprocessed) == y_test.shape[0]\n",
    "len(x_train_preprocessed), y_train.shape, len(x_test_preprocessed), y_test.shape"
   ]
  },
  {
   "cell_type": "markdown",
   "metadata": {},
   "source": [
    "# Embedding"
   ]
  },
  {
   "cell_type": "markdown",
   "metadata": {},
   "source": [
    "## Fasttext"
   ]
  },
  {
   "cell_type": "markdown",
   "metadata": {},
   "source": [
    "We will use fasttext to create embedding."
   ]
  },
  {
   "cell_type": "code",
   "execution_count": 6,
   "metadata": {},
   "outputs": [],
   "source": [
    "model = FastText(sentences=x_train_preprocessed, vector_size=20, epochs=100)"
   ]
  },
  {
   "cell_type": "markdown",
   "metadata": {},
   "source": [
    "Let's see the embedding result."
   ]
  },
  {
   "cell_type": "code",
   "execution_count": 7,
   "metadata": {},
   "outputs": [
    {
     "data": {
      "text/plain": [
       "array([ 2.1129637 , -0.3571668 ,  0.85003513,  0.55510575, -0.34005284,\n",
       "        0.75079966, -0.78671783, -0.13330665, -0.98105836,  0.7552863 ,\n",
       "        1.2552724 , -0.14802215,  0.14875631, -0.44608113, -0.34755653,\n",
       "        0.39965767, -0.1579542 , -0.71914256,  0.334756  , -0.30999988],\n",
       "      dtype=float32)"
      ]
     },
     "execution_count": 7,
     "metadata": {},
     "output_type": "execute_result"
    }
   ],
   "source": [
    "model.wv[\"shuffling\"]"
   ]
  },
  {
   "cell_type": "markdown",
   "metadata": {},
   "source": [
    "It can even embed full sentences."
   ]
  },
  {
   "cell_type": "code",
   "execution_count": 8,
   "metadata": {},
   "outputs": [
    {
     "data": {
      "text/plain": [
       "[('verse', 0.8925649523735046),\n",
       " ('everyday', 0.8719149231910706),\n",
       " ('everyone', 0.8123201131820679),\n",
       " ('every', 0.7007248997688293),\n",
       " ('everything', 0.6893358826637268),\n",
       " ('shuffling', 0.6766314506530762),\n",
       " ('gaming', 0.6568171977996826),\n",
       " ('kind', 0.65639328956604),\n",
       " ('singing', 0.6388992071151733),\n",
       " ('also', 0.6291980743408203)]"
      ]
     },
     "execution_count": 8,
     "metadata": {},
     "output_type": "execute_result"
    }
   ],
   "source": [
    "model.wv.most_similar(\"everyday i am shuffling\")"
   ]
  },
  {
   "cell_type": "markdown",
   "metadata": {},
   "source": [
    "Then we replace each word with its vector representation."
   ]
  },
  {
   "cell_type": "code",
   "execution_count": 9,
   "metadata": {},
   "outputs": [],
   "source": [
    "x_train_vector = [np.array([model.wv[word] for word in doc]) for doc in x_train_preprocessed]\n",
    "x_test_vector = [np.array([model.wv[word] for word in doc]) for doc in x_test_preprocessed]"
   ]
  },
  {
   "cell_type": "markdown",
   "metadata": {},
   "source": [
    "But then we see out input has different length (because sentences have different number of words.)"
   ]
  },
  {
   "cell_type": "code",
   "execution_count": 10,
   "metadata": {},
   "outputs": [
    {
     "data": {
      "text/plain": [
       "([(4, 20), (11, 20), (3, 20), (3, 20), (6, 20)],\n",
       " [(2, 20), (4, 20), (3, 20), (50, 20), (4, 20)])"
      ]
     },
     "execution_count": 10,
     "metadata": {},
     "output_type": "execute_result"
    }
   ],
   "source": [
    "[x.shape for x in x_train_vector][:5], [x.shape for x in x_test_vector][:5]"
   ]
  },
  {
   "cell_type": "code",
   "execution_count": 11,
   "metadata": {},
   "outputs": [
    {
     "data": {
      "image/png": "[encoded data removed]",
      "text/plain": [
       "<Figure size 640x480 with 1 Axes>"
      ]
     },
     "metadata": {},
     "output_type": "display_data"
    }
   ],
   "source": [
    "import matplotlib.pyplot as plt\n",
    "\n",
    "\n",
    "sentence_lengths = np.array([x.shape[0] for x in x_train_vector])\n",
    "\n",
    "plt.hist(sentence_lengths)\n",
    "plt.show()"
   ]
  },
  {
   "cell_type": "markdown",
   "metadata": {},
   "source": [
    "But they correctly have 2 dimensions (num_sentence, vector_size)."
   ]
  },
  {
   "cell_type": "code",
   "execution_count": 12,
   "metadata": {},
   "outputs": [
    {
     "data": {
      "text/plain": [
       "(0, 0)"
      ]
     },
     "execution_count": 12,
     "metadata": {},
     "output_type": "execute_result"
    }
   ],
   "source": [
    "assert sum([len(x.shape) != 2 for x in x_train_vector]) == 0\n",
    "assert sum([len(x.shape) != 2 for x in x_test_vector]) == 0\n",
    "sum([len(x.shape) != 2 for x in x_train_vector]), sum([len(x.shape) != 2 for x in x_test_vector])"
   ]
  },
  {
   "cell_type": "markdown",
   "metadata": {},
   "source": [
    "Therefore we need to add padding to each sentence. I will use max_len = 10 to make the training faster and avoid vanishing gradient problem."
   ]
  },
  {
   "cell_type": "code",
   "execution_count": 13,
   "metadata": {},
   "outputs": [],
   "source": [
    "max_seq_length = 10"
   ]
  },
  {
   "cell_type": "code",
   "execution_count": 14,
   "metadata": {},
   "outputs": [],
   "source": [
    "for i, _ in enumerate(x_train_vector):\n",
    "    current_length = x_train_vector[i].shape[0]\n",
    "    if current_length < max_seq_length:\n",
    "        to_pad = max_seq_length - current_length\n",
    "        padding = np.zeros((to_pad, 20))  # 20 = vector dimension\n",
    "        x_train_vector[i] = np.concatenate((x_train_vector[i], padding))\n",
    "    # If there are sentences longer than max_seq_length, cut\n",
    "    else:\n",
    "        x_train_vector[i] = x_train_vector[i][:max_seq_length]\n",
    "\n",
    "\n",
    "for i, _ in enumerate(x_test_vector):\n",
    "    current_length = x_test_vector[i].shape[0]\n",
    "    if current_length < max_seq_length:\n",
    "        to_pad = max_seq_length - current_length\n",
    "        padding = np.zeros((to_pad, 20))  # 20 = vector dimension\n",
    "        x_test_vector[i] = np.concatenate((x_test_vector[i], padding))\n",
    "    # If there are sentences longer than max_seq_length, cut\n",
    "    else:\n",
    "        x_test_vector[i] = x_test_vector[i][:max_seq_length]"
   ]
  },
  {
   "cell_type": "markdown",
   "metadata": {},
   "source": [
    "Now we check that everything is good."
   ]
  },
  {
   "cell_type": "code",
   "execution_count": 15,
   "metadata": {},
   "outputs": [
    {
     "name": "stdout",
     "output_type": "stream",
     "text": [
      "(1756, 10, 20) (196, 10, 20) <class 'numpy.ndarray'> <class 'numpy.ndarray'>\n",
      "(1756,) (196,) <class 'numpy.ndarray'> <class 'numpy.ndarray'>\n"
     ]
    }
   ],
   "source": [
    "x_train_vector = np.array(x_train_vector)\n",
    "x_test_vector = np.array(x_test_vector)\n",
    "y_train = np.array(y_train)\n",
    "y_test = np.array(y_test)\n",
    "\n",
    "print(x_train_vector.shape, x_test_vector.shape, type(x_train_vector), type(x_test_vector))\n",
    "print(y_train.shape, y_test.shape, type(y_train), type(y_test))"
   ]
  },
  {
   "cell_type": "markdown",
   "metadata": {},
   "source": [
    "## Skipped: standardization\n",
    "\n",
    "we skip this because we do minmax scaling after this so no need."
   ]
  },
  {
   "cell_type": "markdown",
   "metadata": {},
   "source": [
    "But now we see that the values are not standardized."
   ]
  },
  {
   "cell_type": "code",
   "execution_count": 16,
   "metadata": {},
   "outputs": [],
   "source": [
    "# x_train_vector.mean(axis=(0, 1)), x_test_vector.mean(axis=(0, 1))"
   ]
  },
  {
   "cell_type": "code",
   "execution_count": 17,
   "metadata": {},
   "outputs": [],
   "source": [
    "# x_train_vector.max(axis=(0, 1)), x_test_vector.max(axis=(0, 1))"
   ]
  },
  {
   "cell_type": "markdown",
   "metadata": {},
   "source": [
    "We will standardize them along the embedding dimension"
   ]
  },
  {
   "cell_type": "code",
   "execution_count": 18,
   "metadata": {},
   "outputs": [],
   "source": [
    "# mean = x_train_vector.mean(axis=(0, 1))  # Mean of each embedding dimension (20 dims)\n",
    "# std = x_train_vector.std(axis=(0, 1))  # STD of each embedding dimension (20 dims)\n",
    "# # Avoid division by zero in case std is zero for any dimension\n",
    "# std[std == 0] = 1\n",
    "# mean, std"
   ]
  },
  {
   "cell_type": "code",
   "execution_count": 19,
   "metadata": {},
   "outputs": [],
   "source": [
    "# x_train_vector = (x_train_vector - mean) / std\n",
    "# x_test_vector = (x_test_vector - mean) / std\n",
    "\n",
    "# print(x_train_vector.mean(axis=(0, 1)).round(3), x_test_vector.mean(axis=(0, 1)).round(3))\n",
    "# print()\n",
    "# print(x_train_vector.std(axis=(0, 1)).round(3), x_test_vector.std(axis=(0, 1)).round(3))"
   ]
  },
  {
   "cell_type": "markdown",
   "metadata": {},
   "source": [
    "## MinMax scaling"
   ]
  },
  {
   "cell_type": "markdown",
   "metadata": {},
   "source": [
    "Now each embedding dimension is standardized but the range is still too big. Let's do MinMax scaling. We'll do per dimension too."
   ]
  },
  {
   "cell_type": "code",
   "execution_count": 20,
   "metadata": {},
   "outputs": [
    {
     "data": {
      "text/plain": [
       "(array([4.84513998, 6.39023638, 5.42553806, 4.43172932, 3.7095015 ,\n",
       "        5.77560329, 4.13303232, 5.89650106, 5.4739666 , 2.67872977,\n",
       "        9.35178185, 5.07730675, 4.80553961, 2.57445765, 5.89524841,\n",
       "        3.28837347, 5.04882288, 4.82739353, 4.50001526, 6.05512953]),\n",
       " array([-4.43756104, -4.3689208 , -2.17692518, -2.729177  , -3.73110151,\n",
       "        -3.29433084, -6.76953125, -3.73574519, -3.16298604, -9.35859966,\n",
       "        -4.50427103, -3.47502589, -4.48545074, -4.9488802 , -3.89254761,\n",
       "        -4.42385149, -5.97787905, -4.85287809, -3.54849076, -3.48825884]))"
      ]
     },
     "execution_count": 20,
     "metadata": {},
     "output_type": "execute_result"
    }
   ],
   "source": [
    "x_train_vector.max(axis=(0, 1)), x_train_vector.min(axis=(0, 1))"
   ]
  },
  {
   "cell_type": "code",
   "execution_count": 21,
   "metadata": {},
   "outputs": [],
   "source": [
    "for dim in range(x_train_vector.shape[2]):  # Iterate per dim\n",
    "    min_val = x_train_vector[:, :, dim].min()\n",
    "    max_val = x_train_vector[:, :, dim].max()\n",
    "    # for training data\n",
    "    scaled = (x_train_vector[:, :, dim] - min_val) / (max_val - min_val)\n",
    "    x_train_vector[:, :, dim] = scaled\n",
    "    # for test data\n",
    "    scaled = (x_test_vector[:, :, dim] - min_val) / (max_val - min_val)\n",
    "    x_test_vector[:, :, dim] = scaled"
   ]
  },
  {
   "cell_type": "markdown",
   "metadata": {},
   "source": [
    "Check the result:"
   ]
  },
  {
   "cell_type": "code",
   "execution_count": 22,
   "metadata": {},
   "outputs": [
    {
     "data": {
      "text/plain": [
       "(array([1., 1., 1., 1., 1., 1., 1., 1., 1., 1., 1., 1., 1., 1., 1., 1., 1.,\n",
       "        1., 1., 1.]),\n",
       " array([0., 0., 0., 0., 0., 0., 0., 0., 0., 0., 0., 0., 0., 0., 0., 0., 0.,\n",
       "        0., 0., 0.]))"
      ]
     },
     "execution_count": 22,
     "metadata": {},
     "output_type": "execute_result"
    }
   ],
   "source": [
    "x_train_vector.max(axis=(0, 1)), x_train_vector.min(axis=(0, 1))"
   ]
  },
  {
   "cell_type": "code",
   "execution_count": 23,
   "metadata": {},
   "outputs": [
    {
     "data": {
      "text/plain": [
       "(array([0.88226577, 1.        , 1.        , 1.        , 1.        ,\n",
       "        0.93770196, 1.        , 0.88696629, 1.        , 1.        ,\n",
       "        1.        , 1.        , 0.92710491, 1.        , 1.        ,\n",
       "        1.        , 1.        , 0.88071519, 0.96614983, 0.83594252]),\n",
       " array([0.        , 0.        , 0.        , 0.        , 0.05466533,\n",
       "        0.        , 0.        , 0.10832659, 0.        , 0.35784946,\n",
       "        0.        , 0.064422  , 0.0803114 , 0.        , 0.        ,\n",
       "        0.        , 0.19254625, 0.        , 0.        , 0.00739897]))"
      ]
     },
     "execution_count": 23,
     "metadata": {},
     "output_type": "execute_result"
    }
   ],
   "source": [
    "x_test_vector.max(axis=(0, 1)), x_test_vector.min(axis=(0, 1))"
   ]
  },
  {
   "cell_type": "markdown",
   "metadata": {},
   "source": [
    "# Dataloader"
   ]
  },
  {
   "cell_type": "code",
   "execution_count": 24,
   "metadata": {},
   "outputs": [],
   "source": [
    "import torch\n",
    "import torch.nn as nn\n",
    "import torch.optim as optim\n",
    "from torch.utils.data import DataLoader, Dataset\n",
    "from sklearn.preprocessing import LabelEncoder\n",
    "from sklearn.model_selection import train_test_split"
   ]
  },
  {
   "cell_type": "code",
   "execution_count": 25,
   "metadata": {},
   "outputs": [
    {
     "name": "stdout",
     "output_type": "stream",
     "text": [
      "Batch 1\n",
      "Inputs shape: torch.Size([4, 10, 20])\n",
      "Targets shape: torch.Size([4, 1])\n",
      "Inputs: tensor([[[0.5939, 0.4160, 0.3820, 0.4928, 0.5104, 0.4509, 0.6543, 0.4731,\n",
      "          0.4737, 0.7085, 0.1552, 0.3510, 0.5705, 0.5276, 0.4058, 0.7113,\n",
      "          0.6754, 0.6242, 0.5103, 0.4638],\n",
      "         [0.4283, 0.4194, 0.3380, 0.4408, 0.6264, 0.5117, 0.6756, 0.4344,\n",
      "          0.4783, 0.8067, 0.2819, 0.5016, 0.4793, 0.6792, 0.3025, 0.6388,\n",
      "          0.6543, 0.5955, 0.5583, 0.4599],\n",
      "         [0.6132, 0.4900, 0.3304, 0.2567, 0.5112, 0.3076, 0.7592, 0.3413,\n",
      "          0.4365, 0.7235, 0.3107, 0.4599, 0.5124, 0.7809, 0.3451, 0.6130,\n",
      "          0.5377, 0.5467, 0.4995, 0.3586],\n",
      "         [0.4512, 0.4081, 0.3393, 0.3725, 0.4117, 0.6108, 0.6702, 0.4066,\n",
      "          0.4506, 0.6394, 0.2784, 0.4547, 0.3714, 0.6959, 0.3641, 0.5364,\n",
      "          0.6350, 0.5983, 0.5156, 0.5478],\n",
      "         [0.4780, 0.4061, 0.2863, 0.3811, 0.5015, 0.3632, 0.6209, 0.3878,\n",
      "          0.3662, 0.7775, 0.3251, 0.4063, 0.4828, 0.6578, 0.3977, 0.5736,\n",
      "          0.5421, 0.5013, 0.4409, 0.3655],\n",
      "         [0.4780, 0.4061, 0.2863, 0.3811, 0.5015, 0.3632, 0.6209, 0.3878,\n",
      "          0.3662, 0.7775, 0.3251, 0.4063, 0.4828, 0.6578, 0.3977, 0.5736,\n",
      "          0.5421, 0.5013, 0.4409, 0.3655],\n",
      "         [0.4780, 0.4061, 0.2863, 0.3811, 0.5015, 0.3632, 0.6209, 0.3878,\n",
      "          0.3662, 0.7775, 0.3251, 0.4063, 0.4828, 0.6578, 0.3977, 0.5736,\n",
      "          0.5421, 0.5013, 0.4409, 0.3655],\n",
      "         [0.4780, 0.4061, 0.2863, 0.3811, 0.5015, 0.3632, 0.6209, 0.3878,\n",
      "          0.3662, 0.7775, 0.3251, 0.4063, 0.4828, 0.6578, 0.3977, 0.5736,\n",
      "          0.5421, 0.5013, 0.4409, 0.3655],\n",
      "         [0.4780, 0.4061, 0.2863, 0.3811, 0.5015, 0.3632, 0.6209, 0.3878,\n",
      "          0.3662, 0.7775, 0.3251, 0.4063, 0.4828, 0.6578, 0.3977, 0.5736,\n",
      "          0.5421, 0.5013, 0.4409, 0.3655],\n",
      "         [0.4780, 0.4061, 0.2863, 0.3811, 0.5015, 0.3632, 0.6209, 0.3878,\n",
      "          0.3662, 0.7775, 0.3251, 0.4063, 0.4828, 0.6578, 0.3977, 0.5736,\n",
      "          0.5421, 0.5013, 0.4409, 0.3655]],\n",
      "\n",
      "        [[0.2862, 0.4872, 0.2660, 0.4799, 0.5023, 0.4277, 0.7958, 0.4236,\n",
      "          0.3647, 0.7490, 0.4324, 0.4368, 0.6383, 0.7638, 0.3284, 0.7010,\n",
      "          0.6853, 0.5241, 0.5168, 0.3475],\n",
      "         [0.4399, 0.3801, 0.3712, 0.3479, 0.4175, 0.3758, 0.6399, 0.3158,\n",
      "          0.3225, 0.7376, 0.4285, 0.4031, 0.5968, 0.7573, 0.3190, 0.7020,\n",
      "          0.5462, 0.4710, 0.5657, 0.3019],\n",
      "         [0.5181, 0.4280, 0.3595, 0.4845, 0.6340, 0.3624, 0.5673, 0.5194,\n",
      "          0.4041, 0.7186, 0.2913, 0.4876, 0.5034, 0.6406, 0.4104, 0.6035,\n",
      "          0.4761, 0.4042, 0.6013, 0.3164],\n",
      "         [0.4420, 0.6190, 0.3338, 0.4845, 0.6147, 0.1866, 0.7314, 0.5142,\n",
      "          0.2573, 0.7452, 0.3787, 0.4979, 0.3457, 0.9526, 0.3440, 0.3623,\n",
      "          0.5123, 0.4167, 0.4754, 0.4078],\n",
      "         [0.5181, 0.4280, 0.3595, 0.4845, 0.6340, 0.3624, 0.5673, 0.5194,\n",
      "          0.4041, 0.7186, 0.2913, 0.4876, 0.5034, 0.6406, 0.4104, 0.6035,\n",
      "          0.4761, 0.4042, 0.6013, 0.3164],\n",
      "         [0.5088, 0.4112, 0.5115, 0.2204, 0.7191, 0.5494, 0.5252, 0.6378,\n",
      "          0.2737, 0.5275, 0.3926, 0.3756, 0.6114, 0.4599, 0.2674, 0.7903,\n",
      "          0.2145, 0.4062, 0.7448, 0.3559],\n",
      "         [0.6551, 0.5132, 0.2625, 0.4750, 0.7882, 0.4442, 0.5104, 0.6278,\n",
      "          0.1507, 0.5543, 0.3484, 0.5257, 0.5062, 0.6004, 0.2898, 0.5345,\n",
      "          0.3321, 0.3671, 0.8477, 0.1052],\n",
      "         [0.5181, 0.4280, 0.3595, 0.4845, 0.6340, 0.3624, 0.5673, 0.5194,\n",
      "          0.4041, 0.7186, 0.2913, 0.4876, 0.5034, 0.6406, 0.4104, 0.6035,\n",
      "          0.4761, 0.4042, 0.6013, 0.3164],\n",
      "         [0.4392, 0.3866, 0.3562, 0.6267, 0.5925, 0.4018, 0.6109, 0.4251,\n",
      "          0.5794, 0.7288, 0.4330, 0.4771, 0.7831, 0.4865, 0.5013, 0.2513,\n",
      "          0.5761, 0.3105, 0.5932, 0.4213],\n",
      "         [0.4152, 0.4897, 0.5902, 0.0000, 0.5884, 0.6723, 0.5642, 0.5450,\n",
      "          0.2352, 0.5231, 0.4315, 0.5795, 0.7633, 0.3595, 0.2835, 0.9518,\n",
      "          0.1925, 0.3924, 0.6524, 0.1764]],\n",
      "\n",
      "        [[0.5939, 0.4160, 0.3820, 0.4928, 0.5104, 0.4509, 0.6543, 0.4731,\n",
      "          0.4737, 0.7085, 0.1552, 0.3510, 0.5705, 0.5276, 0.4058, 0.7113,\n",
      "          0.6754, 0.6242, 0.5103, 0.4638],\n",
      "         [0.5939, 0.4160, 0.3820, 0.4928, 0.5104, 0.4509, 0.6543, 0.4731,\n",
      "          0.4737, 0.7085, 0.1552, 0.3510, 0.5705, 0.5276, 0.4058, 0.7113,\n",
      "          0.6754, 0.6242, 0.5103, 0.4638],\n",
      "         [0.7849, 0.2732, 0.2780, 0.3936, 0.5899, 0.6063, 0.5298, 0.2623,\n",
      "          0.4899, 0.8392, 0.3889, 0.0753, 0.4334, 0.6781, 0.4058, 0.6119,\n",
      "          0.6692, 0.6532, 0.7477, 0.3752],\n",
      "         [0.4780, 0.4061, 0.2863, 0.3811, 0.5015, 0.3632, 0.6209, 0.3878,\n",
      "          0.3662, 0.7775, 0.3251, 0.4063, 0.4828, 0.6578, 0.3977, 0.5736,\n",
      "          0.5421, 0.5013, 0.4409, 0.3655],\n",
      "         [0.4780, 0.4061, 0.2863, 0.3811, 0.5015, 0.3632, 0.6209, 0.3878,\n",
      "          0.3662, 0.7775, 0.3251, 0.4063, 0.4828, 0.6578, 0.3977, 0.5736,\n",
      "          0.5421, 0.5013, 0.4409, 0.3655],\n",
      "         [0.4780, 0.4061, 0.2863, 0.3811, 0.5015, 0.3632, 0.6209, 0.3878,\n",
      "          0.3662, 0.7775, 0.3251, 0.4063, 0.4828, 0.6578, 0.3977, 0.5736,\n",
      "          0.5421, 0.5013, 0.4409, 0.3655],\n",
      "         [0.4780, 0.4061, 0.2863, 0.3811, 0.5015, 0.3632, 0.6209, 0.3878,\n",
      "          0.3662, 0.7775, 0.3251, 0.4063, 0.4828, 0.6578, 0.3977, 0.5736,\n",
      "          0.5421, 0.5013, 0.4409, 0.3655],\n",
      "         [0.4780, 0.4061, 0.2863, 0.3811, 0.5015, 0.3632, 0.6209, 0.3878,\n",
      "          0.3662, 0.7775, 0.3251, 0.4063, 0.4828, 0.6578, 0.3977, 0.5736,\n",
      "          0.5421, 0.5013, 0.4409, 0.3655],\n",
      "         [0.4780, 0.4061, 0.2863, 0.3811, 0.5015, 0.3632, 0.6209, 0.3878,\n",
      "          0.3662, 0.7775, 0.3251, 0.4063, 0.4828, 0.6578, 0.3977, 0.5736,\n",
      "          0.5421, 0.5013, 0.4409, 0.3655],\n",
      "         [0.4780, 0.4061, 0.2863, 0.3811, 0.5015, 0.3632, 0.6209, 0.3878,\n",
      "          0.3662, 0.7775, 0.3251, 0.4063, 0.4828, 0.6578, 0.3977, 0.5736,\n",
      "          0.5421, 0.5013, 0.4409, 0.3655]],\n",
      "\n",
      "        [[0.6132, 0.4900, 0.3304, 0.2567, 0.5112, 0.3076, 0.7592, 0.3413,\n",
      "          0.4365, 0.7235, 0.3107, 0.4599, 0.5124, 0.7809, 0.3451, 0.6130,\n",
      "          0.5377, 0.5467, 0.4995, 0.3586],\n",
      "         [0.4900, 0.4421, 0.3707, 0.3256, 0.5264, 0.2763, 0.6594, 0.3925,\n",
      "          0.3917, 0.7250, 0.3867, 0.4557, 0.4499, 0.7189, 0.4199, 0.5897,\n",
      "          0.5716, 0.4589, 0.5339, 0.3873],\n",
      "         [0.4557, 0.4122, 0.3419, 0.3886, 0.5074, 0.3114, 0.5847, 0.3451,\n",
      "          0.3822, 0.8312, 0.3905, 0.3820, 0.4692, 0.7638, 0.4649, 0.7153,\n",
      "          0.6342, 0.5826, 0.4147, 0.2775],\n",
      "         [0.4780, 0.4061, 0.2863, 0.3811, 0.5015, 0.3632, 0.6209, 0.3878,\n",
      "          0.3662, 0.7775, 0.3251, 0.4063, 0.4828, 0.6578, 0.3977, 0.5736,\n",
      "          0.5421, 0.5013, 0.4409, 0.3655],\n",
      "         [0.4780, 0.4061, 0.2863, 0.3811, 0.5015, 0.3632, 0.6209, 0.3878,\n",
      "          0.3662, 0.7775, 0.3251, 0.4063, 0.4828, 0.6578, 0.3977, 0.5736,\n",
      "          0.5421, 0.5013, 0.4409, 0.3655],\n",
      "         [0.4780, 0.4061, 0.2863, 0.3811, 0.5015, 0.3632, 0.6209, 0.3878,\n",
      "          0.3662, 0.7775, 0.3251, 0.4063, 0.4828, 0.6578, 0.3977, 0.5736,\n",
      "          0.5421, 0.5013, 0.4409, 0.3655],\n",
      "         [0.4780, 0.4061, 0.2863, 0.3811, 0.5015, 0.3632, 0.6209, 0.3878,\n",
      "          0.3662, 0.7775, 0.3251, 0.4063, 0.4828, 0.6578, 0.3977, 0.5736,\n",
      "          0.5421, 0.5013, 0.4409, 0.3655],\n",
      "         [0.4780, 0.4061, 0.2863, 0.3811, 0.5015, 0.3632, 0.6209, 0.3878,\n",
      "          0.3662, 0.7775, 0.3251, 0.4063, 0.4828, 0.6578, 0.3977, 0.5736,\n",
      "          0.5421, 0.5013, 0.4409, 0.3655],\n",
      "         [0.4780, 0.4061, 0.2863, 0.3811, 0.5015, 0.3632, 0.6209, 0.3878,\n",
      "          0.3662, 0.7775, 0.3251, 0.4063, 0.4828, 0.6578, 0.3977, 0.5736,\n",
      "          0.5421, 0.5013, 0.4409, 0.3655],\n",
      "         [0.4780, 0.4061, 0.2863, 0.3811, 0.5015, 0.3632, 0.6209, 0.3878,\n",
      "          0.3662, 0.7775, 0.3251, 0.4063, 0.4828, 0.6578, 0.3977, 0.5736,\n",
      "          0.5421, 0.5013, 0.4409, 0.3655]]])\n",
      "Targets: tensor([[1.],\n",
      "        [0.],\n",
      "        [1.],\n",
      "        [0.]])\n"
     ]
    }
   ],
   "source": [
    "class TextDataset(Dataset):\n",
    "    def __init__(self, texts, labels):\n",
    "        self.texts = texts\n",
    "        self.labels = labels\n",
    "    def __len__(self):\n",
    "        return len(self.texts)\n",
    "    def __getitem__(self, index):\n",
    "        return (\n",
    "            self.texts[index].astype(\"float32\"), \n",
    "            self.labels[index].reshape(-1).astype(\"float32\")\n",
    "        )\n",
    "\n",
    "train_dataset = TextDataset(x_train_vector, y_train)\n",
    "test_dataset = TextDataset(x_test_vector, y_test)\n",
    "batch_size = 4\n",
    "train_dataloader = DataLoader(train_dataset, batch_size=batch_size)\n",
    "test_dataloader = DataLoader(test_dataset, batch_size=batch_size)\n",
    "\n",
    "for batch_idx, (inputs, targets) in enumerate(train_dataloader):\n",
    "    print(f\"Batch {batch_idx + 1}\")\n",
    "    print(f\"Inputs shape: {inputs.shape}\")  # Should be (batch_size, sequence_length, embedding_dim)\n",
    "    print(f\"Targets shape: {targets.shape}\")  # Should be (batch_size, 1)\n",
    "    print(\"Inputs:\", inputs)\n",
    "    print(\"Targets:\", targets)\n",
    "    break"
   ]
  },
  {
   "cell_type": "markdown",
   "metadata": {},
   "source": [
    "# Model"
   ]
  },
  {
   "cell_type": "code",
   "execution_count": 26,
   "metadata": {},
   "outputs": [
    {
     "name": "stdout",
     "output_type": "stream",
     "text": [
      "tensor([[0.5269],\n",
      "        [0.5271],\n",
      "        [0.5268],\n",
      "        [0.5268]]) torch.Size([4, 1])\n"
     ]
    }
   ],
   "source": [
    "class LSTM(nn.Module):\n",
    "    def __init__(self, input_size, hidden_size, num_stacked_layers):\n",
    "        super(LSTM, self).__init__()\n",
    "        self.input_size = input_size\n",
    "        self.hidden_size = hidden_size\n",
    "        self.num_stacked_layers = num_stacked_layers\n",
    "        self.lstm = nn.LSTM(\n",
    "            input_size=input_size,\n",
    "            hidden_size=hidden_size,\n",
    "            num_layers=num_stacked_layers,\n",
    "            batch_first=True,\n",
    "        )\n",
    "        self.linear = nn.Linear(in_features=hidden_size, out_features=1)\n",
    "\n",
    "    def forward(self, xs):\n",
    "        batch_size = xs.shape[0]\n",
    "        h0 = torch.zeros(self.num_stacked_layers, batch_size, self.hidden_size)\n",
    "        c0 = torch.zeros(self.num_stacked_layers, batch_size, self.hidden_size)\n",
    "        output, hidden = self.lstm(xs, (h0, c0))\n",
    "        output = self.linear(output[:, -1, :])\n",
    "        output = torch.sigmoid(output)\n",
    "        return output\n",
    "\n",
    "\n",
    "lstm = LSTM(input_size=20, hidden_size=64, num_stacked_layers=2)\n",
    "\n",
    "# test if our model is working\n",
    "with torch.no_grad():\n",
    "    print(lstm(inputs), lstm(inputs).shape)"
   ]
  },
  {
   "cell_type": "code",
   "execution_count": 27,
   "metadata": {},
   "outputs": [
    {
     "data": {
      "text/plain": [
       "tensor(0.6947, grad_fn=<BinaryCrossEntropyBackward0>)"
      ]
     },
     "execution_count": 27,
     "metadata": {},
     "output_type": "execute_result"
    }
   ],
   "source": [
    "criterion = nn.BCELoss()\n",
    "loss = criterion(lstm(inputs), targets)\n",
    "loss"
   ]
  },
  {
   "cell_type": "markdown",
   "metadata": {},
   "source": [
    "Let's calculate loss manually to make sure the loss calculation is correct."
   ]
  },
  {
   "cell_type": "code",
   "execution_count": 28,
   "metadata": {},
   "outputs": [
    {
     "data": {
      "text/plain": [
       "(array([[0.52686626],\n",
       "        [0.5270515 ],\n",
       "        [0.5267923 ],\n",
       "        [0.52682626]], dtype=float32),\n",
       " array([[1.],\n",
       "        [0.],\n",
       "        [1.],\n",
       "        [0.]], dtype=float32))"
      ]
     },
     "execution_count": 28,
     "metadata": {},
     "output_type": "execute_result"
    }
   ],
   "source": [
    "preds = lstm(inputs).detach().numpy()\n",
    "targets = targets.numpy() \n",
    "preds, targets"
   ]
  },
  {
   "cell_type": "code",
   "execution_count": 29,
   "metadata": {},
   "outputs": [
    {
     "data": {
      "text/plain": [
       "0.6947"
      ]
     },
     "execution_count": 29,
     "metadata": {},
     "output_type": "execute_result"
    }
   ],
   "source": [
    "def bceloss(preds, targets, epsilon=1e-12):\n",
    "    \"\"\"\n",
    "    Compute Binary Cross-Entropy (BCE) loss between predictions and targets.\n",
    "    \"\"\"\n",
    "    # Clip predictions to avoid log(0) error\n",
    "    preds = np.clip(preds, epsilon, 1 - epsilon)\n",
    "    # Compute the binary cross-entropy loss\n",
    "    loss = -np.sum(targets * np.log(preds) + (1 - targets) * np.log(1 - preds)) / len(\n",
    "        targets\n",
    "    )\n",
    "\n",
    "    return loss.round(4)\n",
    "\n",
    "\n",
    "assert(bceloss(preds, targets).round(4) == round(loss.item(), 4))\n",
    "bceloss(preds, targets)"
   ]
  },
  {
   "cell_type": "markdown",
   "metadata": {},
   "source": [
    "This looks correct."
   ]
  },
  {
   "cell_type": "markdown",
   "metadata": {},
   "source": [
    "# Training"
   ]
  },
  {
   "cell_type": "code",
   "execution_count": 30,
   "metadata": {},
   "outputs": [
    {
     "name": "stdout",
     "output_type": "stream",
     "text": [
      "Epoch [1/10], Train Loss: 0.6934, Train Accuracy: 0.5046, Validation Loss: 0.6905, Validation Accuracy: 0.6071\n",
      "Epoch [2/10], Train Loss: 0.6913, Train Accuracy: 0.5416, Validation Loss: 0.6951, Validation Accuracy: 0.4184\n",
      "Epoch [3/10], Train Loss: 0.5389, Train Accuracy: 0.7306, Validation Loss: 0.4001, Validation Accuracy: 0.8214\n",
      "Epoch [4/10], Train Loss: 0.3891, Train Accuracy: 0.8405, Validation Loss: 0.3752, Validation Accuracy: 0.8214\n",
      "Epoch [5/10], Train Loss: 0.3769, Train Accuracy: 0.8485, Validation Loss: 0.3749, Validation Accuracy: 0.8214\n",
      "Epoch [6/10], Train Loss: 0.3706, Train Accuracy: 0.8554, Validation Loss: 0.3814, Validation Accuracy: 0.8214\n",
      "Epoch [7/10], Train Loss: 0.3660, Train Accuracy: 0.8536, Validation Loss: 0.3867, Validation Accuracy: 0.8163\n",
      "Epoch [8/10], Train Loss: 0.3620, Train Accuracy: 0.8548, Validation Loss: 0.3907, Validation Accuracy: 0.8163\n",
      "Epoch [9/10], Train Loss: 0.3583, Train Accuracy: 0.8565, Validation Loss: 0.3936, Validation Accuracy: 0.8214\n",
      "Epoch [10/10], Train Loss: 0.3548, Train Accuracy: 0.8593, Validation Loss: 0.3953, Validation Accuracy: 0.8214\n"
     ]
    }
   ],
   "source": [
    "lr = 0.0001\n",
    "optimizer = optim.Adam(lstm.parameters(), lr=lr)\n",
    "epochs = 10\n",
    "print_step = 1\n",
    "\n",
    "\n",
    "def calculate_accuracy(outputs, targets):\n",
    "    predicted = (outputs >= 0.5).float()\n",
    "    correct = (predicted == targets).sum().item()  # Count correct predictions\n",
    "    return correct / len(targets)  # Return accuracy as a fraction\n",
    "\n",
    "\n",
    "def train_one_epoch():\n",
    "    lstm.train()\n",
    "    running_loss = 0.0\n",
    "    running_accuracy = 0.0\n",
    "    for batch_idx, (xs, ys) in enumerate(train_dataloader):\n",
    "        optimizer.zero_grad()\n",
    "        outputs = lstm(xs)\n",
    "        loss = criterion(outputs, ys)\n",
    "        loss.backward()\n",
    "        optimizer.step()\n",
    "        running_loss += loss.item()\n",
    "        accuracy = calculate_accuracy(outputs, ys)\n",
    "        running_accuracy += accuracy\n",
    "    return running_loss / (batch_idx + 1), running_accuracy / (batch_idx + 1)\n",
    "\n",
    "\n",
    "def val_one_epoch():\n",
    "    lstm.eval()\n",
    "    running_loss = 0.0\n",
    "    running_accuracy = 0.0\n",
    "    with torch.no_grad():\n",
    "        for batch_idx, (xs, ys) in enumerate(test_dataloader):\n",
    "            outputs = lstm(xs)\n",
    "            loss = criterion(outputs, ys)\n",
    "            running_loss += loss.item()\n",
    "            accuracy = calculate_accuracy(outputs, ys)\n",
    "            running_accuracy += accuracy\n",
    "    return running_loss / (batch_idx + 1), running_accuracy / (batch_idx + 1)\n",
    "\n",
    "\n",
    "train_losses = []\n",
    "test_losses = []\n",
    "train_accuracies = []\n",
    "test_accuracies = []\n",
    "\n",
    "for epoch in range(epochs):\n",
    "    # Training step\n",
    "    train_loss, train_accuracy = train_one_epoch()\n",
    "    train_losses.append(train_loss)\n",
    "    train_accuracies.append(train_accuracy)\n",
    "\n",
    "    # Validation step\n",
    "    test_loss, test_accuracy = val_one_epoch()\n",
    "    test_losses.append(test_loss)\n",
    "    test_accuracies.append(test_accuracy)\n",
    "\n",
    "    # Print training and validation loss and accuracy\n",
    "    if (epoch + 1) % print_step == 0:\n",
    "        print(\n",
    "            f\"Epoch [{epoch + 1}/{epochs}], \"\n",
    "            f\"Train Loss: {train_loss:.4f}, Train Accuracy: {train_accuracy:.4f}, \"\n",
    "            f\"Validation Loss: {test_loss:.4f}, Validation Accuracy: {test_accuracy:.4f}\"\n",
    "        )"
   ]
  },
  {
   "cell_type": "code",
   "execution_count": 31,
   "metadata": {},
   "outputs": [
    {
     "data": {
      "text/plain": [
       "[]"
      ]
     },
     "execution_count": 31,
     "metadata": {},
     "output_type": "execute_result"
    },
    {
     "data": {
      "image/png": "[encoded data removed]",
      "text/plain": [
       "<Figure size 640x480 with 1 Axes>"
      ]
     },
     "metadata": {},
     "output_type": "display_data"
    }
   ],
   "source": [
    "import matplotlib.pyplot as plt\n",
    "\n",
    "plt.plot(range(len(train_losses)), train_losses)\n",
    "plt.plot()"
   ]
  },
  {
   "cell_type": "code",
   "execution_count": 32,
   "metadata": {},
   "outputs": [
    {
     "name": "stdout",
     "output_type": "stream",
     "text": [
      "tensor([[0.7353],\n",
      "        [0.0798],\n",
      "        [0.7776],\n",
      "        [0.0854]])\n"
     ]
    }
   ],
   "source": [
    "with torch.no_grad():\n",
    "    for batch_idx, (xs, ys) in enumerate(train_dataloader):\n",
    "        outputs = lstm(xs)\n",
    "        print(outputs)\n",
    "        break"
   ]
  },
  {
   "cell_type": "markdown",
   "metadata": {},
   "source": [
    "We succeed in training the model!"
   ]
  },
  {
   "cell_type": "markdown",
   "metadata": {},
   "source": [
    "# See prediction"
   ]
  },
  {
   "cell_type": "code",
   "execution_count": 33,
   "metadata": {},
   "outputs": [
    {
     "name": "stdout",
     "output_type": "stream",
     "text": [
      "Raw text: Charlie from LOST?﻿\n",
      "Preprocessed text: ['charlie', 'lost']\n",
      "True vs  predicted label: 0.0 vs 0.0\n",
      "Prediction is CORRECT.\n",
      "\n",
      "Raw text: BEST SONG EVER X3333333333﻿\n",
      "Preprocessed text: ['best', 'song', 'ever', 'number']\n",
      "True vs  predicted label: 0.0 vs 0.0\n",
      "Prediction is CORRECT.\n",
      "\n",
      "Raw text: Aslamu Lykum... From Pakistan﻿\n",
      "Preprocessed text: ['aslamu', 'lykum', 'pakistan']\n",
      "True vs  predicted label: 0.0 vs 1.0\n",
      "Prediction is INCORRECT.\n",
      "\n",
      "Raw text: I absolutely adore watching football plus I’ve started earning income with out risk from claiming bonus deals. It’s a weird technique where you put money on something with one bookmakers and put money against it on Betfair. You acquire the bonus as income . A lad named Jim Vanstone is selecting the wagers free on his website Vanstone Secrets (Google it!). I have generated about 600 quid so far. And it’s free. I assume the bookmakers pay him to get new men and women, but it succeeds.\n",
      "Preprocessed text: ['absolutely', 'adore', 'watching', 'football', 'plus', 'ive', 'started', 'earning', 'income', 'risk', 'claiming', 'bonus', 'deal', 'weird', 'technique', 'put', 'money', 'something', 'one', 'bookmaker', 'put', 'money', 'betfair', 'acquire', 'bonus', 'income', 'lad', 'named', 'jim', 'vanstone', 'selecting', 'wager', 'free', 'website', 'vanstone', 'secret', 'google', 'generated', 'number', 'quid', 'far', 'free', 'assume', 'bookmaker', 'pay', 'get', 'new', 'men', 'woman', 'succeeds']\n",
      "True vs  predicted label: 0.0 vs 1.0\n",
      "Prediction is INCORRECT.\n",
      "\n",
      "Raw text: I really love this video.. http://www.bubblews.com/account/389088-sheilcen﻿\n",
      "Preprocessed text: ['really', 'love', 'video', 'url']\n",
      "True vs  predicted label: 0.0 vs 1.0\n",
      "Prediction is INCORRECT.\n",
      "\n",
      "Raw text: BEAUTIFUL\n",
      "Preprocessed text: ['beautiful']\n",
      "True vs  predicted label: 0.0 vs 0.0\n",
      "Prediction is CORRECT.\n",
      "\n",
      "Raw text: Hey plz check out my music video. Thanks!! :-)﻿\n",
      "Preprocessed text: ['hey', 'plz', 'check', 'music', 'video', 'thanks', 'emoji']\n",
      "True vs  predicted label: 1.0 vs 1.0\n",
      "Prediction is CORRECT.\n",
      "\n",
      "Raw text: Look and shares my video please :D\n",
      "Preprocessed text: ['look', 'share', 'video', 'please', 'emoji']\n",
      "True vs  predicted label: 1.0 vs 1.0\n",
      "Prediction is CORRECT.\n",
      "\n",
      "Raw text: this song sucks﻿\n",
      "Preprocessed text: ['song', 'suck']\n",
      "True vs  predicted label: 0.0 vs 0.0\n",
      "Prediction is CORRECT.\n",
      "\n",
      "Raw text: Go to my channel if u want to see a fly getting burned alive﻿\n",
      "Preprocessed text: ['go', 'channel', 'want', 'see', 'fly', 'getting', 'burned', 'alive']\n",
      "True vs  predicted label: 1.0 vs 1.0\n",
      "Prediction is CORRECT.\n",
      "\n"
     ]
    }
   ],
   "source": [
    "assert x_test_vector.shape[0] == len(x_test_preprocessed)\n",
    "assert len(x_test) == len(x_test_preprocessed)\n",
    "\n",
    "# Iterate through the test data\n",
    "for i, (vector, clean_text, raw_text, label) in enumerate(\n",
    "    zip(x_test_vector, x_test_preprocessed, x_test, y_test)\n",
    "):\n",
    "    # Reshape the vector and convert to a PyTorch tensor\n",
    "    vector = torch.from_numpy(vector.reshape(1, 10, 20).astype(\"float32\"))\n",
    "\n",
    "    # Get the model prediction\n",
    "    pred = lstm(vector).detach().item()\n",
    "    pred_label = (pred >= 0.5) * 1.0\n",
    "\n",
    "    # Print the results\n",
    "    print(f\"Raw text: {raw_text}\")\n",
    "    print(f\"Preprocessed text: {clean_text}\")\n",
    "    print(f\"True vs  predicted label: {pred_label} vs {label}\")\n",
    "    if pred_label == label:\n",
    "        print(\"Prediction is CORRECT.\")\n",
    "    else:\n",
    "        print(\"Prediction is INCORRECT.\")\n",
    "\n",
    "    print()\n",
    "\n",
    "    # Limit to the first 10 predictions\n",
    "    if i + 1 == 10:\n",
    "        break"
   ]
  }
 ],
 "metadata": {
  "kernelspec": {
   "display_name": "ml",
   "language": "python",
   "name": "python3"
  },
  "language_info": {
   "codemirror_mode": {
    "name": "ipython",
    "version": 3
   },
   "file_extension": ".py",
   "mimetype": "text/x-python",
   "name": "python",
   "nbconvert_exporter": "python",
   "pygments_lexer": "ipython3",
   "version": "3.12.2"
  }
 },
 "nbformat": 4,
 "nbformat_minor": 2
}
