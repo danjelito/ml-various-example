{
 "cells": [
  {
   "cell_type": "code",
   "execution_count": 431,
   "metadata": {},
   "outputs": [],
   "source": [
    "import numpy as np\n",
    "import csv\n",
    "import re\n",
    "from gensim.models import FastText\n",
    "import string\n",
    "from nltk.corpus import stopwords\n",
    "from sklearn.model_selection import train_test_split\n",
    "from nltk.tokenize import TreebankWordTokenizer\n",
    "from nltk.stem import WordNetLemmatizer\n",
    "\n",
    "np.random.seed(0)\n",
    "\n",
    "stops = set(stopwords.words(\"english\"))\n",
    "lemmatizer = WordNetLemmatizer()\n",
    "tokenizer = TreebankWordTokenizer()\n",
    "\n",
    "\n",
    "def decontracted(text):\n",
    "    \"\"\"\n",
    "    Expand common contractions in a text.\n",
    "    \"\"\"\n",
    "    # specific\n",
    "    text = re.sub(r\"won\\'t\", \"will not\", text)\n",
    "    text = re.sub(r\"can\\'t\", \"can not\", text)\n",
    "    text = re.sub(r\"ain\\'t\", \"are not\", text)\n",
    "    text = re.sub(r\"shan\\'t\", \"shall not\", text)\n",
    "    text = re.sub(r\"ma\\'am\", \"maam\", text)\n",
    "    text = re.sub(r\"y\\'all\", \"you all\", text)\n",
    "\n",
    "    # general\n",
    "    text = re.sub(r\"n\\'t\", \" not\", text)\n",
    "    text = re.sub(r\"\\'re\", \" are\", text)\n",
    "    text = re.sub(r\"\\'s\", \" is\", text)\n",
    "    text = re.sub(r\"\\'d\", \" would\", text)\n",
    "    text = re.sub(r\"\\'ll\", \" will\", text)\n",
    "    text = re.sub(r\"\\'t\", \" not\", text)\n",
    "    text = re.sub(r\"\\'ve\", \" have\", text)\n",
    "    text = re.sub(r\"\\'m\", \" am\", text)\n",
    "    return text\n",
    "\n",
    "\n",
    "def remove_urls(text):\n",
    "    \"\"\"\n",
    "    Remove all URLs from the text and replace them with 'URL'.\n",
    "    This function detects URLs starting with http, https, ftp, or www.\n",
    "    \"\"\"\n",
    "    # Pattern to detect URLs that start with http, https, ftp, www\n",
    "    url_pattern = r\"(https?:\\/\\/|ftp:\\/\\/|www\\.)?([-a-zA-Z0-9@:%._\\+~#=]{1,256}\\.[a-zA-Z0-9()]{1,6}\\b([-a-zA-Z0-9()@:%_\\+.~#?&//=]*))\"\n",
    "    return re.sub(url_pattern, \"URL\", text)\n",
    "\n",
    "\n",
    "def clean_quotes(text):\n",
    "    \"\"\"\n",
    "    Remove &quot\n",
    "    \"\"\"\n",
    "    return re.sub(\"&quot\", '\"', text)\n",
    "\n",
    "\n",
    "def translate_emojis(text):\n",
    "    \"\"\"\n",
    "    Translates common text-based emojis like :) or :-D to the word 'emoji'.\n",
    "    \"\"\"\n",
    "    # Define a regex pattern to match various text-based emojis\n",
    "    emoji_pattern = r\"(:-\\)|:\\)|:-\\(|:\\(|:-D|:D|:-P|:P|:o|:O|<3|;\\)|;-\\))\"\n",
    "\n",
    "    # Replace matching emojis with the word 'emoji'\n",
    "    return re.sub(emoji_pattern, \" emoji \", text)\n",
    "\n",
    "\n",
    "def remove_punctuations(text):\n",
    "    \"\"\"\n",
    "    Remove punctuations.\n",
    "    \"\"\"\n",
    "    translator = str.maketrans(\"\", \"\", string.punctuation)\n",
    "    return text.translate(translator)\n",
    "\n",
    "\n",
    "def replace_numbers_with_text(text):\n",
    "    \"\"\"\n",
    "    Replace all numbers (including ordinals like 13th) with the word 'number'.\n",
    "    \"\"\"\n",
    "    # Pattern to match numbers (both plain numbers and ordinals)\n",
    "    number_pattern = r\"\\d+(?:st|nd|rd|th)?\\b\"\n",
    "\n",
    "    # Replace all matches with the word 'number'\n",
    "    return re.sub(number_pattern, \" number \", text)\n",
    "\n",
    "\n",
    "def remove_bom(text):\n",
    "    \"\"\"\n",
    "    Remove the Byte Order Mark (BOM) if it exists in the text.\n",
    "    \"\"\"\n",
    "    return text.replace(\"\\ufeff\", \"\")\n",
    "\n",
    "\n",
    "def remove_non_standard_characters(text):\n",
    "    \"\"\"\n",
    "    Use a regular expression to remove non-standard characters.\n",
    "    \"\"\"\n",
    "    cleaned_text = re.sub(r'[^\\x20-\\x7E]+', '', text)\n",
    "    return cleaned_text\n",
    "\n",
    "\n",
    "def clean(text):\n",
    "    \"\"\"\n",
    "    Clean a text by applying all cleaning steps.\n",
    "    \"\"\"\n",
    "    text = remove_bom(text)\n",
    "    text = decontracted(text)\n",
    "    text = translate_emojis(text)\n",
    "    text = remove_urls(text)\n",
    "    text = clean_quotes(text)\n",
    "    text = replace_numbers_with_text(text)\n",
    "    text = remove_punctuations(text)\n",
    "    text = remove_non_standard_characters(text)\n",
    "    return \" \".join(text.split())\n",
    "\n",
    "\n",
    "def lower_doc(doc):\n",
    "    \"\"\"\n",
    "    Convert the input document to lowercase.\n",
    "    \"\"\"\n",
    "    return doc.lower()\n",
    "\n",
    "\n",
    "def tokenize_doc(doc):\n",
    "    \"\"\"\n",
    "    Tokenize the input document using NLTK word_tokenize.\n",
    "    \"\"\"\n",
    "    return tokenizer.tokenize(doc)\n",
    "\n",
    "\n",
    "def lemmatize_doc(doc):\n",
    "    \"\"\"\n",
    "    Lemmatize each token in the input document using WordNetLemmatizer.\n",
    "    \"\"\"\n",
    "    return [lemmatizer.lemmatize(token) for token in doc]\n",
    "\n",
    "\n",
    "def remove_stopwords(doc):\n",
    "    \"\"\"\n",
    "    Remove stopwords from the input document.\n",
    "    \"\"\"\n",
    "    return [token for token in doc if token not in stops]\n",
    "\n",
    "\n",
    "def remove_digit(doc):\n",
    "    \"\"\"\n",
    "    Remove tokens that consist entirely of digits.\n",
    "    \"\"\"\n",
    "    return [\n",
    "        token\n",
    "        for token in doc\n",
    "        if not (\n",
    "            token.isdigit()\n",
    "            or token.replace(\".\", \"\").isnumeric()\n",
    "            or token.replace(\",\", \"\").isnumeric()\n",
    "        )\n",
    "    ]\n",
    "\n",
    "\n",
    "def strip_doc(doc):\n",
    "    \"\"\"\n",
    "    Strip leading and trailing whitespace from each token in the input document.\n",
    "    \"\"\"\n",
    "    return [token.strip() for token in doc]\n",
    "\n",
    "\n",
    "def remove_empty_strings(doc):\n",
    "    \"\"\"\n",
    "    Remove empty strings from the list of tokens.\n",
    "    \"\"\"\n",
    "    return [token for token in doc if token != \"''\"]\n",
    "\n",
    "\n",
    "def preprocess(doc):\n",
    "    \"\"\"\n",
    "    Preprocess a text by applying all preprocessing steps.\n",
    "    \"\"\"\n",
    "    doc = lower_doc(doc)\n",
    "    doc = tokenize_doc(doc)\n",
    "    doc = remove_stopwords(doc)\n",
    "    doc = remove_digit(doc)\n",
    "    doc = lemmatize_doc(doc)\n",
    "    doc = strip_doc(doc)\n",
    "    doc = remove_empty_strings(doc)\n",
    "    doc = [token for token in doc if len(token) > 1]\n",
    "    return doc"
   ]
  },
  {
   "cell_type": "markdown",
   "metadata": {},
   "source": [
    "# Loading data"
   ]
  },
  {
   "cell_type": "code",
   "execution_count": 432,
   "metadata": {},
   "outputs": [
    {
     "data": {
      "text/plain": [
       "((1760,), (1760,), (196,), (196,), {0.0, 1.0})"
      ]
     },
     "execution_count": 432,
     "metadata": {},
     "output_type": "execute_result"
    }
   ],
   "source": [
    "x = []\n",
    "y = []\n",
    "with open(\n",
    "    \"dataset/youtube-comment-spam/Youtube-Spam-Dataset.csv\",\n",
    "    mode=\"r\",\n",
    "    encoding=\"utf-8-sig\",\n",
    ") as csvfile:\n",
    "    reader = csv.reader(csvfile, delimiter=\",\")\n",
    "    for i, row in enumerate(reader):\n",
    "        if i > 0:\n",
    "            raw_text = row[3]\n",
    "            label = row[-1]\n",
    "            x.append(raw_text)\n",
    "            y.append(label)\n",
    "\n",
    "x = np.array(x)\n",
    "y = np.array(y)\n",
    "y = y.astype(\"float\")  # Change from int to float\n",
    "\n",
    "x_train, x_test, y_train, y_test = train_test_split(\n",
    "    x, y, test_size=0.10, random_state=42\n",
    ")\n",
    "\n",
    "x_train.shape, y_train.shape, x_test.shape, y_test.shape, set(y_train)"
   ]
  },
  {
   "cell_type": "markdown",
   "metadata": {},
   "source": [
    "# Cleaning and preprocessing"
   ]
  },
  {
   "cell_type": "markdown",
   "metadata": {},
   "source": [
    "See the data, and check the result of cleaning and preprocessing."
   ]
  },
  {
   "cell_type": "code",
   "execution_count": 433,
   "metadata": {},
   "outputs": [
    {
     "name": "stdout",
     "output_type": "stream",
     "text": [
      "Ori: Hello everyone :) I know most of you probably pass up these kind of comments, but for those who are still reading this, thanks! I don’t have any money for advertisements, no chance of getting heard, nothing... If this comes off as spam, sorry. I am a video animator, just trying to make it up into the video animation industry. Please give me the chance to prove myself to you. Please visit my channel, subscribe if you like and thumb this comment up, so everyone can see! Thank You! \n",
      "Cleaned: Hello everyone emoji I know most of you probably pass up these kind of comments but for those who are still reading this thanks I dont have any money for advertisements no chance of getting heard nothing If this comes off as spam sorry I am a video animator just trying to make it up into the video animation industry Please give me the chance to prove myself to you Please visit my channel subscribe if you like and thumb this comment up so everyone can see Thank You\n",
      "Preprocessed: ['hello', 'everyone', 'emoji', 'know', 'probably', 'pas', 'kind', 'comment', 'still', 'reading', 'thanks', 'dont', 'money', 'advertisement', 'chance', 'getting', 'heard', 'nothing', 'come', 'spam', 'sorry', 'video', 'animator', 'trying', 'make', 'video', 'animation', 'industry', 'please', 'give', 'chance', 'prove', 'please', 'visit', 'channel', 'subscribe', 'like', 'thumb', 'comment', 'everyone', 'see', 'thank']\n",
      "\n",
      "Ori: I like\n",
      "Cleaned: I like\n",
      "Preprocessed: ['like']\n",
      "\n",
      "Ori: Hey everyone check out my channel leave a like and subscribe please and if there is a song you want me to do post the name in the comments and I will get on to it(: Thanks\n",
      "Cleaned: Hey everyone check out my channel leave a like and subscribe please and if there is a song you want me to do post the name in the comments and I will get on to it Thanks\n",
      "Preprocessed: ['hey', 'everyone', 'check', 'channel', 'leave', 'like', 'subscribe', 'please', 'song', 'want', 'post', 'name', 'comment', 'get', 'thanks']\n",
      "\n",
      "Ori: subscribers please`﻿\n",
      "Cleaned: subscribers please\n",
      "Preprocessed: ['subscriber', 'please']\n",
      "\n",
      "Ori: I love song ﻿\n",
      "Cleaned: I love song\n",
      "Preprocessed: ['love', 'song']\n",
      "\n",
      "Ori: me shaking my sexy ass on my channel enjoy ^_^ ﻿\n",
      "Cleaned: me shaking my sexy ass on my channel enjoy\n",
      "Preprocessed: ['shaking', 'sexy', 'as', 'channel', 'enjoy']\n",
      "\n",
      "Ori: Is that Charlie from lost?<br />﻿\n",
      "Cleaned: Is that Charlie from lostbr\n",
      "Preprocessed: ['charlie', 'lostbr']\n",
      "\n",
      "Ori: Never gets old best song ever  ❤﻿\n",
      "Cleaned: Never gets old best song ever\n",
      "Preprocessed: ['never', 'get', 'old', 'best', 'song', 'ever']\n",
      "\n",
      "Ori: epic﻿\n",
      "Cleaned: epic\n",
      "Preprocessed: ['epic']\n",
      "\n",
      "Ori: imagine if this guy put adsense on with all these views... u could pay ur  morgage﻿\n",
      "Cleaned: imagine if this guy put adsense on with all these views u could pay ur morgage\n",
      "Preprocessed: ['imagine', 'guy', 'put', 'adsense', 'view', 'could', 'pay', 'ur', 'morgage']\n",
      "\n"
     ]
    }
   ],
   "source": [
    "random_idx = np.random.randint(0, x_train.shape[0], size=10)\n",
    "for raw_text in x_train[random_idx]:\n",
    "    print(f\"Ori: {raw_text}\")\n",
    "    print(f\"Cleaned: {clean(raw_text)}\")\n",
    "    print(f\"Preprocessed: {preprocess(clean(raw_text))}\")\n",
    "    print()"
   ]
  },
  {
   "cell_type": "markdown",
   "metadata": {},
   "source": [
    "Looks okay so we can clean and preprocess the text."
   ]
  },
  {
   "cell_type": "code",
   "execution_count": 434,
   "metadata": {},
   "outputs": [],
   "source": [
    "x_train_preprocessed = ([preprocess(clean(xi)) for xi in x_train])\n",
    "x_test_preprocessed = ([preprocess(clean(xi)) for xi in x_test])"
   ]
  },
  {
   "cell_type": "markdown",
   "metadata": {},
   "source": [
    "Then some text will be fully erased because they contains nothing. We have to exclude such text."
   ]
  },
  {
   "cell_type": "code",
   "execution_count": 435,
   "metadata": {},
   "outputs": [
    {
     "data": {
      "text/plain": [
       "(1756, (1756,), 196, (196,))"
      ]
     },
     "execution_count": 435,
     "metadata": {},
     "output_type": "execute_result"
    }
   ],
   "source": [
    "idx_with_zeros = [idx for idx, sublist in enumerate(x_train_preprocessed) if len(sublist) == 0]\n",
    "x_train_preprocessed = [x for idx, x in enumerate(x_train_preprocessed) if idx not in idx_with_zeros]\n",
    "y_train = np.array([y for idx, y in enumerate(y_train) if idx not in idx_with_zeros])\n",
    "\n",
    "idx_with_zeros = [idx for idx, sublist in enumerate(x_test_preprocessed) if len(sublist) == 0]\n",
    "x_test_preprocessed = [x for idx, x in enumerate(x_test_preprocessed) if idx not in idx_with_zeros]\n",
    "y_test = np.array([y for idx, y in enumerate(y_test) if idx not in idx_with_zeros])\n",
    "\n",
    "assert len(x_train_preprocessed) == y_train.shape[0]\n",
    "assert len(x_test_preprocessed) == y_test.shape[0]\n",
    "len(x_train_preprocessed), y_train.shape, len(x_test_preprocessed), y_test.shape"
   ]
  },
  {
   "cell_type": "markdown",
   "metadata": {},
   "source": [
    "# Embedding"
   ]
  },
  {
   "cell_type": "markdown",
   "metadata": {},
   "source": [
    "## Fasttext"
   ]
  },
  {
   "cell_type": "markdown",
   "metadata": {},
   "source": [
    "We will use fasttext to create embedding."
   ]
  },
  {
   "cell_type": "code",
   "execution_count": 436,
   "metadata": {},
   "outputs": [],
   "source": [
    "model = FastText(sentences=x_train_preprocessed, vector_size=20, epochs=100)"
   ]
  },
  {
   "cell_type": "markdown",
   "metadata": {},
   "source": [
    "Let's see the embedding result."
   ]
  },
  {
   "cell_type": "code",
   "execution_count": 437,
   "metadata": {},
   "outputs": [
    {
     "data": {
      "text/plain": [
       "array([ 2.100037  , -0.32556117,  0.8194484 ,  0.5022681 , -0.3093285 ,\n",
       "        0.81594664, -0.7883917 , -0.11111141, -1.0363059 ,  0.800247  ,\n",
       "        1.2432474 , -0.1782905 ,  0.04216917, -0.43907425, -0.36337426,\n",
       "        0.39155284, -0.04192329, -0.7364609 ,  0.28817624, -0.3142197 ],\n",
       "      dtype=float32)"
      ]
     },
     "execution_count": 437,
     "metadata": {},
     "output_type": "execute_result"
    }
   ],
   "source": [
    "model.wv[\"shuffling\"]"
   ]
  },
  {
   "cell_type": "markdown",
   "metadata": {},
   "source": [
    "It can even embed full sentences."
   ]
  },
  {
   "cell_type": "code",
   "execution_count": 438,
   "metadata": {},
   "outputs": [
    {
     "data": {
      "text/plain": [
       "[('verse', 0.8887656927108765),\n",
       " ('everyday', 0.873877763748169),\n",
       " ('everyone', 0.8161255121231079),\n",
       " ('every', 0.7015671133995056),\n",
       " ('everything', 0.688934326171875),\n",
       " ('shuffling', 0.6814234852790833),\n",
       " ('gaming', 0.6546387672424316),\n",
       " ('kind', 0.6524094343185425),\n",
       " ('singing', 0.6401467323303223),\n",
       " ('also', 0.631927490234375)]"
      ]
     },
     "execution_count": 438,
     "metadata": {},
     "output_type": "execute_result"
    }
   ],
   "source": [
    "model.wv.most_similar(\"everyday i am shuffling\")"
   ]
  },
  {
   "cell_type": "markdown",
   "metadata": {},
   "source": [
    "Then we replace each word with its vector representation."
   ]
  },
  {
   "cell_type": "code",
   "execution_count": 439,
   "metadata": {},
   "outputs": [],
   "source": [
    "x_train_vector = [np.array([model.wv[word] for word in doc]) for doc in x_train_preprocessed]\n",
    "x_test_vector = [np.array([model.wv[word] for word in doc]) for doc in x_test_preprocessed]"
   ]
  },
  {
   "cell_type": "markdown",
   "metadata": {},
   "source": [
    "But then we see out input has different length (because sentences have different number of words.)"
   ]
  },
  {
   "cell_type": "code",
   "execution_count": 440,
   "metadata": {},
   "outputs": [
    {
     "data": {
      "text/plain": [
       "([(4, 20), (11, 20), (3, 20), (3, 20), (6, 20)],\n",
       " [(2, 20), (4, 20), (3, 20), (50, 20), (4, 20)])"
      ]
     },
     "execution_count": 440,
     "metadata": {},
     "output_type": "execute_result"
    }
   ],
   "source": [
    "[x.shape for x in x_train_vector][:5], [x.shape for x in x_test_vector][:5]"
   ]
  },
  {
   "cell_type": "code",
   "execution_count": 441,
   "metadata": {},
   "outputs": [
    {
     "data": {
      "image/png": "[encoded data removed]",
      "text/plain": [
       "<Figure size 640x480 with 1 Axes>"
      ]
     },
     "metadata": {},
     "output_type": "display_data"
    }
   ],
   "source": [
    "import matplotlib.pyplot as plt\n",
    "\n",
    "\n",
    "sentence_lengths = np.array([x.shape[0] for x in x_train_vector])\n",
    "\n",
    "plt.hist(sentence_lengths)\n",
    "plt.show()"
   ]
  },
  {
   "cell_type": "markdown",
   "metadata": {},
   "source": [
    "But they correctly have 2 dimensions (num_sentence, vector_size)."
   ]
  },
  {
   "cell_type": "code",
   "execution_count": 442,
   "metadata": {},
   "outputs": [
    {
     "data": {
      "text/plain": [
       "(0, 0)"
      ]
     },
     "execution_count": 442,
     "metadata": {},
     "output_type": "execute_result"
    }
   ],
   "source": [
    "assert sum([len(x.shape) != 2 for x in x_train_vector]) == 0\n",
    "assert sum([len(x.shape) != 2 for x in x_test_vector]) == 0\n",
    "sum([len(x.shape) != 2 for x in x_train_vector]), sum([len(x.shape) != 2 for x in x_test_vector])"
   ]
  },
  {
   "cell_type": "markdown",
   "metadata": {},
   "source": [
    "Therefore we need to add padding to each sentence. I will use max_len = 10 to make the training faster and avoid vanishing gradient problem."
   ]
  },
  {
   "cell_type": "code",
   "execution_count": 443,
   "metadata": {},
   "outputs": [],
   "source": [
    "max_seq_length = 10"
   ]
  },
  {
   "cell_type": "code",
   "execution_count": 444,
   "metadata": {},
   "outputs": [],
   "source": [
    "for i, _ in enumerate(x_train_vector):\n",
    "    current_length = x_train_vector[i].shape[0]\n",
    "    if current_length < max_seq_length:\n",
    "        to_pad = max_seq_length - current_length\n",
    "        padding = np.zeros((to_pad, 20))  # 20 = vector dimension\n",
    "        x_train_vector[i] = np.concatenate((x_train_vector[i], padding))\n",
    "    # If there are sentences longer than max_seq_length, cut\n",
    "    else:\n",
    "        x_train_vector[i] = x_train_vector[i][:max_seq_length]\n",
    "\n",
    "\n",
    "for i, _ in enumerate(x_test_vector):\n",
    "    current_length = x_test_vector[i].shape[0]\n",
    "    if current_length < max_seq_length:\n",
    "        to_pad = max_seq_length - current_length\n",
    "        padding = np.zeros((to_pad, 20))  # 20 = vector dimension\n",
    "        x_test_vector[i] = np.concatenate((x_test_vector[i], padding))\n",
    "    # If there are sentences longer than max_seq_length, cut\n",
    "    else:\n",
    "        x_test_vector[i] = x_test_vector[i][:max_seq_length]"
   ]
  },
  {
   "cell_type": "markdown",
   "metadata": {},
   "source": [
    "Now we check that everything is good."
   ]
  },
  {
   "cell_type": "code",
   "execution_count": 445,
   "metadata": {},
   "outputs": [
    {
     "name": "stdout",
     "output_type": "stream",
     "text": [
      "(1756, 10, 20) (196, 10, 20) <class 'numpy.ndarray'> <class 'numpy.ndarray'>\n",
      "(1756,) (196,) <class 'numpy.ndarray'> <class 'numpy.ndarray'>\n"
     ]
    }
   ],
   "source": [
    "x_train_vector = np.array(x_train_vector)\n",
    "x_test_vector = np.array(x_test_vector)\n",
    "y_train = np.array(y_train)\n",
    "y_test = np.array(y_test)\n",
    "\n",
    "print(x_train_vector.shape, x_test_vector.shape, type(x_train_vector), type(x_test_vector))\n",
    "print(y_train.shape, y_test.shape, type(y_train), type(y_test))"
   ]
  },
  {
   "cell_type": "markdown",
   "metadata": {},
   "source": [
    "## Skipped: standardization\n",
    "\n",
    "we skip this because we do minmax scaling after this so no need."
   ]
  },
  {
   "cell_type": "markdown",
   "metadata": {},
   "source": [
    "But now we see that the values are not standardized."
   ]
  },
  {
   "cell_type": "code",
   "execution_count": 446,
   "metadata": {},
   "outputs": [],
   "source": [
    "# x_train_vector.mean(axis=(0, 1)), x_test_vector.mean(axis=(0, 1))"
   ]
  },
  {
   "cell_type": "code",
   "execution_count": 447,
   "metadata": {},
   "outputs": [],
   "source": [
    "# x_train_vector.max(axis=(0, 1)), x_test_vector.max(axis=(0, 1))"
   ]
  },
  {
   "cell_type": "markdown",
   "metadata": {},
   "source": [
    "We will standardize them along the embedding dimension"
   ]
  },
  {
   "cell_type": "code",
   "execution_count": 448,
   "metadata": {},
   "outputs": [],
   "source": [
    "# mean = x_train_vector.mean(axis=(0, 1))  # Mean of each embedding dimension (20 dims)\n",
    "# std = x_train_vector.std(axis=(0, 1))  # STD of each embedding dimension (20 dims)\n",
    "# # Avoid division by zero in case std is zero for any dimension\n",
    "# std[std == 0] = 1\n",
    "# mean, std"
   ]
  },
  {
   "cell_type": "code",
   "execution_count": 449,
   "metadata": {},
   "outputs": [],
   "source": [
    "# x_train_vector = (x_train_vector - mean) / std\n",
    "# x_test_vector = (x_test_vector - mean) / std\n",
    "\n",
    "# print(x_train_vector.mean(axis=(0, 1)).round(3), x_test_vector.mean(axis=(0, 1)).round(3))\n",
    "# print()\n",
    "# print(x_train_vector.std(axis=(0, 1)).round(3), x_test_vector.std(axis=(0, 1)).round(3))"
   ]
  },
  {
   "cell_type": "markdown",
   "metadata": {},
   "source": [
    "## MinMax scaling"
   ]
  },
  {
   "cell_type": "markdown",
   "metadata": {},
   "source": [
    "Now each embedding dimension is standardized but the range is still too big. Let's do MinMax scaling. We'll do per dimension too."
   ]
  },
  {
   "cell_type": "code",
   "execution_count": 450,
   "metadata": {},
   "outputs": [
    {
     "data": {
      "text/plain": [
       "(array([5.00327587, 6.1762681 , 5.60296392, 4.4377346 , 3.59969211,\n",
       "        5.5957098 , 4.13127899, 6.02035379, 5.25766945, 2.74045086,\n",
       "        9.47756767, 5.16804314, 4.64546633, 2.61633706, 5.92189789,\n",
       "        3.23530293, 4.87601566, 4.56241798, 4.42082071, 6.06893301]),\n",
       " array([-4.42089939, -4.34508228, -2.02596092, -2.57133055, -3.58583617,\n",
       "        -3.53691268, -6.62822676, -4.02684927, -3.2152977 , -9.39277554,\n",
       "        -4.49622059, -3.47398663, -4.59374619, -4.97825241, -3.67652035,\n",
       "        -4.40869284, -6.15673208, -4.65572691, -3.78634834, -3.414891  ]))"
      ]
     },
     "execution_count": 450,
     "metadata": {},
     "output_type": "execute_result"
    }
   ],
   "source": [
    "x_train_vector.max(axis=(0, 1)), x_train_vector.min(axis=(0, 1))"
   ]
  },
  {
   "cell_type": "code",
   "execution_count": 451,
   "metadata": {},
   "outputs": [],
   "source": [
    "for dim in range(x_train_vector.shape[2]):  # Iterate per dim\n",
    "    min_val = x_train_vector[:, :, dim].min()\n",
    "    max_val = x_train_vector[:, :, dim].max()\n",
    "    # for training data\n",
    "    scaled = (x_train_vector[:, :, dim] - min_val) / (max_val - min_val)\n",
    "    x_train_vector[:, :, dim] = scaled\n",
    "    # for test data\n",
    "    scaled = (x_test_vector[:, :, dim] - min_val) / (max_val - min_val)\n",
    "    x_test_vector[:, :, dim] = scaled"
   ]
  },
  {
   "cell_type": "markdown",
   "metadata": {},
   "source": [
    "Check the result:"
   ]
  },
  {
   "cell_type": "code",
   "execution_count": 452,
   "metadata": {},
   "outputs": [
    {
     "data": {
      "text/plain": [
       "(array([1., 1., 1., 1., 1., 1., 1., 1., 1., 1., 1., 1., 1., 1., 1., 1., 1.,\n",
       "        1., 1., 1.]),\n",
       " array([0., 0., 0., 0., 0., 0., 0., 0., 0., 0., 0., 0., 0., 0., 0., 0., 0.,\n",
       "        0., 0., 0.]))"
      ]
     },
     "execution_count": 452,
     "metadata": {},
     "output_type": "execute_result"
    }
   ],
   "source": [
    "x_train_vector.max(axis=(0, 1)), x_train_vector.min(axis=(0, 1))"
   ]
  },
  {
   "cell_type": "code",
   "execution_count": 453,
   "metadata": {},
   "outputs": [
    {
     "data": {
      "text/plain": [
       "(array([0.8898302 , 1.        , 1.        , 1.        , 1.        ,\n",
       "        0.93582054, 1.        , 0.88356315, 1.        , 1.        ,\n",
       "        1.        , 1.        , 0.91588598, 1.        , 1.        ,\n",
       "        1.        , 1.        , 0.92449699, 0.96660466, 0.83498649]),\n",
       " array([0.        , 0.        , 0.        , 0.        , 0.04886123,\n",
       "        0.        , 0.        , 0.13224873, 0.        , 0.35440212,\n",
       "        0.        , 0.05125452, 0.07828695, 0.        , 0.        ,\n",
       "        0.        , 0.18119976, 0.        , 0.        , 0.01856715]))"
      ]
     },
     "execution_count": 453,
     "metadata": {},
     "output_type": "execute_result"
    }
   ],
   "source": [
    "x_test_vector.max(axis=(0, 1)), x_test_vector.min(axis=(0, 1))"
   ]
  },
  {
   "cell_type": "markdown",
   "metadata": {},
   "source": [
    "# Dataloader"
   ]
  },
  {
   "cell_type": "code",
   "execution_count": 454,
   "metadata": {},
   "outputs": [],
   "source": [
    "import torch\n",
    "import torch.nn as nn\n",
    "import torch.optim as optim\n",
    "from torch.utils.data import DataLoader, Dataset\n",
    "from sklearn.preprocessing import LabelEncoder\n",
    "from sklearn.model_selection import train_test_split"
   ]
  },
  {
   "cell_type": "code",
   "execution_count": 455,
   "metadata": {},
   "outputs": [
    {
     "name": "stdout",
     "output_type": "stream",
     "text": [
      "Batch 1\n",
      "Inputs shape: torch.Size([4, 10, 20])\n",
      "Targets shape: torch.Size([4, 1])\n",
      "Inputs: tensor([[[0.5887, 0.4231, 0.3735, 0.4818, 0.5009, 0.4565, 0.6538, 0.4783,\n",
      "          0.5024, 0.6981, 0.1539, 0.3498, 0.6011, 0.5022, 0.3830, 0.7214,\n",
      "          0.6707, 0.6246, 0.5275, 0.4659],\n",
      "         [0.4255, 0.4267, 0.3357, 0.4355, 0.6235, 0.5240, 0.6701, 0.4528,\n",
      "          0.5019, 0.7999, 0.2763, 0.5106, 0.5011, 0.6675, 0.2743, 0.6329,\n",
      "          0.6562, 0.6090, 0.5768, 0.4605],\n",
      "         [0.6044, 0.5027, 0.3103, 0.2376, 0.4996, 0.3246, 0.7558, 0.3520,\n",
      "          0.4525, 0.7173, 0.3085, 0.4485, 0.5329, 0.7693, 0.3273, 0.6127,\n",
      "          0.5482, 0.5464, 0.5130, 0.3554],\n",
      "         [0.4451, 0.4206, 0.3302, 0.3548, 0.4022, 0.6297, 0.6599, 0.4312,\n",
      "          0.4705, 0.6410, 0.2713, 0.4535, 0.3883, 0.6828, 0.3365, 0.5248,\n",
      "          0.6440, 0.6097, 0.5415, 0.5420],\n",
      "         [0.4691, 0.4130, 0.2656, 0.3669, 0.4990, 0.3873, 0.6160, 0.4008,\n",
      "          0.3795, 0.7741, 0.3218, 0.4020, 0.4972, 0.6555, 0.3830, 0.5768,\n",
      "          0.5580, 0.5051, 0.4613, 0.3601],\n",
      "         [0.4691, 0.4130, 0.2656, 0.3669, 0.4990, 0.3873, 0.6160, 0.4008,\n",
      "          0.3795, 0.7741, 0.3218, 0.4020, 0.4972, 0.6555, 0.3830, 0.5768,\n",
      "          0.5580, 0.5051, 0.4613, 0.3601],\n",
      "         [0.4691, 0.4130, 0.2656, 0.3669, 0.4990, 0.3873, 0.6160, 0.4008,\n",
      "          0.3795, 0.7741, 0.3218, 0.4020, 0.4972, 0.6555, 0.3830, 0.5768,\n",
      "          0.5580, 0.5051, 0.4613, 0.3601],\n",
      "         [0.4691, 0.4130, 0.2656, 0.3669, 0.4990, 0.3873, 0.6160, 0.4008,\n",
      "          0.3795, 0.7741, 0.3218, 0.4020, 0.4972, 0.6555, 0.3830, 0.5768,\n",
      "          0.5580, 0.5051, 0.4613, 0.3601],\n",
      "         [0.4691, 0.4130, 0.2656, 0.3669, 0.4990, 0.3873, 0.6160, 0.4008,\n",
      "          0.3795, 0.7741, 0.3218, 0.4020, 0.4972, 0.6555, 0.3830, 0.5768,\n",
      "          0.5580, 0.5051, 0.4613, 0.3601],\n",
      "         [0.4691, 0.4130, 0.2656, 0.3669, 0.4990, 0.3873, 0.6160, 0.4008,\n",
      "          0.3795, 0.7741, 0.3218, 0.4020, 0.4972, 0.6555, 0.3830, 0.5768,\n",
      "          0.5580, 0.5051, 0.4613, 0.3601]],\n",
      "\n",
      "        [[0.2884, 0.4991, 0.2565, 0.4802, 0.5003, 0.4440, 0.7949, 0.4455,\n",
      "          0.3849, 0.7399, 0.4263, 0.4400, 0.6591, 0.7483, 0.3003, 0.7045,\n",
      "          0.6969, 0.5264, 0.5278, 0.3471],\n",
      "         [0.4361, 0.3981, 0.3511, 0.3268, 0.4069, 0.4002, 0.6361, 0.3324,\n",
      "          0.3335, 0.7360, 0.4278, 0.3972, 0.6070, 0.7485, 0.2936, 0.7030,\n",
      "          0.5674, 0.4683, 0.5792, 0.2909],\n",
      "         [0.5145, 0.4409, 0.3436, 0.4777, 0.6266, 0.3729, 0.5596, 0.5181,\n",
      "          0.4238, 0.7132, 0.2909, 0.4822, 0.5346, 0.6413, 0.4037, 0.6084,\n",
      "          0.4794, 0.3971, 0.6080, 0.3167],\n",
      "         [0.4459, 0.6323, 0.3198, 0.4596, 0.6077, 0.2044, 0.7368, 0.5278,\n",
      "          0.2695, 0.7422, 0.3707, 0.4790, 0.3552, 0.9408, 0.3264, 0.3533,\n",
      "          0.5302, 0.4165, 0.4831, 0.4009],\n",
      "         [0.5145, 0.4409, 0.3436, 0.4777, 0.6266, 0.3729, 0.5596, 0.5181,\n",
      "          0.4238, 0.7132, 0.2909, 0.4822, 0.5346, 0.6413, 0.4037, 0.6084,\n",
      "          0.4794, 0.3971, 0.6080, 0.3167],\n",
      "         [0.5051, 0.4275, 0.5035, 0.2122, 0.7021, 0.5452, 0.5166, 0.6213,\n",
      "          0.2958, 0.5258, 0.4033, 0.3951, 0.6382, 0.4634, 0.2631, 0.7969,\n",
      "          0.2035, 0.3850, 0.7349, 0.3693],\n",
      "         [0.6574, 0.5377, 0.2619, 0.4752, 0.8021, 0.4460, 0.5138, 0.6238,\n",
      "          0.1615, 0.5521, 0.3468, 0.5169, 0.5402, 0.5870, 0.2816, 0.5426,\n",
      "          0.3268, 0.3399, 0.8370, 0.1133],\n",
      "         [0.5145, 0.4409, 0.3436, 0.4777, 0.6266, 0.3729, 0.5596, 0.5181,\n",
      "          0.4238, 0.7132, 0.2909, 0.4822, 0.5346, 0.6413, 0.4037, 0.6084,\n",
      "          0.4794, 0.3971, 0.6080, 0.3167],\n",
      "         [0.4161, 0.3954, 0.3349, 0.6293, 0.6010, 0.4314, 0.6032, 0.4168,\n",
      "          0.5915, 0.7314, 0.4445, 0.4838, 0.7762, 0.5003, 0.5123, 0.2636,\n",
      "          0.5987, 0.2956, 0.6143, 0.4294],\n",
      "         [0.4175, 0.5201, 0.5740, 0.0000, 0.5638, 0.6667, 0.5567, 0.5357,\n",
      "          0.2581, 0.5193, 0.4415, 0.5887, 0.7983, 0.3710, 0.2869, 0.9640,\n",
      "          0.1812, 0.3587, 0.6310, 0.1815]],\n",
      "\n",
      "        [[0.5887, 0.4231, 0.3735, 0.4818, 0.5009, 0.4565, 0.6538, 0.4783,\n",
      "          0.5024, 0.6981, 0.1539, 0.3498, 0.6011, 0.5022, 0.3830, 0.7214,\n",
      "          0.6707, 0.6246, 0.5275, 0.4659],\n",
      "         [0.5887, 0.4231, 0.3735, 0.4818, 0.5009, 0.4565, 0.6538, 0.4783,\n",
      "          0.5024, 0.6981, 0.1539, 0.3498, 0.6011, 0.5022, 0.3830, 0.7214,\n",
      "          0.6707, 0.6246, 0.5275, 0.4659],\n",
      "         [0.7612, 0.2789, 0.2646, 0.3879, 0.5945, 0.6333, 0.5072, 0.2842,\n",
      "          0.5195, 0.8379, 0.3759, 0.0851, 0.4694, 0.6728, 0.3741, 0.6276,\n",
      "          0.6667, 0.6692, 0.7713, 0.3791],\n",
      "         [0.4691, 0.4130, 0.2656, 0.3669, 0.4990, 0.3873, 0.6160, 0.4008,\n",
      "          0.3795, 0.7741, 0.3218, 0.4020, 0.4972, 0.6555, 0.3830, 0.5768,\n",
      "          0.5580, 0.5051, 0.4613, 0.3601],\n",
      "         [0.4691, 0.4130, 0.2656, 0.3669, 0.4990, 0.3873, 0.6160, 0.4008,\n",
      "          0.3795, 0.7741, 0.3218, 0.4020, 0.4972, 0.6555, 0.3830, 0.5768,\n",
      "          0.5580, 0.5051, 0.4613, 0.3601],\n",
      "         [0.4691, 0.4130, 0.2656, 0.3669, 0.4990, 0.3873, 0.6160, 0.4008,\n",
      "          0.3795, 0.7741, 0.3218, 0.4020, 0.4972, 0.6555, 0.3830, 0.5768,\n",
      "          0.5580, 0.5051, 0.4613, 0.3601],\n",
      "         [0.4691, 0.4130, 0.2656, 0.3669, 0.4990, 0.3873, 0.6160, 0.4008,\n",
      "          0.3795, 0.7741, 0.3218, 0.4020, 0.4972, 0.6555, 0.3830, 0.5768,\n",
      "          0.5580, 0.5051, 0.4613, 0.3601],\n",
      "         [0.4691, 0.4130, 0.2656, 0.3669, 0.4990, 0.3873, 0.6160, 0.4008,\n",
      "          0.3795, 0.7741, 0.3218, 0.4020, 0.4972, 0.6555, 0.3830, 0.5768,\n",
      "          0.5580, 0.5051, 0.4613, 0.3601],\n",
      "         [0.4691, 0.4130, 0.2656, 0.3669, 0.4990, 0.3873, 0.6160, 0.4008,\n",
      "          0.3795, 0.7741, 0.3218, 0.4020, 0.4972, 0.6555, 0.3830, 0.5768,\n",
      "          0.5580, 0.5051, 0.4613, 0.3601],\n",
      "         [0.4691, 0.4130, 0.2656, 0.3669, 0.4990, 0.3873, 0.6160, 0.4008,\n",
      "          0.3795, 0.7741, 0.3218, 0.4020, 0.4972, 0.6555, 0.3830, 0.5768,\n",
      "          0.5580, 0.5051, 0.4613, 0.3601]],\n",
      "\n",
      "        [[0.6044, 0.5027, 0.3103, 0.2376, 0.4996, 0.3246, 0.7558, 0.3520,\n",
      "          0.4525, 0.7173, 0.3085, 0.4485, 0.5329, 0.7693, 0.3273, 0.6127,\n",
      "          0.5482, 0.5464, 0.5130, 0.3554],\n",
      "         [0.4839, 0.4509, 0.3481, 0.3063, 0.5193, 0.3049, 0.6541, 0.4061,\n",
      "          0.4007, 0.7234, 0.3854, 0.4496, 0.4568, 0.7197, 0.4097, 0.5898,\n",
      "          0.5908, 0.4648, 0.5524, 0.3805],\n",
      "         [0.4463, 0.4183, 0.3189, 0.3750, 0.5131, 0.3516, 0.5795, 0.3634,\n",
      "          0.3866, 0.8271, 0.3839, 0.3746, 0.4811, 0.7654, 0.4507, 0.7139,\n",
      "          0.6566, 0.6021, 0.4441, 0.2713],\n",
      "         [0.4691, 0.4130, 0.2656, 0.3669, 0.4990, 0.3873, 0.6160, 0.4008,\n",
      "          0.3795, 0.7741, 0.3218, 0.4020, 0.4972, 0.6555, 0.3830, 0.5768,\n",
      "          0.5580, 0.5051, 0.4613, 0.3601],\n",
      "         [0.4691, 0.4130, 0.2656, 0.3669, 0.4990, 0.3873, 0.6160, 0.4008,\n",
      "          0.3795, 0.7741, 0.3218, 0.4020, 0.4972, 0.6555, 0.3830, 0.5768,\n",
      "          0.5580, 0.5051, 0.4613, 0.3601],\n",
      "         [0.4691, 0.4130, 0.2656, 0.3669, 0.4990, 0.3873, 0.6160, 0.4008,\n",
      "          0.3795, 0.7741, 0.3218, 0.4020, 0.4972, 0.6555, 0.3830, 0.5768,\n",
      "          0.5580, 0.5051, 0.4613, 0.3601],\n",
      "         [0.4691, 0.4130, 0.2656, 0.3669, 0.4990, 0.3873, 0.6160, 0.4008,\n",
      "          0.3795, 0.7741, 0.3218, 0.4020, 0.4972, 0.6555, 0.3830, 0.5768,\n",
      "          0.5580, 0.5051, 0.4613, 0.3601],\n",
      "         [0.4691, 0.4130, 0.2656, 0.3669, 0.4990, 0.3873, 0.6160, 0.4008,\n",
      "          0.3795, 0.7741, 0.3218, 0.4020, 0.4972, 0.6555, 0.3830, 0.5768,\n",
      "          0.5580, 0.5051, 0.4613, 0.3601],\n",
      "         [0.4691, 0.4130, 0.2656, 0.3669, 0.4990, 0.3873, 0.6160, 0.4008,\n",
      "          0.3795, 0.7741, 0.3218, 0.4020, 0.4972, 0.6555, 0.3830, 0.5768,\n",
      "          0.5580, 0.5051, 0.4613, 0.3601],\n",
      "         [0.4691, 0.4130, 0.2656, 0.3669, 0.4990, 0.3873, 0.6160, 0.4008,\n",
      "          0.3795, 0.7741, 0.3218, 0.4020, 0.4972, 0.6555, 0.3830, 0.5768,\n",
      "          0.5580, 0.5051, 0.4613, 0.3601]]])\n",
      "Targets: tensor([[1.],\n",
      "        [0.],\n",
      "        [1.],\n",
      "        [0.]])\n"
     ]
    }
   ],
   "source": [
    "class TextDataset(Dataset):\n",
    "    def __init__(self, texts, labels):\n",
    "        self.texts = texts\n",
    "        self.labels = labels\n",
    "    def __len__(self):\n",
    "        return len(self.texts)\n",
    "    def __getitem__(self, index):\n",
    "        return (\n",
    "            self.texts[index].astype(\"float32\"), \n",
    "            self.labels[index].reshape(-1).astype(\"float32\")\n",
    "        )\n",
    "\n",
    "train_dataset = TextDataset(x_train_vector, y_train)\n",
    "test_dataset = TextDataset(x_test_vector, y_test)\n",
    "batch_size = 4\n",
    "train_dataloader = DataLoader(train_dataset, batch_size=batch_size)\n",
    "test_dataloader = DataLoader(test_dataset, batch_size=batch_size)\n",
    "\n",
    "for batch_idx, (inputs, targets) in enumerate(train_dataloader):\n",
    "    print(f\"Batch {batch_idx + 1}\")\n",
    "    print(f\"Inputs shape: {inputs.shape}\")  # Should be (batch_size, sequence_length, embedding_dim)\n",
    "    print(f\"Targets shape: {targets.shape}\")  # Should be (batch_size, 1)\n",
    "    print(\"Inputs:\", inputs)\n",
    "    print(\"Targets:\", targets)\n",
    "    break"
   ]
  },
  {
   "cell_type": "markdown",
   "metadata": {},
   "source": [
    "# Model"
   ]
  },
  {
   "cell_type": "code",
   "execution_count": 456,
   "metadata": {},
   "outputs": [
    {
     "name": "stdout",
     "output_type": "stream",
     "text": [
      "tensor([[0.4964],\n",
      "        [0.4963],\n",
      "        [0.4965],\n",
      "        [0.4964]]) torch.Size([4, 1])\n"
     ]
    }
   ],
   "source": [
    "class LSTM(nn.Module):\n",
    "    def __init__(self, input_size, hidden_size, num_stacked_layers):\n",
    "        super(LSTM, self).__init__()\n",
    "        self.input_size = input_size\n",
    "        self.hidden_size = hidden_size\n",
    "        self.num_stacked_layers = num_stacked_layers\n",
    "        self.lstm = nn.LSTM(\n",
    "            input_size=input_size,\n",
    "            hidden_size=hidden_size,\n",
    "            num_layers=num_stacked_layers,\n",
    "            batch_first=True,\n",
    "        )\n",
    "        self.linear = nn.Linear(in_features=hidden_size, out_features=1)\n",
    "\n",
    "    def forward(self, xs):\n",
    "        batch_size = xs.shape[0]\n",
    "        h0 = torch.zeros(self.num_stacked_layers, batch_size, self.hidden_size)\n",
    "        c0 = torch.zeros(self.num_stacked_layers, batch_size, self.hidden_size)\n",
    "        output, hidden = self.lstm(xs, (h0, c0))\n",
    "        output = self.linear(output[:, -1, :])\n",
    "        output = torch.sigmoid(output)\n",
    "        return output\n",
    "\n",
    "\n",
    "lstm = LSTM(input_size=20, hidden_size=64, num_stacked_layers=2)\n",
    "\n",
    "# test if our model is working\n",
    "with torch.no_grad():\n",
    "    print(lstm(inputs), lstm(inputs).shape)"
   ]
  },
  {
   "cell_type": "code",
   "execution_count": 457,
   "metadata": {},
   "outputs": [
    {
     "data": {
      "text/plain": [
       "tensor(0.6931, grad_fn=<BinaryCrossEntropyBackward0>)"
      ]
     },
     "execution_count": 457,
     "metadata": {},
     "output_type": "execute_result"
    }
   ],
   "source": [
    "criterion = nn.BCELoss()\n",
    "loss = criterion(lstm(inputs), targets)\n",
    "loss"
   ]
  },
  {
   "cell_type": "markdown",
   "metadata": {},
   "source": [
    "Let's calculate loss manually to make sure the loss calculation is correct."
   ]
  },
  {
   "cell_type": "code",
   "execution_count": 458,
   "metadata": {},
   "outputs": [
    {
     "data": {
      "text/plain": [
       "(array([[0.49644613],\n",
       "        [0.4963268 ],\n",
       "        [0.49645922],\n",
       "        [0.49641505]], dtype=float32),\n",
       " array([[1.],\n",
       "        [0.],\n",
       "        [1.],\n",
       "        [0.]], dtype=float32))"
      ]
     },
     "execution_count": 458,
     "metadata": {},
     "output_type": "execute_result"
    }
   ],
   "source": [
    "preds = lstm(inputs).detach().numpy()\n",
    "targets = targets.numpy() \n",
    "preds, targets"
   ]
  },
  {
   "cell_type": "code",
   "execution_count": 459,
   "metadata": {},
   "outputs": [
    {
     "data": {
      "text/plain": [
       "0.6931"
      ]
     },
     "execution_count": 459,
     "metadata": {},
     "output_type": "execute_result"
    }
   ],
   "source": [
    "def bceloss(preds, targets, epsilon=1e-12):\n",
    "    \"\"\"\n",
    "    Compute Binary Cross-Entropy (BCE) loss between predictions and targets.\n",
    "    \"\"\"\n",
    "    # Clip predictions to avoid log(0) error\n",
    "    preds = np.clip(preds, epsilon, 1 - epsilon)\n",
    "    # Compute the binary cross-entropy loss\n",
    "    loss = -np.sum(targets * np.log(preds) + (1 - targets) * np.log(1 - preds)) / len(\n",
    "        targets\n",
    "    )\n",
    "\n",
    "    return loss.round(4)\n",
    "\n",
    "\n",
    "assert(bceloss(preds, targets).round(4) == round(loss.item(), 4))\n",
    "bceloss(preds, targets)"
   ]
  },
  {
   "cell_type": "markdown",
   "metadata": {},
   "source": [
    "This looks correct."
   ]
  },
  {
   "cell_type": "markdown",
   "metadata": {},
   "source": [
    "# Training"
   ]
  },
  {
   "cell_type": "code",
   "execution_count": 460,
   "metadata": {},
   "outputs": [
    {
     "name": "stdout",
     "output_type": "stream",
     "text": [
      "Epoch [1/10], Train Loss: 0.6932, Train Accuracy: 0.4977, Validation Loss: 0.6918, Validation Accuracy: 0.6071\n",
      "Epoch [2/10], Train Loss: 0.6899, Train Accuracy: 0.5461, Validation Loss: 0.6887, Validation Accuracy: 0.4388\n",
      "Epoch [3/10], Train Loss: 0.4674, Train Accuracy: 0.7921, Validation Loss: 0.4635, Validation Accuracy: 0.7857\n",
      "Epoch [4/10], Train Loss: 0.3754, Train Accuracy: 0.8502, Validation Loss: 0.4755, Validation Accuracy: 0.7908\n",
      "Epoch [5/10], Train Loss: 0.3689, Train Accuracy: 0.8554, Validation Loss: 0.4788, Validation Accuracy: 0.7908\n",
      "Epoch [6/10], Train Loss: 0.3651, Train Accuracy: 0.8582, Validation Loss: 0.4780, Validation Accuracy: 0.7959\n",
      "Epoch [7/10], Train Loss: 0.3620, Train Accuracy: 0.8593, Validation Loss: 0.4765, Validation Accuracy: 0.8010\n",
      "Epoch [8/10], Train Loss: 0.3592, Train Accuracy: 0.8588, Validation Loss: 0.4745, Validation Accuracy: 0.8112\n",
      "Epoch [9/10], Train Loss: 0.3567, Train Accuracy: 0.8588, Validation Loss: 0.4722, Validation Accuracy: 0.8112\n",
      "Epoch [10/10], Train Loss: 0.3543, Train Accuracy: 0.8605, Validation Loss: 0.4694, Validation Accuracy: 0.8112\n"
     ]
    }
   ],
   "source": [
    "lr = 0.0001\n",
    "optimizer = optim.Adam(lstm.parameters(), lr=lr)\n",
    "epochs = 10\n",
    "print_step = 1\n",
    "\n",
    "\n",
    "def calculate_accuracy(outputs, targets):\n",
    "    predicted = (outputs >= 0.5).float()\n",
    "    correct = (predicted == targets).sum().item()  # Count correct predictions\n",
    "    return correct / len(targets)  # Return accuracy as a fraction\n",
    "\n",
    "\n",
    "def train_one_epoch():\n",
    "    lstm.train()\n",
    "    running_loss = 0.0\n",
    "    running_accuracy = 0.0\n",
    "    for batch_idx, (xs, ys) in enumerate(train_dataloader):\n",
    "        optimizer.zero_grad()\n",
    "        outputs = lstm(xs)\n",
    "        loss = criterion(outputs, ys)\n",
    "        loss.backward()\n",
    "        optimizer.step()\n",
    "        running_loss += loss.item()\n",
    "        accuracy = calculate_accuracy(outputs, ys)\n",
    "        running_accuracy += accuracy\n",
    "    return running_loss / (batch_idx + 1), running_accuracy / (batch_idx + 1)\n",
    "\n",
    "\n",
    "def val_one_epoch():\n",
    "    lstm.eval()\n",
    "    running_loss = 0.0\n",
    "    running_accuracy = 0.0\n",
    "    with torch.no_grad():\n",
    "        for batch_idx, (xs, ys) in enumerate(test_dataloader):\n",
    "            outputs = lstm(xs)\n",
    "            loss = criterion(outputs, ys)\n",
    "            running_loss += loss.item()\n",
    "            accuracy = calculate_accuracy(outputs, ys)\n",
    "            running_accuracy += accuracy\n",
    "    return running_loss / (batch_idx + 1), running_accuracy / (batch_idx + 1)\n",
    "\n",
    "\n",
    "train_losses = []\n",
    "test_losses = []\n",
    "train_accuracies = []\n",
    "test_accuracies = []\n",
    "\n",
    "for epoch in range(epochs):\n",
    "    # Training step\n",
    "    train_loss, train_accuracy = train_one_epoch()\n",
    "    train_losses.append(train_loss)\n",
    "    train_accuracies.append(train_accuracy)\n",
    "\n",
    "    # Validation step\n",
    "    test_loss, test_accuracy = val_one_epoch()\n",
    "    test_losses.append(test_loss)\n",
    "    test_accuracies.append(test_accuracy)\n",
    "\n",
    "    # Print training and validation loss and accuracy\n",
    "    if (epoch + 1) % print_step == 0:\n",
    "        print(\n",
    "            f\"Epoch [{epoch + 1}/{epochs}], \"\n",
    "            f\"Train Loss: {train_loss:.4f}, Train Accuracy: {train_accuracy:.4f}, \"\n",
    "            f\"Validation Loss: {test_loss:.4f}, Validation Accuracy: {test_accuracy:.4f}\"\n",
    "        )"
   ]
  },
  {
   "cell_type": "code",
   "execution_count": 461,
   "metadata": {},
   "outputs": [
    {
     "data": {
      "text/plain": [
       "[]"
      ]
     },
     "execution_count": 461,
     "metadata": {},
     "output_type": "execute_result"
    },
    {
     "data": {
      "image/png": "[encoded data removed]",
      "text/plain": [
       "<Figure size 640x480 with 1 Axes>"
      ]
     },
     "metadata": {},
     "output_type": "display_data"
    }
   ],
   "source": [
    "import matplotlib.pyplot as plt\n",
    "\n",
    "plt.plot(range(len(train_losses)), train_losses)\n",
    "plt.plot()"
   ]
  },
  {
   "cell_type": "code",
   "execution_count": 462,
   "metadata": {},
   "outputs": [
    {
     "name": "stdout",
     "output_type": "stream",
     "text": [
      "tensor([[0.6924],\n",
      "        [0.0748],\n",
      "        [0.7370],\n",
      "        [0.0913]])\n"
     ]
    }
   ],
   "source": [
    "with torch.no_grad():\n",
    "    for batch_idx, (xs, ys) in enumerate(train_dataloader):\n",
    "        outputs = lstm(xs)\n",
    "        print(outputs)\n",
    "        break"
   ]
  },
  {
   "cell_type": "markdown",
   "metadata": {},
   "source": [
    "We succeed in training the model!"
   ]
  },
  {
   "cell_type": "markdown",
   "metadata": {},
   "source": [
    "# See prediction"
   ]
  },
  {
   "cell_type": "code",
   "execution_count": 464,
   "metadata": {},
   "outputs": [
    {
     "name": "stdout",
     "output_type": "stream",
     "text": [
      "Raw text: Charlie from LOST?﻿\n",
      "Preprocessed text: ['charlie', 'lost']\n",
      "True vs  predicted label: 0.0 vs 0.0\n",
      "Prediction is CORRECT.\n",
      "\n",
      "Raw text: BEST SONG EVER X3333333333﻿\n",
      "Preprocessed text: ['best', 'song', 'ever', 'number']\n",
      "True vs  predicted label: 0.0 vs 0.0\n",
      "Prediction is CORRECT.\n",
      "\n",
      "Raw text: Aslamu Lykum... From Pakistan﻿\n",
      "Preprocessed text: ['aslamu', 'lykum', 'pakistan']\n",
      "True vs  predicted label: 0.0 vs 1.0\n",
      "Prediction is INCORRECT.\n",
      "\n",
      "Raw text: I absolutely adore watching football plus I’ve started earning income with out risk from claiming bonus deals. It’s a weird technique where you put money on something with one bookmakers and put money against it on Betfair. You acquire the bonus as income . A lad named Jim Vanstone is selecting the wagers free on his website Vanstone Secrets (Google it!). I have generated about 600 quid so far. And it’s free. I assume the bookmakers pay him to get new men and women, but it succeeds.\n",
      "Preprocessed text: ['absolutely', 'adore', 'watching', 'football', 'plus', 'ive', 'started', 'earning', 'income', 'risk', 'claiming', 'bonus', 'deal', 'weird', 'technique', 'put', 'money', 'something', 'one', 'bookmaker', 'put', 'money', 'betfair', 'acquire', 'bonus', 'income', 'lad', 'named', 'jim', 'vanstone', 'selecting', 'wager', 'free', 'website', 'vanstone', 'secret', 'google', 'generated', 'number', 'quid', 'far', 'free', 'assume', 'bookmaker', 'pay', 'get', 'new', 'men', 'woman', 'succeeds']\n",
      "True vs  predicted label: 0.0 vs 1.0\n",
      "Prediction is INCORRECT.\n",
      "\n",
      "Raw text: I really love this video.. http://www.bubblews.com/account/389088-sheilcen﻿\n",
      "Preprocessed text: ['really', 'love', 'video', 'url']\n",
      "True vs  predicted label: 0.0 vs 1.0\n",
      "Prediction is INCORRECT.\n",
      "\n",
      "Raw text: BEAUTIFUL\n",
      "Preprocessed text: ['beautiful']\n",
      "True vs  predicted label: 0.0 vs 0.0\n",
      "Prediction is CORRECT.\n",
      "\n",
      "Raw text: Hey plz check out my music video. Thanks!! :-)﻿\n",
      "Preprocessed text: ['hey', 'plz', 'check', 'music', 'video', 'thanks', 'emoji']\n",
      "True vs  predicted label: 1.0 vs 1.0\n",
      "Prediction is CORRECT.\n",
      "\n",
      "Raw text: Look and shares my video please :D\n",
      "Preprocessed text: ['look', 'share', 'video', 'please', 'emoji']\n",
      "True vs  predicted label: 1.0 vs 1.0\n",
      "Prediction is CORRECT.\n",
      "\n",
      "Raw text: this song sucks﻿\n",
      "Preprocessed text: ['song', 'suck']\n",
      "True vs  predicted label: 0.0 vs 0.0\n",
      "Prediction is CORRECT.\n",
      "\n",
      "Raw text: Go to my channel if u want to see a fly getting burned alive﻿\n",
      "Preprocessed text: ['go', 'channel', 'want', 'see', 'fly', 'getting', 'burned', 'alive']\n",
      "True vs  predicted label: 1.0 vs 1.0\n",
      "Prediction is CORRECT.\n",
      "\n"
     ]
    }
   ],
   "source": [
    "assert x_test_vector.shape[0] == len(x_test_preprocessed)\n",
    "assert len(x_test) == len(x_test_preprocessed)\n",
    "\n",
    "# Iterate through the test data\n",
    "for i, (vector, clean_text, raw_text, label) in enumerate(\n",
    "    zip(x_test_vector, x_test_preprocessed, x_test, y_test)\n",
    "):\n",
    "    # Reshape the vector and convert to a PyTorch tensor\n",
    "    vector = torch.from_numpy(vector.reshape(1, 10, 20).astype(\"float32\"))\n",
    "\n",
    "    # Get the model prediction\n",
    "    pred = lstm(vector).detach().item()\n",
    "    pred_label = (pred >= 0.5) * 1.0\n",
    "\n",
    "    # Print the results\n",
    "    print(f\"Raw text: {raw_text}\")\n",
    "    print(f\"Preprocessed text: {clean_text}\")\n",
    "    print(f\"True vs  predicted label: {pred_label} vs {label}\")\n",
    "    if pred_label == label:\n",
    "        print(\"Prediction is CORRECT.\")\n",
    "    else:\n",
    "        print(\"Prediction is INCORRECT.\")\n",
    "\n",
    "    print()\n",
    "\n",
    "    # Limit to the first 10 predictions\n",
    "    if i + 1 == 10:\n",
    "        break"
   ]
  }
 ],
 "metadata": {
  "kernelspec": {
   "display_name": "ml",
   "language": "python",
   "name": "python3"
  },
  "language_info": {
   "codemirror_mode": {
    "name": "ipython",
    "version": 3
   },
   "file_extension": ".py",
   "mimetype": "text/x-python",
   "name": "python",
   "nbconvert_exporter": "python",
   "pygments_lexer": "ipython3",
   "version": "3.12.2"
  }
 },
 "nbformat": 4,
 "nbformat_minor": 2
}
